{
  "nbformat": 4,
  "nbformat_minor": 0,
  "metadata": {
    "colab": {
      "name": "association_rules_find_thresholds.ipynb",
      "provenance": [],
      "collapsed_sections": [],
      "toc_visible": true
    },
    "kernelspec": {
      "name": "python3",
      "display_name": "Python 3"
    },
    "language_info": {
      "name": "python"
    }
  },
  "cells": [
    {
      "cell_type": "markdown",
      "source": [
        "# Find thresholds for association rules"
      ],
      "metadata": {
        "id": "RsT8gxdZZOm4"
      }
    },
    {
      "cell_type": "markdown",
      "source": [
        "Instructions: \n",
        "\n",
        "* Replace the proj_name and proj_datafolder in the Configuration section\n",
        "* [optional] replace the cloud drive folder in the Configuration section "
      ],
      "metadata": {
        "id": "5RUZmvXBZVTD"
      }
    },
    {
      "cell_type": "markdown",
      "source": [
        "## Configuration"
      ],
      "metadata": {
        "id": "A-BpLdKAZZ8v"
      }
    },
    {
      "cell_type": "code",
      "source": [
        "proj_name = 'glucosio-android' #'PROJ_NAME'\n",
        "proj_data_folder = './ex_ubuntu/'\n",
        "\n",
        "GDRIVE_FOLDER = 'callgraphCA/codeChangeInCG'"
      ],
      "metadata": {
        "id": "b_wQU9jFQwUZ"
      },
      "execution_count": 1,
      "outputs": []
    },
    {
      "cell_type": "code",
      "execution_count": 2,
      "metadata": {
        "colab": {
          "base_uri": "https://localhost:8080/"
        },
        "id": "E1rQwKgJVOXN",
        "outputId": "56c442cf-744a-43c3-e87a-486c7d617c8f"
      },
      "outputs": [
        {
          "output_type": "stream",
          "name": "stdout",
          "text": [
            "Mounted at /gdrive\n",
            "/gdrive/My Drive/callgraphCA/codeChangeInCG\n"
          ]
        }
      ],
      "source": [
        "from google.colab import drive\n",
        "import os\n",
        " \n",
        "drive.mount('/gdrive')\n",
        "# the project's folder\n",
        "drive_folder = '/gdrive/My Drive/' + GDRIVE_FOLDER\n",
        "os.chdir(drive_folder)\n",
        "print(os.getcwd())"
      ]
    },
    {
      "cell_type": "markdown",
      "source": [
        "## Imports"
      ],
      "metadata": {
        "id": "odHEW53HZmOi"
      }
    },
    {
      "cell_type": "code",
      "source": [
        "!pip install mlxtend\n",
        "\n",
        "#!pip install python-stopwatch\n",
        "# https://github.com/rasbt/mlxtend\n",
        "# http://rasbt.github.io/mlxtend/"
      ],
      "metadata": {
        "id": "30TucLfeyvNy",
        "colab": {
          "base_uri": "https://localhost:8080/"
        },
        "outputId": "ec21686f-a923-415d-c1d9-dfa5fb315fca"
      },
      "execution_count": 3,
      "outputs": [
        {
          "output_type": "stream",
          "name": "stdout",
          "text": [
            "Requirement already satisfied: mlxtend in /usr/local/lib/python3.7/dist-packages (0.14.0)\n",
            "Requirement already satisfied: scikit-learn>=0.18 in /usr/local/lib/python3.7/dist-packages (from mlxtend) (1.0.2)\n",
            "Requirement already satisfied: pandas>=0.17.1 in /usr/local/lib/python3.7/dist-packages (from mlxtend) (1.3.5)\n",
            "Requirement already satisfied: scipy>=0.17 in /usr/local/lib/python3.7/dist-packages (from mlxtend) (1.4.1)\n",
            "Requirement already satisfied: setuptools in /usr/local/lib/python3.7/dist-packages (from mlxtend) (57.4.0)\n",
            "Requirement already satisfied: matplotlib>=1.5.1 in /usr/local/lib/python3.7/dist-packages (from mlxtend) (3.2.2)\n",
            "Requirement already satisfied: numpy>=1.10.4 in /usr/local/lib/python3.7/dist-packages (from mlxtend) (1.19.5)\n",
            "Requirement already satisfied: python-dateutil>=2.1 in /usr/local/lib/python3.7/dist-packages (from matplotlib>=1.5.1->mlxtend) (2.8.2)\n",
            "Requirement already satisfied: pyparsing!=2.0.4,!=2.1.2,!=2.1.6,>=2.0.1 in /usr/local/lib/python3.7/dist-packages (from matplotlib>=1.5.1->mlxtend) (3.0.7)\n",
            "Requirement already satisfied: kiwisolver>=1.0.1 in /usr/local/lib/python3.7/dist-packages (from matplotlib>=1.5.1->mlxtend) (1.3.2)\n",
            "Requirement already satisfied: cycler>=0.10 in /usr/local/lib/python3.7/dist-packages (from matplotlib>=1.5.1->mlxtend) (0.11.0)\n",
            "Requirement already satisfied: pytz>=2017.3 in /usr/local/lib/python3.7/dist-packages (from pandas>=0.17.1->mlxtend) (2018.9)\n",
            "Requirement already satisfied: six>=1.5 in /usr/local/lib/python3.7/dist-packages (from python-dateutil>=2.1->matplotlib>=1.5.1->mlxtend) (1.15.0)\n",
            "Requirement already satisfied: threadpoolctl>=2.0.0 in /usr/local/lib/python3.7/dist-packages (from scikit-learn>=0.18->mlxtend) (3.0.0)\n",
            "Requirement already satisfied: joblib>=0.11 in /usr/local/lib/python3.7/dist-packages (from scikit-learn>=0.18->mlxtend) (1.1.0)\n"
          ]
        }
      ]
    },
    {
      "cell_type": "code",
      "source": [
        "import pandas as pd\n",
        "import sqlite3\n",
        "\n",
        "from mlxtend.frequent_patterns import apriori, association_rules\n",
        "from mlxtend.preprocessing import TransactionEncoder\n",
        "\n",
        "# works with lists, not pandas, no nan values, apostrophe between values of transaction\n",
        "\n",
        "# Parameters:\n",
        "# transactions: typing.Iterable[typing.Union[set, tuple, list]],\n",
        "# min_support: float = 0.5,\n",
        "# min_confidence: float = 0.5,\n",
        "# max_length: int = 8,\n",
        "# verbosity: int = 0,\n",
        "# output_transaction_ids: bool = False,"
      ],
      "metadata": {
        "id": "AMOmfeQ-WIgz"
      },
      "execution_count": 4,
      "outputs": []
    },
    {
      "cell_type": "code",
      "source": [
        "# callgraphCA libraries\n",
        "from analytics.association_rules_thresholds import *"
      ],
      "metadata": {
        "id": "2BZ0VxD_2gs6"
      },
      "execution_count": 5,
      "outputs": []
    },
    {
      "cell_type": "code",
      "source": [
        "import importlib\n",
        "import analytics.association_rules_thresholds\n",
        "\n",
        "importlib.reload(analytics.association_rules_thresholds)\n",
        "from analytics.association_rules_thresholds import *"
      ],
      "metadata": {
        "id": "x5mKqTNWienv"
      },
      "execution_count": 25,
      "outputs": []
    },
    {
      "cell_type": "markdown",
      "source": [
        "## Database connections"
      ],
      "metadata": {
        "id": "VbWIu_5aaBk6"
      }
    },
    {
      "cell_type": "code",
      "source": [
        "ANALYTICS_DB_PATH =  proj_data_folder + proj_name + '_analytics.db'\n",
        "print(ANALYTICS_DB_PATH)\n",
        "os.path.exists(ANALYTICS_DB_PATH)\n",
        "con_analytics_db = sqlite3.connect(ANALYTICS_DB_PATH)"
      ],
      "metadata": {
        "id": "neJPdzztWhFD",
        "colab": {
          "base_uri": "https://localhost:8080/"
        },
        "outputId": "4cae6752-cfcf-472e-c4be-10b09cfc481e"
      },
      "execution_count": 9,
      "outputs": [
        {
          "output_type": "stream",
          "name": "stdout",
          "text": [
            "./ex_ubuntu/glucosio-android_analytics.db\n"
          ]
        }
      ]
    },
    {
      "cell_type": "code",
      "source": [
        "#cur = con_analytics_db.cursor()"
      ],
      "metadata": {
        "id": "krZ_j6EIWxE6"
      },
      "execution_count": null,
      "outputs": []
    },
    {
      "cell_type": "markdown",
      "source": [
        "# On commit and file level"
      ],
      "metadata": {
        "id": "wAH9PY0GxqAU"
      }
    },
    {
      "cell_type": "code",
      "source": [
        "# Get number of rules by threshold with default values\n",
        "rt = get_rules_by_threshold_on_commit_and_file(con_analytics_db)\n",
        "for r in rt:\n",
        "    print(r)"
      ],
      "metadata": {
        "id": "u5rl4PEAsDSh",
        "colab": {
          "base_uri": "https://localhost:8080/"
        },
        "outputId": "356414b7-e659-4b3f-cb47-ce45905b602a"
      },
      "execution_count": 26,
      "outputs": [
        {
          "output_type": "stream",
          "name": "stdout",
          "text": [
            "[0.5, 0]\n",
            "[0.46, 0]\n",
            "[0.42, 0]\n",
            "[0.38, 0]\n",
            "[0.33999999999999997, 0]\n",
            "[0.3, 0]\n",
            "[0.26, 1]\n",
            "[0.21999999999999997, 1]\n",
            "[0.18, 1]\n",
            "[0.14, 3]\n",
            "[0.1, 5]\n"
          ]
        }
      ]
    },
    {
      "cell_type": "code",
      "source": [
        "# Get number of rules by threshold non default values\n",
        "rt = get_rules_by_threshold_on_commit_and_file(con_analytics_db, min_t=0.04, max_t=0.5, n=11, max_nr_rules=250)\n",
        "for r in rt:\n",
        "    print(r)"
      ],
      "metadata": {
        "colab": {
          "base_uri": "https://localhost:8080/"
        },
        "id": "wI8jN0qPPlVq",
        "outputId": "252f1026-e958-4adc-cad6-1b87b38462d7"
      },
      "execution_count": 27,
      "outputs": [
        {
          "output_type": "stream",
          "name": "stdout",
          "text": [
            "[0.5, 0]\n",
            "[0.454, 0]\n",
            "[0.40800000000000003, 0]\n",
            "[0.362, 0]\n",
            "[0.316, 0]\n",
            "[0.27, 1]\n",
            "[0.22399999999999998, 1]\n",
            "[0.178, 1]\n",
            "[0.132, 3]\n",
            "[0.08600000000000002, 6]\n",
            "[0.04, 24]\n"
          ]
        }
      ]
    },
    {
      "cell_type": "markdown",
      "source": [
        "## Extended: On month and file level"
      ],
      "metadata": {
        "id": "tUx6juLTFK_Q"
      }
    },
    {
      "cell_type": "code",
      "source": [
        "# for processing mlxtend apriori\n",
        "sql_statement = \"\"\"select\n",
        "        file_name,\n",
        "        strftime('%Y', date(commit_commiter_datetime)) as iso_yr,\n",
        "        strftime('%m', date(commit_commiter_datetime)) as iso_month,\n",
        "        count(*) as changes_in_month\n",
        "        from file_commit\n",
        "        group by \n",
        "        file_name,\n",
        "        strftime('%Y', date(commit_commiter_datetime)),\n",
        "        strftime('%m', date(commit_commiter_datetime))\"\"\"\n",
        "dfsql = pd.read_sql_query(sql_statement, con_analytics_db)\n",
        "dfsql['yr_m'] = dfsql.apply(lambda row: ''.join(\n",
        "            [str(row.iso_yr), '-', str(row.iso_month)]), axis=1)\n",
        "df_hash = dfsql.groupby('yr_m')['file_name'].apply(list)\n",
        "print(df_hash.head(3)) "
      ],
      "metadata": {
        "id": "NL3NZwGQXRgn",
        "colab": {
          "base_uri": "https://localhost:8080/"
        },
        "outputId": "078406e3-6d04-4bbb-ed07-ae279f058f73"
      },
      "execution_count": 22,
      "outputs": [
        {
          "output_type": "stream",
          "name": "stdout",
          "text": [
            "yr_m\n",
            "2015-08    [ApplicationTest.java, DatabaseHandler.java, D...\n",
            "2015-09    [DatabaseHandler.java, FormatDateTime.java, Gi...\n",
            "2015-10    [ActionTip.java, AssistantAdapter.java, Assist...\n",
            "Name: file_name, dtype: object\n"
          ]
        }
      ]
    },
    {
      "cell_type": "code",
      "source": [
        "# generate scarce matrix\n",
        "te = TransactionEncoder()\n",
        "oht_ary = te.fit(df_hash).transform(df_hash, sparse=True)\n",
        "sparse_df = pd.DataFrame.sparse.from_spmatrix(oht_ary, columns=te.columns_)\n",
        "#sparse_df"
      ],
      "metadata": {
        "id": "8pRpE66Sbk1n"
      },
      "execution_count": 23,
      "outputs": []
    },
    {
      "cell_type": "code",
      "source": [
        "# Get number of rules by threshold\n",
        "rt = get_rules_by_threshold(sparse_df, min_t=0.04, max_t=0.5, n=11, max_nr_rules=250)\n",
        "for r in rt:\n",
        "    print(r)"
      ],
      "metadata": {
        "colab": {
          "base_uri": "https://localhost:8080/"
        },
        "id": "PMNSz0KHbk4c",
        "outputId": "a5706934-f066-4c82-e823-2bf5f3fb1dad"
      },
      "execution_count": 28,
      "outputs": [
        {
          "output_type": "stream",
          "name": "stdout",
          "text": [
            "[0.5, 18]\n",
            "[0.454, 31]\n",
            "[0.40800000000000003, 51]\n",
            "[0.362, 87]\n",
            "[0.316, 439]\n"
          ]
        }
      ]
    },
    {
      "cell_type": "code",
      "source": [
        ""
      ],
      "metadata": {
        "id": "LFf4Oq9wbk7G"
      },
      "execution_count": null,
      "outputs": []
    }
  ]
}