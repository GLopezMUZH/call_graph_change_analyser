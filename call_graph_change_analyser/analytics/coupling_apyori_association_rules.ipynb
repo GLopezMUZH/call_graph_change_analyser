{
  "nbformat": 4,
  "nbformat_minor": 0,
  "metadata": {
    "colab": {
      "name": "git_analytics_ymoch_apyori_glucosio.ipynb",
      "provenance": [],
      "collapsed_sections": [],
      "toc_visible": true
    },
    "kernelspec": {
      "name": "python3",
      "display_name": "Python 3"
    },
    "language_info": {
      "name": "python"
    }
  },
  "cells": [
    {
      "cell_type": "code",
      "execution_count": 1,
      "metadata": {
        "colab": {
          "base_uri": "https://localhost:8080/"
        },
        "id": "E1rQwKgJVOXN",
        "outputId": "e266cd6f-3380-443c-bd9a-c7a56b7f4223"
      },
      "outputs": [
        {
          "output_type": "stream",
          "name": "stdout",
          "text": [
            "Mounted at /gdrive\n",
            "/gdrive/.shortcut-targets-by-id/1z4fjsm8NcEBHt9yh6KPOaHwaKBYqpozg/callgraphCA\n"
          ]
        }
      ],
      "source": [
        "from google.colab import drive\n",
        " \n",
        "drive.mount('/gdrive')\n",
        "# the project's folder\n",
        "%cd '/gdrive/My Drive/callgraphCA'"
      ]
    },
    {
      "cell_type": "code",
      "source": [
        "!ls -la \"/gdrive/MyDrive/callgraphCA\" #uzh -> zhaw"
      ],
      "metadata": {
        "colab": {
          "base_uri": "https://localhost:8080/"
        },
        "id": "NygPGoLSOK7F",
        "outputId": "39c635cc-0529-457e-efa1-0552b6e8121b"
      },
      "execution_count": 2,
      "outputs": [
        {
          "output_type": "stream",
          "name": "stdout",
          "text": [
            "lrw------- 1 root root 0 Dec 14 09:16 /gdrive/MyDrive/callgraphCA -> /gdrive/.shortcut-targets-by-id/1z4fjsm8NcEBHt9yh6KPOaHwaKBYqpozg/callgraphCA\n"
          ]
        }
      ]
    },
    {
      "cell_type": "code",
      "source": [
        "!pip install apyori\n",
        "# https://github.com/ymoch/apyori\n",
        "# https://medium.com/linkit-intecs/apriori-algorithm-in-data-mining-part-2-590d58e0998b\n"
      ],
      "metadata": {
        "colab": {
          "base_uri": "https://localhost:8080/"
        },
        "id": "30TucLfeyvNy",
        "outputId": "0c92eb37-9153-4ae6-8e9b-9eff8b31251a"
      },
      "execution_count": 3,
      "outputs": [
        {
          "output_type": "stream",
          "name": "stdout",
          "text": [
            "Collecting apyori\n",
            "  Downloading apyori-1.1.2.tar.gz (8.6 kB)\n",
            "Building wheels for collected packages: apyori\n",
            "  Building wheel for apyori (setup.py) ... \u001b[?25l\u001b[?25hdone\n",
            "  Created wheel for apyori: filename=apyori-1.1.2-py3-none-any.whl size=5974 sha256=a07d4835a334791133ee2fb1e4c31a1ccbe1ba51664168ac807070659cc5a45a\n",
            "  Stored in directory: /root/.cache/pip/wheels/cb/f6/e1/57973c631d27efd1a2f375bd6a83b2a616c4021f24aab84080\n",
            "Successfully built apyori\n",
            "Installing collected packages: apyori\n",
            "Successfully installed apyori-1.1.2\n"
          ]
        }
      ]
    },
    {
      "cell_type": "code",
      "source": [
        "import pandas as pd\n",
        "import sqlite3\n",
        "from apyori import apriori\n",
        "from re import search\n",
        "from typing import List\n",
        "\n",
        "# works with lists, not pandas, no nan values, apostrophe between values of transaction\n",
        "\n",
        "# min_support -- The minimum support of relations (float).\n",
        "# min_confidence -- The minimum confidence of relations (float).\n",
        "# min_lift -- The minimum lift of relations (float).\n",
        "# max_length -- The maximum length of the relation (integer).\n"
      ],
      "metadata": {
        "id": "AMOmfeQ-WIgz"
      },
      "execution_count": 4,
      "outputs": []
    },
    {
      "cell_type": "code",
      "source": [
        "from coupling_association_rules_utils import *"
      ],
      "metadata": {
        "id": "2BZ0VxD_2gs6"
      },
      "execution_count": 5,
      "outputs": []
    },
    {
      "cell_type": "code",
      "source": [
        "from imp import importlib\n",
        "importlib.reload(coupling_association_rules_utils)\n",
        "from coupling_association_rules_utils import show_transactions_containing_items"
      ],
      "metadata": {
        "colab": {
          "base_uri": "https://localhost:8080/",
          "height": 363
        },
        "id": "hxax9hnD5Dpo",
        "outputId": "526aa8a4-8653-4ed1-92d1-c73f7e7b1993"
      },
      "execution_count": 29,
      "outputs": [
        {
          "output_type": "error",
          "ename": "ImportError",
          "evalue": "ignored",
          "traceback": [
            "\u001b[0;31m---------------------------------------------------------------------------\u001b[0m",
            "\u001b[0;31mImportError\u001b[0m                               Traceback (most recent call last)",
            "\u001b[0;32m<ipython-input-29-ea83c55dcd26>\u001b[0m in \u001b[0;36m<module>\u001b[0;34m()\u001b[0m\n\u001b[1;32m      2\u001b[0m \u001b[0;31m#import coupling_association_rules_utils\u001b[0m\u001b[0;34m\u001b[0m\u001b[0;34m\u001b[0m\u001b[0;34m\u001b[0m\u001b[0m\n\u001b[1;32m      3\u001b[0m \u001b[0mimportlib\u001b[0m\u001b[0;34m.\u001b[0m\u001b[0mreload\u001b[0m\u001b[0;34m(\u001b[0m\u001b[0mcoupling_association_rules_utils\u001b[0m\u001b[0;34m)\u001b[0m\u001b[0;34m\u001b[0m\u001b[0;34m\u001b[0m\u001b[0m\n\u001b[0;32m----> 4\u001b[0;31m \u001b[0;32mfrom\u001b[0m \u001b[0mcoupling_association_rules_utils\u001b[0m \u001b[0;32mimport\u001b[0m \u001b[0mshow_transactions_containing_items\u001b[0m\u001b[0;34m\u001b[0m\u001b[0;34m\u001b[0m\u001b[0m\n\u001b[0m",
            "\u001b[0;31mImportError\u001b[0m: cannot import name 'show_transactions_containing_items' from 'coupling_association_rules_utils' (/gdrive/.shortcut-targets-by-id/1z4fjsm8NcEBHt9yh6KPOaHwaKBYqpozg/callgraphCA/coupling_association_rules_utils.py)",
            "",
            "\u001b[0;31m---------------------------------------------------------------------------\u001b[0;32m\nNOTE: If your import is failing due to a missing package, you can\nmanually install dependencies using either !pip or !apt.\n\nTo view examples of installing some common dependencies, click the\n\"Open Examples\" button below.\n\u001b[0;31m---------------------------------------------------------------------------\u001b[0m\n"
          ],
          "errorDetails": {
            "actions": [
              {
                "action": "open_url",
                "actionText": "Open Examples",
                "url": "/notebooks/snippets/importing_libraries.ipynb"
              }
            ]
          }
        }
      ]
    },
    {
      "cell_type": "code",
      "source": [
        "#PATH_TO_ANALYTICS_DB = '/gdrive/My Drive/callgraphCA/JKQtPlotter_analytics.db'\n",
        "#PATH_TO_ANALYTICS_DB = '/gdrive/My Drive/callgraphCA/glucosio-small.db'\n",
        "PATH_TO_ANALYTICS_DB = '/gdrive/My Drive/callgraphCA/glucosio-android_analytics.db'"
      ],
      "metadata": {
        "id": "neJPdzztWhFD"
      },
      "execution_count": 6,
      "outputs": []
    },
    {
      "cell_type": "code",
      "source": [
        "con_graph_db = sqlite3.connect(PATH_TO_ANALYTICS_DB)"
      ],
      "metadata": {
        "id": "lqXnrHTEWTr9"
      },
      "execution_count": 7,
      "outputs": []
    },
    {
      "cell_type": "code",
      "source": [
        "cur = con_graph_db.cursor()"
      ],
      "metadata": {
        "id": "krZ_j6EIWxE6"
      },
      "execution_count": 8,
      "outputs": []
    },
    {
      "cell_type": "markdown",
      "source": [
        "Test connection"
      ],
      "metadata": {
        "id": "jHFbH-PvW-FH"
      }
    },
    {
      "cell_type": "code",
      "source": [
        "sql_statement = \"\"\"SELECT * FROM git_commit LIMIT 2\"\"\""
      ],
      "metadata": {
        "id": "McGZD9XmW8vY"
      },
      "execution_count": null,
      "outputs": []
    },
    {
      "cell_type": "code",
      "source": [
        "df = pd.read_sql_query(sql_statement, con_graph_db)"
      ],
      "metadata": {
        "id": "rRPB65vBXGiE"
      },
      "execution_count": null,
      "outputs": []
    },
    {
      "cell_type": "code",
      "source": [
        "print(df.head())"
      ],
      "metadata": {
        "id": "jlvZgpGmXI5V"
      },
      "execution_count": null,
      "outputs": []
    },
    {
      "cell_type": "code",
      "source": [
        "sql_statement = \"\"\"SELECT * FROM git_commit LIMIT 10\"\"\""
      ],
      "metadata": {
        "id": "lMsIl5a7PQqb"
      },
      "execution_count": null,
      "outputs": []
    },
    {
      "cell_type": "markdown",
      "source": [
        "# Co-change matrix"
      ],
      "metadata": {
        "id": "ZjDESiORxpkm"
      }
    },
    {
      "cell_type": "markdown",
      "source": [
        "## On commit and file level - distinct"
      ],
      "metadata": {
        "id": "wAH9PY0GxqAU"
      }
    },
    {
      "cell_type": "code",
      "source": [
        "sql_statement = \"\"\"select \n",
        "--commit_hash,\n",
        "GROUP_CONCAT(distinct(\"'\" || file_name|| \"'\") )  as files_in_hash\n",
        "from file_commit\n",
        "group by commit_hash;\"\"\"\n",
        "df = pd.read_sql_query(sql_statement, con_graph_db)\n",
        "print(len(df))\n",
        "# WORKS stack functionality removes NaNs to generate the nested list:\n",
        "records_concats = pd.DataFrame(df['files_in_hash']).stack().groupby(level=0).apply(list).values.tolist()\n",
        "records = []\n",
        "for r in records_concats:\n",
        "    records.append(list(r[0].split(sep=',')))"
      ],
      "metadata": {
        "id": "CTu00WOuyVMX",
        "colab": {
          "base_uri": "https://localhost:8080/"
        },
        "outputId": "c7968ec7-a476-42cc-ed99-23be15d9f7cc"
      },
      "execution_count": 9,
      "outputs": [
        {
          "output_type": "stream",
          "name": "stdout",
          "text": [
            "582\n"
          ]
        }
      ]
    },
    {
      "cell_type": "code",
      "source": [
        "print(df[0:5])"
      ],
      "metadata": {
        "id": "tUadcwWohHSA"
      },
      "execution_count": null,
      "outputs": []
    },
    {
      "cell_type": "code",
      "source": [
        "records[0:12]"
      ],
      "metadata": {
        "id": "spzqxA9pETcb"
      },
      "execution_count": null,
      "outputs": []
    },
    {
      "cell_type": "code",
      "source": [
        "rules = apriori(records, min_confidence=0.1, min_support=0.1) # min_lift=0.2, \n",
        "rules_list = list(rules)\n",
        "print(len(rules_list))"
      ],
      "metadata": {
        "colab": {
          "base_uri": "https://localhost:8080/"
        },
        "id": "YdpDGI5dQsqc",
        "outputId": "9bdc6f9b-d16e-4c71-a27a-dc3e1f6402e0"
      },
      "execution_count": 10,
      "outputs": [
        {
          "output_type": "stream",
          "name": "stdout",
          "text": [
            "5\n"
          ]
        }
      ]
    },
    {
      "cell_type": "code",
      "source": [
        "for r in rules_list:\n",
        "  print(r)"
      ],
      "metadata": {
        "colab": {
          "base_uri": "https://localhost:8080/"
        },
        "id": "7NVFkKIOiAvy",
        "outputId": "1d46e07a-580f-4801-9304-a095fc8297f1"
      },
      "execution_count": 11,
      "outputs": [
        {
          "output_type": "stream",
          "name": "stdout",
          "text": [
            "RelationRecord(items=frozenset({\"'DatabaseHandler.java'\"}), support=0.15807560137457044, ordered_statistics=[OrderedStatistic(items_base=frozenset(), items_add=frozenset({\"'DatabaseHandler.java'\"}), confidence=0.15807560137457044, lift=1.0)])\n",
            "RelationRecord(items=frozenset({\"'HelloActivity.java'\"}), support=0.10309278350515463, ordered_statistics=[OrderedStatistic(items_base=frozenset(), items_add=frozenset({\"'HelloActivity.java'\"}), confidence=0.10309278350515463, lift=1.0)])\n",
            "RelationRecord(items=frozenset({\"'MainActivity.java'\"}), support=0.2869415807560137, ordered_statistics=[OrderedStatistic(items_base=frozenset(), items_add=frozenset({\"'MainActivity.java'\"}), confidence=0.2869415807560137, lift=1.0)])\n",
            "RelationRecord(items=frozenset({\"'OverviewFragment.java'\"}), support=0.15979381443298968, ordered_statistics=[OrderedStatistic(items_base=frozenset(), items_add=frozenset({\"'OverviewFragment.java'\"}), confidence=0.15979381443298968, lift=1.0)])\n",
            "RelationRecord(items=frozenset({\"'PreferencesActivity.java'\"}), support=0.12027491408934708, ordered_statistics=[OrderedStatistic(items_base=frozenset(), items_add=frozenset({\"'PreferencesActivity.java'\"}), confidence=0.12027491408934708, lift=1.0)])\n"
          ]
        }
      ]
    },
    {
      "cell_type": "code",
      "source": [
        "rules = apriori(records, min_confidence=0.05, min_support=0.05) # min_lift=0.2, \n",
        "rules_list = list(rules)\n",
        "print(len(rules_list))"
      ],
      "metadata": {
        "colab": {
          "base_uri": "https://localhost:8080/"
        },
        "id": "2RB8gF3hQsyZ",
        "outputId": "e4536b17-9e46-4540-e9d3-659a1e2c573a"
      },
      "execution_count": 12,
      "outputs": [
        {
          "output_type": "stream",
          "name": "stdout",
          "text": [
            "15\n"
          ]
        }
      ]
    },
    {
      "cell_type": "code",
      "source": [
        "for r in rules_list:\n",
        "  print(r)"
      ],
      "metadata": {
        "colab": {
          "base_uri": "https://localhost:8080/"
        },
        "id": "obNK938Da8RX",
        "outputId": "34ac1da7-fb0d-480e-fc45-f5b55a78bfe9"
      },
      "execution_count": 13,
      "outputs": [
        {
          "output_type": "stream",
          "name": "stdout",
          "text": [
            "RelationRecord(items=frozenset({\"'AddGlucoseActivity.java'\"}), support=0.08075601374570447, ordered_statistics=[OrderedStatistic(items_base=frozenset(), items_add=frozenset({\"'AddGlucoseActivity.java'\"}), confidence=0.08075601374570447, lift=1.0)])\n",
            "RelationRecord(items=frozenset({\"'AddGlucosePresenter.java'\"}), support=0.061855670103092786, ordered_statistics=[OrderedStatistic(items_base=frozenset(), items_add=frozenset({\"'AddGlucosePresenter.java'\"}), confidence=0.061855670103092786, lift=1.0)])\n",
            "RelationRecord(items=frozenset({\"'BackupActivity.java'\"}), support=0.061855670103092786, ordered_statistics=[OrderedStatistic(items_base=frozenset(), items_add=frozenset({\"'BackupActivity.java'\"}), confidence=0.061855670103092786, lift=1.0)])\n",
            "RelationRecord(items=frozenset({\"'DatabaseHandler.java'\"}), support=0.15807560137457044, ordered_statistics=[OrderedStatistic(items_base=frozenset(), items_add=frozenset({\"'DatabaseHandler.java'\"}), confidence=0.15807560137457044, lift=1.0)])\n",
            "RelationRecord(items=frozenset({\"'GlucosioApplication.java'\"}), support=0.06357388316151202, ordered_statistics=[OrderedStatistic(items_base=frozenset(), items_add=frozenset({\"'GlucosioApplication.java'\"}), confidence=0.06357388316151202, lift=1.0)])\n",
            "RelationRecord(items=frozenset({\"'HelloActivity.java'\"}), support=0.10309278350515463, ordered_statistics=[OrderedStatistic(items_base=frozenset(), items_add=frozenset({\"'HelloActivity.java'\"}), confidence=0.10309278350515463, lift=1.0)])\n",
            "RelationRecord(items=frozenset({\"'HistoryAdapter.java'\"}), support=0.07903780068728522, ordered_statistics=[OrderedStatistic(items_base=frozenset(), items_add=frozenset({\"'HistoryAdapter.java'\"}), confidence=0.07903780068728522, lift=1.0)])\n",
            "RelationRecord(items=frozenset({\"'HistoryFragment.java'\"}), support=0.08934707903780069, ordered_statistics=[OrderedStatistic(items_base=frozenset(), items_add=frozenset({\"'HistoryFragment.java'\"}), confidence=0.08934707903780069, lift=1.0)])\n",
            "RelationRecord(items=frozenset({\"'HistoryPresenter.java'\"}), support=0.05154639175257732, ordered_statistics=[OrderedStatistic(items_base=frozenset(), items_add=frozenset({\"'HistoryPresenter.java'\"}), confidence=0.05154639175257732, lift=1.0)])\n",
            "RelationRecord(items=frozenset({\"'MainActivity.java'\"}), support=0.2869415807560137, ordered_statistics=[OrderedStatistic(items_base=frozenset(), items_add=frozenset({\"'MainActivity.java'\"}), confidence=0.2869415807560137, lift=1.0)])\n",
            "RelationRecord(items=frozenset({\"'OverviewFragment.java'\"}), support=0.15979381443298968, ordered_statistics=[OrderedStatistic(items_base=frozenset(), items_add=frozenset({\"'OverviewFragment.java'\"}), confidence=0.15979381443298968, lift=1.0)])\n",
            "RelationRecord(items=frozenset({\"'OverviewPresenter.java'\"}), support=0.07731958762886598, ordered_statistics=[OrderedStatistic(items_base=frozenset(), items_add=frozenset({\"'OverviewPresenter.java'\"}), confidence=0.07731958762886598, lift=1.0)])\n",
            "RelationRecord(items=frozenset({\"'PreferencesActivity.java'\"}), support=0.12027491408934708, ordered_statistics=[OrderedStatistic(items_base=frozenset(), items_add=frozenset({\"'PreferencesActivity.java'\"}), confidence=0.12027491408934708, lift=1.0)])\n",
            "RelationRecord(items=frozenset({\"'ReadingToCSV.java'\"}), support=0.05326460481099656, ordered_statistics=[OrderedStatistic(items_base=frozenset(), items_add=frozenset({\"'ReadingToCSV.java'\"}), confidence=0.05326460481099656, lift=1.0)])\n",
            "RelationRecord(items=frozenset({\"'OverviewFragment.java'\", \"'OverviewPresenter.java'\"}), support=0.06357388316151202, ordered_statistics=[OrderedStatistic(items_base=frozenset(), items_add=frozenset({\"'OverviewFragment.java'\", \"'OverviewPresenter.java'\"}), confidence=0.06357388316151202, lift=1.0), OrderedStatistic(items_base=frozenset({\"'OverviewFragment.java'\"}), items_add=frozenset({\"'OverviewPresenter.java'\"}), confidence=0.39784946236559143, lift=5.145519713261649), OrderedStatistic(items_base=frozenset({\"'OverviewPresenter.java'\"}), items_add=frozenset({\"'OverviewFragment.java'\"}), confidence=0.8222222222222222, lift=5.145519713261649)])\n"
          ]
        }
      ]
    },
    {
      "cell_type": "markdown",
      "source": [
        "### prune records with 2 or more occurrences"
      ],
      "metadata": {
        "id": "ENejE6FnwCTF"
      }
    },
    {
      "cell_type": "code",
      "source": [
        "print(len(records))\n",
        "pruned_records = []\n",
        "for r in records:\n",
        "    if len(r)>2:\n",
        "        pruned_records.append(r)\n",
        "\n",
        "print(len(pruned_records))"
      ],
      "metadata": {
        "colab": {
          "base_uri": "https://localhost:8080/"
        },
        "id": "w_ORZOZft_xu",
        "outputId": "ef524622-7be8-4773-a4a2-c3c67e1cae81"
      },
      "execution_count": 14,
      "outputs": [
        {
          "output_type": "stream",
          "name": "stdout",
          "text": [
            "582\n",
            "218\n"
          ]
        }
      ]
    },
    {
      "cell_type": "code",
      "source": [
        "pruned_records[0:10]"
      ],
      "metadata": {
        "colab": {
          "base_uri": "https://localhost:8080/"
        },
        "id": "1fwEyZtuDH0j",
        "outputId": "022e0175-6573-4071-e855-cc5bb8e3f4eb"
      },
      "execution_count": 19,
      "outputs": [
        {
          "output_type": "execute_result",
          "data": {
            "text/plain": [
              "[[\"'HelloActivity.java'\",\n",
              "  \"'LicenceActivity.java'\",\n",
              "  \"'PreferencesActivity.java'\",\n",
              "  \"'AssistantAdapter.java'\",\n",
              "  \"'HistoryAdapter.java'\",\n",
              "  \"'HomePagerAdapter.java'\",\n",
              "  \"'HistoryFragment.java'\",\n",
              "  \"'OverviewFragment.java'\",\n",
              "  \"'AssistantPresenter.java'\",\n",
              "  \"'HelloPresenter.java'\",\n",
              "  \"'HistoryPresenter.java'\",\n",
              "  \"'OverviewPresenter.java'\",\n",
              "  \"'FormatDateTime.java'\",\n",
              "  \"'ReadingTools.java'\"],\n",
              " [\"'DatabaseHandler.java'\",\n",
              "  \"'OverviewFragment.java'\",\n",
              "  \"'OverviewPresenter.java'\"],\n",
              " [\"'GlucosioApplication.java'\",\n",
              "  \"'AddA1CActivity.java'\",\n",
              "  \"'AddCholesterolActivity.java'\",\n",
              "  \"'AddKetoneActivity.java'\",\n",
              "  \"'AddPressureActivity.java'\",\n",
              "  \"'AddWeightActivity.java'\",\n",
              "  \"'OverviewFragment.java'\",\n",
              "  \"'OverviewPresenter.java'\",\n",
              "  \"'HelloActivityTest.java'\"],\n",
              " [\"'RemindersActivity.java'\",\n",
              "  \"'RemindersAdapter.java'\",\n",
              "  \"'DatabaseHandler.java'\",\n",
              "  \"'Migration.java'\",\n",
              "  \"'Reminder.java'\"],\n",
              " [\"'ExportActivity.java'\", \"'DatabaseHandler.java'\", \"'ExportPresenter.java'\"],\n",
              " [\"'AddGlucosePresenter.java'\",\n",
              "  \"'ReadingTools.java'\",\n",
              "  \"'ReadingToolsTest.java'\"],\n",
              " [\"'DatabaseHandler.java'\",\n",
              "  \"'OverviewFragment.java'\",\n",
              "  \"'OverviewPresenter.java'\",\n",
              "  \"'FormatDateTime.java'\"],\n",
              " [\"'AddGlucoseActivity.java'\",\n",
              "  \"'MainActivity.java'\",\n",
              "  \"'AssistantFragment.java'\",\n",
              "  \"'HistoryFragment.java'\",\n",
              "  \"'AddGlucosePresenter.java'\",\n",
              "  \"'MainPresenter.java'\"],\n",
              " [\"'GlucosioApplication.java'\", \"'AboutActivity.java'\", \"'MainActivity.java'\"],\n",
              " [\"'AddGlucoseActivity.java'\",\n",
              "  \"'OverviewFragment.java'\",\n",
              "  \"'AddGlucosePresenter.java'\"]]"
            ]
          },
          "metadata": {},
          "execution_count": 19
        }
      ]
    },
    {
      "cell_type": "code",
      "source": [
        "rules = apriori(pruned_records, min_confidence=0.15, min_support=0.15) # min_lift=0.2, \n",
        "rules_list = list(rules)\n",
        "print(len(rules_list))"
      ],
      "metadata": {
        "colab": {
          "base_uri": "https://localhost:8080/"
        },
        "id": "KIkfHoQUwu_Q",
        "outputId": "b60539c0-340a-4b66-ce19-6de65a4c4925"
      },
      "execution_count": 15,
      "outputs": [
        {
          "output_type": "stream",
          "name": "stdout",
          "text": [
            "8\n"
          ]
        }
      ]
    },
    {
      "cell_type": "code",
      "source": [
        "for r in rules_list:\n",
        "  print(r)"
      ],
      "metadata": {
        "colab": {
          "base_uri": "https://localhost:8080/"
        },
        "id": "aqDUC1NCwxbC",
        "outputId": "ff51965f-cd47-464d-8a86-dc6181439aa4"
      },
      "execution_count": 16,
      "outputs": [
        {
          "output_type": "stream",
          "name": "stdout",
          "text": [
            "RelationRecord(items=frozenset({\"'AddGlucoseActivity.java'\"}), support=0.18807339449541285, ordered_statistics=[OrderedStatistic(items_base=frozenset(), items_add=frozenset({\"'AddGlucoseActivity.java'\"}), confidence=0.18807339449541285, lift=1.0)])\n",
            "RelationRecord(items=frozenset({\"'DatabaseHandler.java'\"}), support=0.2981651376146789, ordered_statistics=[OrderedStatistic(items_base=frozenset(), items_add=frozenset({\"'DatabaseHandler.java'\"}), confidence=0.2981651376146789, lift=1.0)])\n",
            "RelationRecord(items=frozenset({\"'HistoryAdapter.java'\"}), support=0.16055045871559634, ordered_statistics=[OrderedStatistic(items_base=frozenset(), items_add=frozenset({\"'HistoryAdapter.java'\"}), confidence=0.16055045871559634, lift=1.0)])\n",
            "RelationRecord(items=frozenset({\"'HistoryFragment.java'\"}), support=0.16055045871559634, ordered_statistics=[OrderedStatistic(items_base=frozenset(), items_add=frozenset({\"'HistoryFragment.java'\"}), confidence=0.16055045871559634, lift=1.0)])\n",
            "RelationRecord(items=frozenset({\"'MainActivity.java'\"}), support=0.4036697247706422, ordered_statistics=[OrderedStatistic(items_base=frozenset(), items_add=frozenset({\"'MainActivity.java'\"}), confidence=0.4036697247706422, lift=1.0)])\n",
            "RelationRecord(items=frozenset({\"'OverviewFragment.java'\"}), support=0.26146788990825687, ordered_statistics=[OrderedStatistic(items_base=frozenset(), items_add=frozenset({\"'OverviewFragment.java'\"}), confidence=0.26146788990825687, lift=1.0)])\n",
            "RelationRecord(items=frozenset({\"'OverviewPresenter.java'\"}), support=0.1651376146788991, ordered_statistics=[OrderedStatistic(items_base=frozenset(), items_add=frozenset({\"'OverviewPresenter.java'\"}), confidence=0.1651376146788991, lift=1.0)])\n",
            "RelationRecord(items=frozenset({\"'PreferencesActivity.java'\"}), support=0.2018348623853211, ordered_statistics=[OrderedStatistic(items_base=frozenset(), items_add=frozenset({\"'PreferencesActivity.java'\"}), confidence=0.2018348623853211, lift=1.0)])\n"
          ]
        }
      ]
    },
    {
      "cell_type": "code",
      "source": [
        "rules = apriori(pruned_records, min_confidence=0.1, min_support=0.1) # min_lift=0.2, \n",
        "rules_list = list(rules)\n",
        "print(len(rules_list))"
      ],
      "metadata": {
        "colab": {
          "base_uri": "https://localhost:8080/"
        },
        "id": "_O4cE_swEynl",
        "outputId": "24b3ccc7-1a41-4432-d211-02da91465f82"
      },
      "execution_count": 17,
      "outputs": [
        {
          "output_type": "stream",
          "name": "stdout",
          "text": [
            "25\n"
          ]
        }
      ]
    },
    {
      "cell_type": "code",
      "source": [
        "for r in rules_list:\n",
        "  print(r)\n",
        "  "
      ],
      "metadata": {
        "id": "HnCQfc_1EysK",
        "colab": {
          "base_uri": "https://localhost:8080/"
        },
        "outputId": "51fd7779-1eea-4f49-e6cd-7fac8cfb49ad"
      },
      "execution_count": 18,
      "outputs": [
        {
          "output_type": "stream",
          "name": "stdout",
          "text": [
            "RelationRecord(items=frozenset({\"'AddCholesterolActivity.java'\"}), support=0.10091743119266056, ordered_statistics=[OrderedStatistic(items_base=frozenset(), items_add=frozenset({\"'AddCholesterolActivity.java'\"}), confidence=0.10091743119266056, lift=1.0)])\n",
            "RelationRecord(items=frozenset({\"'AddGlucoseActivity.java'\"}), support=0.18807339449541285, ordered_statistics=[OrderedStatistic(items_base=frozenset(), items_add=frozenset({\"'AddGlucoseActivity.java'\"}), confidence=0.18807339449541285, lift=1.0)])\n",
            "RelationRecord(items=frozenset({\"'AddGlucosePresenter.java'\"}), support=0.13761467889908258, ordered_statistics=[OrderedStatistic(items_base=frozenset(), items_add=frozenset({\"'AddGlucosePresenter.java'\"}), confidence=0.13761467889908258, lift=1.0)])\n",
            "RelationRecord(items=frozenset({\"'AddKetoneActivity.java'\"}), support=0.11009174311926606, ordered_statistics=[OrderedStatistic(items_base=frozenset(), items_add=frozenset({\"'AddKetoneActivity.java'\"}), confidence=0.11009174311926606, lift=1.0)])\n",
            "RelationRecord(items=frozenset({\"'AddWeightActivity.java'\"}), support=0.11926605504587157, ordered_statistics=[OrderedStatistic(items_base=frozenset(), items_add=frozenset({\"'AddWeightActivity.java'\"}), confidence=0.11926605504587157, lift=1.0)])\n",
            "RelationRecord(items=frozenset({\"'AssistantFragment.java'\"}), support=0.11009174311926606, ordered_statistics=[OrderedStatistic(items_base=frozenset(), items_add=frozenset({\"'AssistantFragment.java'\"}), confidence=0.11009174311926606, lift=1.0)])\n",
            "RelationRecord(items=frozenset({\"'DatabaseHandler.java'\"}), support=0.2981651376146789, ordered_statistics=[OrderedStatistic(items_base=frozenset(), items_add=frozenset({\"'DatabaseHandler.java'\"}), confidence=0.2981651376146789, lift=1.0)])\n",
            "RelationRecord(items=frozenset({\"'GlucosioApplication.java'\"}), support=0.11926605504587157, ordered_statistics=[OrderedStatistic(items_base=frozenset(), items_add=frozenset({\"'GlucosioApplication.java'\"}), confidence=0.11926605504587157, lift=1.0)])\n",
            "RelationRecord(items=frozenset({\"'HelloActivity.java'\"}), support=0.13302752293577982, ordered_statistics=[OrderedStatistic(items_base=frozenset(), items_add=frozenset({\"'HelloActivity.java'\"}), confidence=0.13302752293577982, lift=1.0)])\n",
            "RelationRecord(items=frozenset({\"'HistoryAdapter.java'\"}), support=0.16055045871559634, ordered_statistics=[OrderedStatistic(items_base=frozenset(), items_add=frozenset({\"'HistoryAdapter.java'\"}), confidence=0.16055045871559634, lift=1.0)])\n",
            "RelationRecord(items=frozenset({\"'HistoryFragment.java'\"}), support=0.16055045871559634, ordered_statistics=[OrderedStatistic(items_base=frozenset(), items_add=frozenset({\"'HistoryFragment.java'\"}), confidence=0.16055045871559634, lift=1.0)])\n",
            "RelationRecord(items=frozenset({\"'HistoryPresenter.java'\"}), support=0.12385321100917432, ordered_statistics=[OrderedStatistic(items_base=frozenset(), items_add=frozenset({\"'HistoryPresenter.java'\"}), confidence=0.12385321100917432, lift=1.0)])\n",
            "RelationRecord(items=frozenset({\"'MainActivity.java'\"}), support=0.4036697247706422, ordered_statistics=[OrderedStatistic(items_base=frozenset(), items_add=frozenset({\"'MainActivity.java'\"}), confidence=0.4036697247706422, lift=1.0)])\n",
            "RelationRecord(items=frozenset({\"'MainPresenter.java'\"}), support=0.10550458715596331, ordered_statistics=[OrderedStatistic(items_base=frozenset(), items_add=frozenset({\"'MainPresenter.java'\"}), confidence=0.10550458715596331, lift=1.0)])\n",
            "RelationRecord(items=frozenset({\"'OverviewFragment.java'\"}), support=0.26146788990825687, ordered_statistics=[OrderedStatistic(items_base=frozenset(), items_add=frozenset({\"'OverviewFragment.java'\"}), confidence=0.26146788990825687, lift=1.0)])\n",
            "RelationRecord(items=frozenset({\"'OverviewPresenter.java'\"}), support=0.1651376146788991, ordered_statistics=[OrderedStatistic(items_base=frozenset(), items_add=frozenset({\"'OverviewPresenter.java'\"}), confidence=0.1651376146788991, lift=1.0)])\n",
            "RelationRecord(items=frozenset({\"'PreferencesActivity.java'\"}), support=0.2018348623853211, ordered_statistics=[OrderedStatistic(items_base=frozenset(), items_add=frozenset({\"'PreferencesActivity.java'\"}), confidence=0.2018348623853211, lift=1.0)])\n",
            "RelationRecord(items=frozenset({\"'ReadingToCSV.java'\"}), support=0.11009174311926606, ordered_statistics=[OrderedStatistic(items_base=frozenset(), items_add=frozenset({\"'ReadingToCSV.java'\"}), confidence=0.11009174311926606, lift=1.0)])\n",
            "RelationRecord(items=frozenset({\"'AddKetoneActivity.java'\", \"'AddCholesterolActivity.java'\"}), support=0.10091743119266056, ordered_statistics=[OrderedStatistic(items_base=frozenset(), items_add=frozenset({\"'AddCholesterolActivity.java'\", \"'AddKetoneActivity.java'\"}), confidence=0.10091743119266056, lift=1.0), OrderedStatistic(items_base=frozenset({\"'AddCholesterolActivity.java'\"}), items_add=frozenset({\"'AddKetoneActivity.java'\"}), confidence=1.0, lift=9.083333333333332), OrderedStatistic(items_base=frozenset({\"'AddKetoneActivity.java'\"}), items_add=frozenset({\"'AddCholesterolActivity.java'\"}), confidence=0.9166666666666666, lift=9.083333333333332)])\n",
            "RelationRecord(items=frozenset({\"'OverviewFragment.java'\", \"'DatabaseHandler.java'\"}), support=0.11467889908256881, ordered_statistics=[OrderedStatistic(items_base=frozenset(), items_add=frozenset({\"'OverviewFragment.java'\", \"'DatabaseHandler.java'\"}), confidence=0.11467889908256881, lift=1.0), OrderedStatistic(items_base=frozenset({\"'DatabaseHandler.java'\"}), items_add=frozenset({\"'OverviewFragment.java'\"}), confidence=0.38461538461538464, lift=1.4709851551956816), OrderedStatistic(items_base=frozenset({\"'OverviewFragment.java'\"}), items_add=frozenset({\"'DatabaseHandler.java'\"}), confidence=0.4385964912280702, lift=1.4709851551956816)])\n",
            "RelationRecord(items=frozenset({\"'DatabaseHandler.java'\", \"'OverviewPresenter.java'\"}), support=0.10091743119266056, ordered_statistics=[OrderedStatistic(items_base=frozenset(), items_add=frozenset({\"'DatabaseHandler.java'\", \"'OverviewPresenter.java'\"}), confidence=0.10091743119266056, lift=1.0), OrderedStatistic(items_base=frozenset({\"'DatabaseHandler.java'\"}), items_add=frozenset({\"'OverviewPresenter.java'\"}), confidence=0.3384615384615385, lift=2.0495726495726494), OrderedStatistic(items_base=frozenset({\"'OverviewPresenter.java'\"}), items_add=frozenset({\"'DatabaseHandler.java'\"}), confidence=0.6111111111111112, lift=2.04957264957265)])\n",
            "RelationRecord(items=frozenset({\"'OverviewFragment.java'\", \"'HistoryAdapter.java'\"}), support=0.11467889908256881, ordered_statistics=[OrderedStatistic(items_base=frozenset(), items_add=frozenset({\"'OverviewFragment.java'\", \"'HistoryAdapter.java'\"}), confidence=0.11467889908256881, lift=1.0), OrderedStatistic(items_base=frozenset({\"'HistoryAdapter.java'\"}), items_add=frozenset({\"'OverviewFragment.java'\"}), confidence=0.7142857142857143, lift=2.7318295739348373), OrderedStatistic(items_base=frozenset({\"'OverviewFragment.java'\"}), items_add=frozenset({\"'HistoryAdapter.java'\"}), confidence=0.4385964912280702, lift=2.7318295739348373)])\n",
            "RelationRecord(items=frozenset({\"'HistoryFragment.java'\", \"'MainActivity.java'\"}), support=0.11467889908256881, ordered_statistics=[OrderedStatistic(items_base=frozenset(), items_add=frozenset({\"'HistoryFragment.java'\", \"'MainActivity.java'\"}), confidence=0.11467889908256881, lift=1.0), OrderedStatistic(items_base=frozenset({\"'HistoryFragment.java'\"}), items_add=frozenset({\"'MainActivity.java'\"}), confidence=0.7142857142857143, lift=1.7694805194805194), OrderedStatistic(items_base=frozenset({\"'MainActivity.java'\"}), items_add=frozenset({\"'HistoryFragment.java'\"}), confidence=0.2840909090909091, lift=1.7694805194805194)])\n",
            "RelationRecord(items=frozenset({\"'OverviewFragment.java'\", \"'MainActivity.java'\"}), support=0.10550458715596331, ordered_statistics=[OrderedStatistic(items_base=frozenset(), items_add=frozenset({\"'OverviewFragment.java'\", \"'MainActivity.java'\"}), confidence=0.10550458715596331, lift=1.0), OrderedStatistic(items_base=frozenset({\"'MainActivity.java'\"}), items_add=frozenset({\"'OverviewFragment.java'\"}), confidence=0.26136363636363635, lift=0.9996012759170654), OrderedStatistic(items_base=frozenset({\"'OverviewFragment.java'\"}), items_add=frozenset({\"'MainActivity.java'\"}), confidence=0.4035087719298246, lift=0.9996012759170654)])\n",
            "RelationRecord(items=frozenset({\"'OverviewFragment.java'\", \"'OverviewPresenter.java'\"}), support=0.14220183486238533, ordered_statistics=[OrderedStatistic(items_base=frozenset(), items_add=frozenset({\"'OverviewFragment.java'\", \"'OverviewPresenter.java'\"}), confidence=0.14220183486238533, lift=1.0), OrderedStatistic(items_base=frozenset({\"'OverviewFragment.java'\"}), items_add=frozenset({\"'OverviewPresenter.java'\"}), confidence=0.543859649122807, lift=3.293372319688109), OrderedStatistic(items_base=frozenset({\"'OverviewPresenter.java'\"}), items_add=frozenset({\"'OverviewFragment.java'\"}), confidence=0.8611111111111112, lift=3.2933723196881095)])\n"
          ]
        }
      ]
    },
    {
      "cell_type": "code",
      "source": [
        "df.head(5)"
      ],
      "metadata": {
        "id": "NwsP7ei9dO7t"
      },
      "execution_count": null,
      "outputs": []
    },
    {
      "cell_type": "code",
      "source": [
        ""
      ],
      "metadata": {
        "id": "byl5cazCu7IQ"
      },
      "execution_count": null,
      "outputs": []
    },
    {
      "cell_type": "markdown",
      "source": [
        "### find transactions where this rules happened"
      ],
      "metadata": {
        "id": "XZmkmeTzu7sx"
      }
    },
    {
      "cell_type": "code",
      "source": [
        "print(df.loc[df['files_in_hash'] == \"'PreferencesActivity.java','LocaleHelper.java'\"])\n"
      ],
      "metadata": {
        "colab": {
          "base_uri": "https://localhost:8080/"
        },
        "id": "V2aknyDxc-mu",
        "outputId": "24792710-1c2f-4353-8aa2-9ce704bbd8bb"
      },
      "execution_count": 14,
      "outputs": [
        {
          "output_type": "stream",
          "name": "stdout",
          "text": [
            "                                      files_in_hash\n",
            "123  'PreferencesActivity.java','LocaleHelper.java'\n",
            "128  'PreferencesActivity.java','LocaleHelper.java'\n",
            "144  'PreferencesActivity.java','LocaleHelper.java'\n"
          ]
        }
      ]
    },
    {
      "cell_type": "code",
      "source": [
        "l_elem = ['OverviewFragment.java', 'DatabaseHandler.java']\n",
        "show_transactions_containing_items(df, l_elem, print_elems=False)"
      ],
      "metadata": {
        "colab": {
          "base_uri": "https://localhost:8080/"
        },
        "id": "_SYEhXySE-kr",
        "outputId": "78019133-aa52-405b-afa5-974b01a2f7b3"
      },
      "execution_count": 20,
      "outputs": [
        {
          "output_type": "stream",
          "name": "stdout",
          "text": [
            "Element count. Df len 582. 1: 93, 2: 25\n"
          ]
        }
      ]
    },
    {
      "cell_type": "code",
      "source": [
        "l_elem = ['AddCholesterolActivity', 'AddA1CActivity']\n",
        "show_transactions_containing_items(df, l_elem, print_elems=False)"
      ],
      "metadata": {
        "colab": {
          "base_uri": "https://localhost:8080/"
        },
        "id": "u-zAZTMuyMkq",
        "outputId": "7408c56b-4ba5-4d13-ea39-d0652714a9e6"
      },
      "execution_count": 21,
      "outputs": [
        {
          "output_type": "stream",
          "name": "stdout",
          "text": [
            "Element count. Df len 582. 1: 22, 2: 14\n"
          ]
        }
      ]
    },
    {
      "cell_type": "code",
      "source": [
        "l_elems = [\"'AddKetoneActivity.java'\", \"'AddWeightActivity.java'\", \"'AddGlucoseActivity.java'\", \"'AddPressureActivity.java'\"]\n",
        "show_transactions_containing_items(df, l_elems, print_elems=False)"
      ],
      "metadata": {
        "colab": {
          "base_uri": "https://localhost:8080/"
        },
        "id": "Q2CfyyexydaI",
        "outputId": "22971e74-3e65-4830-c2d8-a7e2df4f4d96"
      },
      "execution_count": 22,
      "outputs": [
        {
          "output_type": "stream",
          "name": "stdout",
          "text": [
            "Element count. Df len 582. 1: 25, 2: 20, 3: 17, 4: 17\n"
          ]
        }
      ]
    },
    {
      "cell_type": "code",
      "source": [
        "for e in l_elems:\n",
        "    print(e)"
      ],
      "metadata": {
        "id": "QSche_OQyqJW"
      },
      "execution_count": null,
      "outputs": []
    },
    {
      "cell_type": "markdown",
      "source": [
        "## On week"
      ],
      "metadata": {
        "id": "tUx6juLTFK_Q"
      }
    },
    {
      "cell_type": "code",
      "source": [
        "# apyori.apriori needs apostrophes around each of the values of the transaction\n",
        "sql_statement = \"\"\"select\n",
        "(strftime('%j', date(commit_commiter_datetime, '-3 days', 'weekday 4')) - 1) / 7 + 1 as iso_week,\n",
        "GROUP_CONCAT(\"'\" || file_name|| \"'\") as files_in_week\n",
        "--GROUP_CONCAT(distinct(\"'\" || file_name|| \"'\") ) as files_in_week\n",
        "from file_commit\n",
        "group by (strftime('%j', date(commit_commiter_datetime, '-3 days', 'weekday 4')) - 1) / 7 + 1;\"\"\"\n",
        "df = pd.read_sql_query(sql_statement, con_graph_db)\n",
        "print(len(df))\n",
        "records = pd.DataFrame(df['files_in_hash']).stack().groupby(level=0).apply(list).values.tolist()\n",
        "records = []\n",
        "for r in records_concats:\n",
        "    records.append(list(r[0].split(sep=',')))"
      ],
      "metadata": {
        "id": "NL3NZwGQXRgn"
      },
      "execution_count": null,
      "outputs": []
    },
    {
      "cell_type": "code",
      "source": [
        "rules = apriori(records, min_confidence=0.1, min_support=0.1) # min_lift=0.2, \n",
        "rules_list = list(rules) # from generator save to list for further analysis\n",
        "print(len(rules_list))"
      ],
      "metadata": {
        "id": "hu_tWni_XRnG"
      },
      "execution_count": null,
      "outputs": []
    },
    {
      "cell_type": "code",
      "source": [
        "rules = apriori(records, min_confidence=0.01, min_support=0.01) # min_lift=0.2, \n",
        "rules_list = list(rules) # from generator save to list for further analysis\n",
        "print(len(rules_list))"
      ],
      "metadata": {
        "id": "ddemCZs6XRpe"
      },
      "execution_count": null,
      "outputs": []
    },
    {
      "cell_type": "code",
      "source": [
        "rules = apriori(records, min_confidence=0.001, min_support=0.001) # min_lift=0.2, \n",
        "rules_list = list(rules) # from generator save to list for further analysis\n",
        "print(len(rules_list))"
      ],
      "metadata": {
        "id": "jb36A0_BXRr6"
      },
      "execution_count": null,
      "outputs": []
    },
    {
      "cell_type": "markdown",
      "source": [
        "### slide time window"
      ],
      "metadata": {
        "id": "emijOvreXvqt"
      }
    },
    {
      "cell_type": "code",
      "source": [
        ""
      ],
      "metadata": {
        "id": "n-VdYzV0XRuW"
      },
      "execution_count": null,
      "outputs": []
    },
    {
      "cell_type": "code",
      "source": [
        "rules = apriori(records, min_support=0.2, min_confidence=0.2) #, min_lift=2, min_length=2)\n",
        "rules_list = list(rules)"
      ],
      "metadata": {
        "id": "F300FP1JAqoj"
      },
      "execution_count": null,
      "outputs": []
    },
    {
      "cell_type": "code",
      "source": [
        "print(len(rules_list))"
      ],
      "metadata": {
        "id": "G2LFCdQs5o08"
      },
      "execution_count": null,
      "outputs": []
    },
    {
      "cell_type": "code",
      "source": [
        "for r in rules_list:\n",
        "  print(r)"
      ],
      "metadata": {
        "id": "dNczptZY5f1x"
      },
      "execution_count": null,
      "outputs": []
    },
    {
      "cell_type": "code",
      "source": [
        ""
      ],
      "metadata": {
        "id": "Q81UkaNc_Yai"
      },
      "execution_count": null,
      "outputs": []
    },
    {
      "cell_type": "code",
      "source": [
        ""
      ],
      "metadata": {
        "id": "lp9A1NpZ_Yc2"
      },
      "execution_count": null,
      "outputs": []
    },
    {
      "cell_type": "code",
      "source": [
        ""
      ],
      "metadata": {
        "id": "RUSD5sU6_YfB"
      },
      "execution_count": null,
      "outputs": []
    },
    {
      "cell_type": "code",
      "source": [
        ""
      ],
      "metadata": {
        "id": "HBkjcLBF_Yhe"
      },
      "execution_count": null,
      "outputs": []
    },
    {
      "cell_type": "code",
      "source": [
        ""
      ],
      "metadata": {
        "id": "VdWzkQmI_Yj4"
      },
      "execution_count": null,
      "outputs": []
    },
    {
      "cell_type": "code",
      "source": [
        ""
      ],
      "metadata": {
        "id": "dG-HzQb9_Ymx"
      },
      "execution_count": null,
      "outputs": []
    },
    {
      "cell_type": "code",
      "source": [
        ""
      ],
      "metadata": {
        "id": "HNlgWXd4_Ypq"
      },
      "execution_count": null,
      "outputs": []
    },
    {
      "cell_type": "markdown",
      "source": [
        "#Test stuff"
      ],
      "metadata": {
        "id": "v-Q34I0kyaOT"
      }
    },
    {
      "cell_type": "code",
      "source": [
        "from apriori_python import apriori\n",
        "itemSetList = [['eggs.java', 'bacon.java', 'soup.java'],\n",
        "                ['eggs.java', 'bacon.java', 'apple.java'],\n",
        "                ['soup.java', 'bacon.java', 'banana.java'],\n",
        "                ['soup.java', '', 'bacon.java']\n",
        "               ]\n",
        "freqItemSet, rules = apriori(itemSetList, minSup=0.5, minConf=0.5)\n",
        "print(rules)  \n",
        "# [[{'beer'}, {'rice'}, 0.6666666666666666], [{'rice'}, {'beer'}, 1.0]]\n",
        "# rules[0] --> rules[1], confidence = rules[2]"
      ],
      "metadata": {
        "id": "2x47-qV1yber"
      },
      "execution_count": null,
      "outputs": []
    }
  ]
}