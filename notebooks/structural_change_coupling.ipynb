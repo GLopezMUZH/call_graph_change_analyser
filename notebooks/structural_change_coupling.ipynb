{
  "nbformat": 4,
  "nbformat_minor": 0,
  "metadata": {
    "colab": {
      "name": "structural_change_coupling.ipynb",
      "provenance": [],
      "collapsed_sections": [],
      "toc_visible": true
    },
    "kernelspec": {
      "name": "python3",
      "display_name": "Python 3"
    },
    "language_info": {
      "name": "python"
    }
  },
  "cells": [
    {
      "cell_type": "markdown",
      "source": [
        "# Structural and logical change coupling"
      ],
      "metadata": {
        "id": "PteHg-DepRab"
      }
    },
    {
      "cell_type": "markdown",
      "source": [
        "Instructions: \n",
        "\n",
        "* Replace the proj_name and proj_datafolder in the Configuration section\n",
        "* [optional] replace the cloud drive folder in the Configuration section "
      ],
      "metadata": {
        "id": "7oj7pycOpaLU"
      }
    },
    {
      "cell_type": "markdown",
      "source": [
        "## Configuration"
      ],
      "metadata": {
        "id": "OBc1aH_1pbnF"
      }
    },
    {
      "cell_type": "code",
      "source": [
        "proj_name = 'glucosio-android' #'PROJ_NAME'\n",
        "proj_data_folder = './ex_ubuntu/' # database files location\n",
        "\n",
        "GDRIVE_FOLDER = 'callgraphCA/glucosioExample'  # cloud drive folder"
      ],
      "metadata": {
        "id": "YbohlNBCpfEd"
      },
      "execution_count": 1,
      "outputs": []
    },
    {
      "cell_type": "code",
      "source": [
        "from google.colab import drive\n",
        "import os\n",
        " \n",
        "drive.mount('/gdrive')\n",
        "# the project's folder\n",
        "drive_folder = '/gdrive/My Drive/' + GDRIVE_FOLDER\n",
        "os.chdir(drive_folder)"
      ],
      "metadata": {
        "colab": {
          "base_uri": "https://localhost:8080/"
        },
        "id": "Lcm-_mnSphIv",
        "outputId": "6dff1ee0-595f-4cc2-9b9f-9a8c86f6ad2a"
      },
      "execution_count": 2,
      "outputs": [
        {
          "output_type": "stream",
          "name": "stdout",
          "text": [
            "Mounted at /gdrive\n"
          ]
        }
      ]
    },
    {
      "cell_type": "code",
      "source": [
        "os.getcwd()"
      ],
      "metadata": {
        "colab": {
          "base_uri": "https://localhost:8080/",
          "height": 35
        },
        "id": "lQ9jLyOaI2pO",
        "outputId": "3da3feb4-9bb2-473f-ad99-eef7889838be"
      },
      "execution_count": 3,
      "outputs": [
        {
          "output_type": "execute_result",
          "data": {
            "application/vnd.google.colaboratory.intrinsic+json": {
              "type": "string"
            },
            "text/plain": [
              "'/gdrive/My Drive/callgraphCA/glucosioExample'"
            ]
          },
          "metadata": {},
          "execution_count": 3
        }
      ]
    },
    {
      "cell_type": "markdown",
      "source": [
        "## Imports"
      ],
      "metadata": {
        "id": "LpiRWHOXJDjb"
      }
    },
    {
      "cell_type": "code",
      "source": [
        "!pip install apyori\n",
        "# https://github.com/ymoch/apyori\n",
        "# https://medium.com/linkit-intecs/apriori-algorithm-in-data-mining-part-2-590d58e0998b\n",
        "\n",
        "!pip install python-stopwatch"
      ],
      "metadata": {
        "colab": {
          "base_uri": "https://localhost:8080/"
        },
        "id": "30TucLfeyvNy",
        "outputId": "728d14d7-4e43-46fa-9e28-d2c482cfb940"
      },
      "execution_count": 4,
      "outputs": [
        {
          "output_type": "stream",
          "name": "stdout",
          "text": [
            "Collecting apyori\n",
            "  Downloading apyori-1.1.2.tar.gz (8.6 kB)\n",
            "Building wheels for collected packages: apyori\n",
            "  Building wheel for apyori (setup.py) ... \u001b[?25l\u001b[?25hdone\n",
            "  Created wheel for apyori: filename=apyori-1.1.2-py3-none-any.whl size=5974 sha256=1d08ec5dd6521968355ca0069e8e4c296373aa2f548501d562a9924dd6582ff3\n",
            "  Stored in directory: /root/.cache/pip/wheels/cb/f6/e1/57973c631d27efd1a2f375bd6a83b2a616c4021f24aab84080\n",
            "Successfully built apyori\n",
            "Installing collected packages: apyori\n",
            "Successfully installed apyori-1.1.2\n",
            "Collecting python-stopwatch\n",
            "  Downloading python_stopwatch-1.0.4-py3-none-any.whl (6.5 kB)\n",
            "Requirement already satisfied: termcolor in /usr/local/lib/python3.7/dist-packages (from python-stopwatch) (1.1.0)\n",
            "Installing collected packages: python-stopwatch\n",
            "Successfully installed python-stopwatch-1.0.4\n"
          ]
        }
      ]
    },
    {
      "cell_type": "code",
      "source": [
        "import pandas as pd\n",
        "import sqlite3\n",
        "#from re import search\n",
        "#from typing import List\n",
        "#import time\n",
        "\n",
        "#from apyori import apriori\n",
        "import apyori\n",
        "#from stopwatch import Stopwatch, profile\n",
        "# works with lists, not pandas, no nan values, apostrophe between values of transaction\n",
        "\n",
        "# min_support -- The minimum support of relations (float).\n",
        "# min_confidence -- The minimum confidence of relations (float).\n",
        "# min_lift -- The minimum lift of relations (float).\n",
        "# max_length -- The maximum length of the relation (integer).\n"
      ],
      "metadata": {
        "id": "AMOmfeQ-WIgz"
      },
      "execution_count": 5,
      "outputs": []
    },
    {
      "cell_type": "code",
      "source": [
        "from analytics.coupling_association_rules_utils import *"
      ],
      "metadata": {
        "id": "2BZ0VxD_2gs6"
      },
      "execution_count": 6,
      "outputs": []
    },
    {
      "cell_type": "code",
      "source": [
        "import importlib\n",
        "import analytics.coupling_association_rules_utils\n",
        "\n",
        "importlib.reload(analytics.coupling_association_rules_utils)\n",
        "from analytics.coupling_association_rules_utils import *"
      ],
      "metadata": {
        "id": "hxax9hnD5Dpo"
      },
      "execution_count": 34,
      "outputs": []
    },
    {
      "cell_type": "markdown",
      "source": [
        "## Database connections"
      ],
      "metadata": {
        "id": "hDdxSs78KsBv"
      }
    },
    {
      "cell_type": "code",
      "source": [
        "ANALYTICS_DB_PATH =  proj_data_folder + proj_name + '_analytics.db'\n",
        "print(ANALYTICS_DB_PATH)\n",
        "os.path.exists(ANALYTICS_DB_PATH)\n",
        "con_analytics_db = sqlite3.connect(ANALYTICS_DB_PATH)"
      ],
      "metadata": {
        "id": "neJPdzztWhFD",
        "colab": {
          "base_uri": "https://localhost:8080/"
        },
        "outputId": "38ab4aa4-bd46-468a-a71f-62789d54cfbc"
      },
      "execution_count": 7,
      "outputs": [
        {
          "output_type": "stream",
          "name": "stdout",
          "text": [
            "./ex_ubuntu/glucosio-android_analytics.db\n"
          ]
        }
      ]
    },
    {
      "cell_type": "code",
      "source": [
        "cur = con_analytics_db.cursor()"
      ],
      "metadata": {
        "id": "krZ_j6EIWxE6"
      },
      "execution_count": 8,
      "outputs": []
    },
    {
      "cell_type": "markdown",
      "source": [
        "# Change coupling and structural dependency rates"
      ],
      "metadata": {
        "id": "ZjDESiORxpkm"
      }
    },
    {
      "cell_type": "code",
      "source": [
        "## On commit and file level - distinct\n",
        "sql_statement = \"\"\"select \n",
        "--commit_hash,\n",
        "GROUP_CONCAT(distinct(\"'\" || file_name|| \"'\") )  as files_in_hash\n",
        "from file_commit\n",
        "group by commit_hash;\"\"\"\n",
        "\n",
        "records, pruned_records, df = get_records(con_analytics_db, 'files_in_hash', sql_statement, 2)"
      ],
      "metadata": {
        "id": "CTu00WOuyVMX",
        "colab": {
          "base_uri": "https://localhost:8080/"
        },
        "outputId": "c5928ced-b5b0-41e0-af64-182db1baee8f"
      },
      "execution_count": 26,
      "outputs": [
        {
          "output_type": "stream",
          "name": "stdout",
          "text": [
            "df len:  584\n",
            "records len:  584\n",
            "pruned_records len:  221\n"
          ]
        }
      ]
    },
    {
      "cell_type": "code",
      "source": [
        "# for applying the apyori.apriori algorithm the records list must have a specific format\n",
        "records[0:5]"
      ],
      "metadata": {
        "id": "spzqxA9pETcb"
      },
      "execution_count": null,
      "outputs": []
    },
    {
      "cell_type": "markdown",
      "source": [
        "We can observe the differences between applying association rule mining to the whole itemset records or just the ones who are pruned with a minimum number of items (default >2)"
      ],
      "metadata": {
        "id": "oOnWXNl9KTwf"
      }
    },
    {
      "cell_type": "code",
      "source": [
        "rules_list, itemsets_list = calculate_structural_coupling_rates(con_analytics_db, records, min_confidence=0.1, min_support=0.1)"
      ],
      "metadata": {
        "colab": {
          "base_uri": "https://localhost:8080/"
        },
        "id": "xZNPhHJqJGH7",
        "outputId": "d616b9a8-8ba4-4d14-ffd6-8b9b8cdad9b6"
      },
      "execution_count": 35,
      "outputs": [
        {
          "output_type": "stream",
          "name": "stdout",
          "text": [
            "Nr rules 5, with structural coupling 0, 0.0\n"
          ]
        }
      ]
    },
    {
      "cell_type": "code",
      "source": [
        "rules_list, itemsets_list = calculate_structural_coupling_rates(con_analytics_db, pruned_records, min_confidence=0.1, min_support=0.1)"
      ],
      "metadata": {
        "colab": {
          "base_uri": "https://localhost:8080/"
        },
        "id": "C7F5pU2LJGKz",
        "outputId": "85218b26-dc3d-494e-e42f-71105bfdcd7c"
      },
      "execution_count": 45,
      "outputs": [
        {
          "output_type": "stream",
          "name": "stdout",
          "text": [
            "Nr rules 22, with structural coupling 4, 0.18\n"
          ]
        }
      ]
    },
    {
      "cell_type": "markdown",
      "source": [
        "The funciton *calculate_structural_coupling_rates* retunrs two lists, the itemsets_list contains itemsets > 2, the rules_list contains all found association rules (including the ones for one item because they show the support of the item in the whole transactions set). "
      ],
      "metadata": {
        "id": "gsNDkMvLK65Z"
      }
    },
    {
      "cell_type": "code",
      "source": [
        "for r in itemsets_list:\n",
        "  print(r)"
      ],
      "metadata": {
        "colab": {
          "base_uri": "https://localhost:8080/"
        },
        "id": "7NVFkKIOiAvy",
        "outputId": "a2b59729-453e-494a-bd0f-b27f48df3502"
      },
      "execution_count": 46,
      "outputs": [
        {
          "output_type": "stream",
          "name": "stdout",
          "text": [
            "['DatabaseHandler.java', 'OverviewFragment.java']\n",
            "['HistoryAdapter.java', 'OverviewFragment.java']\n",
            "['MainActivity.java', 'HistoryFragment.java']\n",
            "['MainActivity.java', 'OverviewFragment.java']\n",
            "['OverviewPresenter.java', 'OverviewFragment.java']\n"
          ]
        }
      ]
    },
    {
      "cell_type": "code",
      "source": [
        "for r in rules_list:\n",
        "  print(r)"
      ],
      "metadata": {
        "colab": {
          "base_uri": "https://localhost:8080/"
        },
        "id": "XSFUIubEKLXK",
        "outputId": "82fed383-7d2f-4028-844a-3fb2990ed24f"
      },
      "execution_count": 38,
      "outputs": [
        {
          "output_type": "stream",
          "name": "stdout",
          "text": [
            "RelationRecord(items=frozenset({\"'AddGlucoseActivity.java'\"}), support=0.18552036199095023, ordered_statistics=[OrderedStatistic(items_base=frozenset(), items_add=frozenset({\"'AddGlucoseActivity.java'\"}), confidence=0.18552036199095023, lift=1.0)])\n",
            "RelationRecord(items=frozenset({\"'AddGlucosePresenter.java'\"}), support=0.13574660633484162, ordered_statistics=[OrderedStatistic(items_base=frozenset(), items_add=frozenset({\"'AddGlucosePresenter.java'\"}), confidence=0.13574660633484162, lift=1.0)])\n",
            "RelationRecord(items=frozenset({\"'AddKetoneActivity.java'\"}), support=0.1085972850678733, ordered_statistics=[OrderedStatistic(items_base=frozenset(), items_add=frozenset({\"'AddKetoneActivity.java'\"}), confidence=0.1085972850678733, lift=1.0)])\n",
            "RelationRecord(items=frozenset({\"'AddWeightActivity.java'\"}), support=0.11764705882352941, ordered_statistics=[OrderedStatistic(items_base=frozenset(), items_add=frozenset({\"'AddWeightActivity.java'\"}), confidence=0.11764705882352941, lift=1.0)])\n",
            "RelationRecord(items=frozenset({\"'AssistantFragment.java'\"}), support=0.1085972850678733, ordered_statistics=[OrderedStatistic(items_base=frozenset(), items_add=frozenset({\"'AssistantFragment.java'\"}), confidence=0.1085972850678733, lift=1.0)])\n",
            "RelationRecord(items=frozenset({\"'DatabaseHandler.java'\"}), support=0.29411764705882354, ordered_statistics=[OrderedStatistic(items_base=frozenset(), items_add=frozenset({\"'DatabaseHandler.java'\"}), confidence=0.29411764705882354, lift=1.0)])\n",
            "RelationRecord(items=frozenset({\"'GlucosioApplication.java'\"}), support=0.11764705882352941, ordered_statistics=[OrderedStatistic(items_base=frozenset(), items_add=frozenset({\"'GlucosioApplication.java'\"}), confidence=0.11764705882352941, lift=1.0)])\n",
            "RelationRecord(items=frozenset({\"'HelloActivity.java'\"}), support=0.13122171945701358, ordered_statistics=[OrderedStatistic(items_base=frozenset(), items_add=frozenset({\"'HelloActivity.java'\"}), confidence=0.13122171945701358, lift=1.0)])\n",
            "RelationRecord(items=frozenset({\"'HistoryAdapter.java'\"}), support=0.1583710407239819, ordered_statistics=[OrderedStatistic(items_base=frozenset(), items_add=frozenset({\"'HistoryAdapter.java'\"}), confidence=0.1583710407239819, lift=1.0)])\n",
            "RelationRecord(items=frozenset({\"'HistoryFragment.java'\"}), support=0.16289592760180996, ordered_statistics=[OrderedStatistic(items_base=frozenset(), items_add=frozenset({\"'HistoryFragment.java'\"}), confidence=0.16289592760180996, lift=1.0)])\n",
            "RelationRecord(items=frozenset({\"'HistoryPresenter.java'\"}), support=0.12217194570135746, ordered_statistics=[OrderedStatistic(items_base=frozenset(), items_add=frozenset({\"'HistoryPresenter.java'\"}), confidence=0.12217194570135746, lift=1.0)])\n",
            "RelationRecord(items=frozenset({\"'MainActivity.java'\"}), support=0.39819004524886875, ordered_statistics=[OrderedStatistic(items_base=frozenset(), items_add=frozenset({\"'MainActivity.java'\"}), confidence=0.39819004524886875, lift=1.0)])\n",
            "RelationRecord(items=frozenset({\"'MainPresenter.java'\"}), support=0.10407239819004525, ordered_statistics=[OrderedStatistic(items_base=frozenset(), items_add=frozenset({\"'MainPresenter.java'\"}), confidence=0.10407239819004525, lift=1.0)])\n",
            "RelationRecord(items=frozenset({\"'OverviewFragment.java'\"}), support=0.2579185520361991, ordered_statistics=[OrderedStatistic(items_base=frozenset(), items_add=frozenset({\"'OverviewFragment.java'\"}), confidence=0.2579185520361991, lift=1.0)])\n",
            "RelationRecord(items=frozenset({\"'OverviewPresenter.java'\"}), support=0.16289592760180996, ordered_statistics=[OrderedStatistic(items_base=frozenset(), items_add=frozenset({\"'OverviewPresenter.java'\"}), confidence=0.16289592760180996, lift=1.0)])\n",
            "RelationRecord(items=frozenset({\"'PreferencesActivity.java'\"}), support=0.19909502262443438, ordered_statistics=[OrderedStatistic(items_base=frozenset(), items_add=frozenset({\"'PreferencesActivity.java'\"}), confidence=0.19909502262443438, lift=1.0)])\n",
            "RelationRecord(items=frozenset({\"'ReadingToCSV.java'\"}), support=0.1085972850678733, ordered_statistics=[OrderedStatistic(items_base=frozenset(), items_add=frozenset({\"'ReadingToCSV.java'\"}), confidence=0.1085972850678733, lift=1.0)])\n",
            "RelationRecord(items=frozenset({\"'DatabaseHandler.java'\", \"'OverviewFragment.java'\"}), support=0.11312217194570136, ordered_statistics=[OrderedStatistic(items_base=frozenset(), items_add=frozenset({\"'DatabaseHandler.java'\", \"'OverviewFragment.java'\"}), confidence=0.11312217194570136, lift=1.0), OrderedStatistic(items_base=frozenset({\"'DatabaseHandler.java'\"}), items_add=frozenset({\"'OverviewFragment.java'\"}), confidence=0.3846153846153846, lift=1.4912280701754383), OrderedStatistic(items_base=frozenset({\"'OverviewFragment.java'\"}), items_add=frozenset({\"'DatabaseHandler.java'\"}), confidence=0.43859649122807015, lift=1.4912280701754386)])\n",
            "RelationRecord(items=frozenset({\"'HistoryAdapter.java'\", \"'OverviewFragment.java'\"}), support=0.11312217194570136, ordered_statistics=[OrderedStatistic(items_base=frozenset(), items_add=frozenset({\"'HistoryAdapter.java'\", \"'OverviewFragment.java'\"}), confidence=0.11312217194570136, lift=1.0), OrderedStatistic(items_base=frozenset({\"'HistoryAdapter.java'\"}), items_add=frozenset({\"'OverviewFragment.java'\"}), confidence=0.7142857142857143, lift=2.769423558897243), OrderedStatistic(items_base=frozenset({\"'OverviewFragment.java'\"}), items_add=frozenset({\"'HistoryAdapter.java'\"}), confidence=0.43859649122807015, lift=2.769423558897243)])\n",
            "RelationRecord(items=frozenset({\"'MainActivity.java'\", \"'HistoryFragment.java'\"}), support=0.11312217194570136, ordered_statistics=[OrderedStatistic(items_base=frozenset(), items_add=frozenset({\"'MainActivity.java'\", \"'HistoryFragment.java'\"}), confidence=0.11312217194570136, lift=1.0), OrderedStatistic(items_base=frozenset({\"'HistoryFragment.java'\"}), items_add=frozenset({\"'MainActivity.java'\"}), confidence=0.6944444444444444, lift=1.7440025252525253), OrderedStatistic(items_base=frozenset({\"'MainActivity.java'\"}), items_add=frozenset({\"'HistoryFragment.java'\"}), confidence=0.2840909090909091, lift=1.7440025252525253)])\n",
            "RelationRecord(items=frozenset({\"'MainActivity.java'\", \"'OverviewFragment.java'\"}), support=0.10407239819004525, ordered_statistics=[OrderedStatistic(items_base=frozenset(), items_add=frozenset({\"'MainActivity.java'\", \"'OverviewFragment.java'\"}), confidence=0.10407239819004525, lift=1.0), OrderedStatistic(items_base=frozenset({\"'MainActivity.java'\"}), items_add=frozenset({\"'OverviewFragment.java'\"}), confidence=0.2613636363636364, lift=1.0133572567783096), OrderedStatistic(items_base=frozenset({\"'OverviewFragment.java'\"}), items_add=frozenset({\"'MainActivity.java'\"}), confidence=0.40350877192982454, lift=1.0133572567783093)])\n",
            "RelationRecord(items=frozenset({\"'OverviewPresenter.java'\", \"'OverviewFragment.java'\"}), support=0.14027149321266968, ordered_statistics=[OrderedStatistic(items_base=frozenset(), items_add=frozenset({\"'OverviewFragment.java'\", \"'OverviewPresenter.java'\"}), confidence=0.14027149321266968, lift=1.0), OrderedStatistic(items_base=frozenset({\"'OverviewFragment.java'\"}), items_add=frozenset({\"'OverviewPresenter.java'\"}), confidence=0.5438596491228069, lift=3.338693957115009), OrderedStatistic(items_base=frozenset({\"'OverviewPresenter.java'\"}), items_add=frozenset({\"'OverviewFragment.java'\"}), confidence=0.861111111111111, lift=3.338693957115009)])\n"
          ]
        }
      ]
    },
    {
      "cell_type": "markdown",
      "source": [
        "We can observe the influence of setting different values of confidence and support."
      ],
      "metadata": {
        "id": "frGJ1I2KLWMi"
      }
    },
    {
      "cell_type": "code",
      "source": [
        "rules_list, itemsets_list = calculate_structural_coupling_rates(con_analytics_db, pruned_records, min_confidence=0.1, min_support=0.1)"
      ],
      "metadata": {
        "colab": {
          "base_uri": "https://localhost:8080/"
        },
        "id": "VOyR3-8pLeLV",
        "outputId": "1a9e51f3-566f-4a00-8d05-1ffbc392cef9"
      },
      "execution_count": 39,
      "outputs": [
        {
          "output_type": "stream",
          "name": "stdout",
          "text": [
            "Nr rules 22, with structural coupling 4, 0.18\n"
          ]
        }
      ]
    },
    {
      "cell_type": "code",
      "source": [
        "rules_list, itemsets_list = calculate_structural_coupling_rates(con_analytics_db, pruned_records, min_confidence=0.15, min_support=0.15)"
      ],
      "metadata": {
        "id": "1fwEyZtuDH0j",
        "colab": {
          "base_uri": "https://localhost:8080/"
        },
        "outputId": "00211bc8-2f3c-4da0-c5bd-bbc29e60bd32"
      },
      "execution_count": 40,
      "outputs": [
        {
          "output_type": "stream",
          "name": "stdout",
          "text": [
            "Nr rules 8, with structural coupling 0, 0.0\n"
          ]
        }
      ]
    },
    {
      "cell_type": "code",
      "source": [
        "rules_list, itemsets_list = calculate_structural_coupling_rates(con_analytics_db, pruned_records, min_confidence=0.05, min_support=0.1)"
      ],
      "metadata": {
        "colab": {
          "base_uri": "https://localhost:8080/"
        },
        "id": "wKcU7guhLoYT",
        "outputId": "ad6c0da9-97a7-49d9-c832-d2827d0886a1"
      },
      "execution_count": 41,
      "outputs": [
        {
          "output_type": "stream",
          "name": "stdout",
          "text": [
            "Nr rules 22, with structural coupling 4, 0.18\n"
          ]
        }
      ]
    },
    {
      "cell_type": "code",
      "source": [
        "rules_list, itemsets_list = calculate_structural_coupling_rates(con_analytics_db, pruned_records, min_confidence=0.05, min_support=0.05)"
      ],
      "metadata": {
        "colab": {
          "base_uri": "https://localhost:8080/"
        },
        "id": "NwsP7ei9dO7t",
        "outputId": "bb5ab9b2-0b77-4531-97c6-e49d0810eb2c"
      },
      "execution_count": 42,
      "outputs": [
        {
          "output_type": "stream",
          "name": "stdout",
          "text": [
            "Nr rules 131, with structural coupling 87, 0.66\n"
          ]
        }
      ]
    },
    {
      "cell_type": "markdown",
      "source": [
        "# Display transactions with given itemsets"
      ],
      "metadata": {
        "id": "XZmkmeTzu7sx"
      }
    },
    {
      "cell_type": "code",
      "source": [
        "l_elem = ['OverviewFragment.java', 'DatabaseHandler.java']\n",
        "show_transactions_containing_items(df, 'files_in_hash',l_elem, print_elems=False)"
      ],
      "metadata": {
        "colab": {
          "base_uri": "https://localhost:8080/"
        },
        "id": "_SYEhXySE-kr",
        "outputId": "2bc10a27-82f2-4953-ddcd-fb6bf1e69c02"
      },
      "execution_count": 51,
      "outputs": [
        {
          "output_type": "stream",
          "name": "stdout",
          "text": [
            "Element count. Df len 584. 1ind: 93, 2dep: 25, 2ind: 92\n"
          ]
        }
      ]
    },
    {
      "cell_type": "code",
      "source": [
        "l_elem = ['AddCholesterolActivity.java', 'AddA1CActivity.java']\n",
        "show_transactions_containing_items(df,'files_in_hash', l_elem, print_elems=False)"
      ],
      "metadata": {
        "colab": {
          "base_uri": "https://localhost:8080/"
        },
        "id": "u-zAZTMuyMkq",
        "outputId": "23788d39-a61e-4932-923e-64091efb27b1"
      },
      "execution_count": 52,
      "outputs": [
        {
          "output_type": "stream",
          "name": "stdout",
          "text": [
            "Element count. Df len 584. 1ind: 22, 2dep: 14, 2ind: 16\n"
          ]
        }
      ]
    },
    {
      "cell_type": "code",
      "source": [
        "l_elems = [\"'AddKetoneActivity.java'\", \"'AddWeightActivity.java'\", \"'AddGlucoseActivity.java'\", \"'AddPressureActivity.java'\"]\n",
        "show_transactions_containing_items(df, 'files_in_hash', l_elems, print_elems=False)"
      ],
      "metadata": {
        "colab": {
          "base_uri": "https://localhost:8080/"
        },
        "id": "Q2CfyyexydaI",
        "outputId": "0a6a5f3b-5179-4cb3-f5db-5f474c9c3d51"
      },
      "execution_count": 53,
      "outputs": [
        {
          "output_type": "stream",
          "name": "stdout",
          "text": [
            "Element count. Df len 584. 1ind: 25, 2dep: 20, 3dep: 17, 4dep: 17,\n",
            "    2ind: 26, 3ind: 47, 4ind: 21\n"
          ]
        }
      ]
    },
    {
      "cell_type": "markdown",
      "source": [
        "## On week"
      ],
      "metadata": {
        "id": "tUx6juLTFK_Q"
      }
    },
    {
      "cell_type": "code",
      "source": [
        "# apyori.apriori needs apostrophes around each of the values of the transaction\n",
        "sql_statement = \"\"\"select\n",
        "strftime('%Y', date(commit_commiter_datetime)) as iso_yr,\n",
        "(strftime('%j', date(commit_commiter_datetime, '-3 days', 'weekday 4')) - 1) / 7 + 1 as iso_week,\n",
        "GROUP_CONCAT(\"'\" || file_name|| \"'\") as files_in_week\n",
        "--GROUP_CONCAT(distinct(\"'\" || file_name|| \"'\") ) as files_in_week\n",
        "from file_commit\n",
        "group by strftime('%Y', date(commit_commiter_datetime)),\n",
        "(strftime('%j', date(commit_commiter_datetime, '-3 days', 'weekday 4')) - 1) / 7 + 1;\"\"\"\n",
        "\n",
        "\n",
        "records, pruned_records, df = get_records(con_analytics_db, 'files_in_week', sql_statement, 2)"
      ],
      "metadata": {
        "colab": {
          "base_uri": "https://localhost:8080/"
        },
        "id": "NL3NZwGQXRgn",
        "outputId": "39eeab07-ba1d-4b75-d80c-d9e7ac9fff57"
      },
      "execution_count": 54,
      "outputs": [
        {
          "output_type": "stream",
          "name": "stdout",
          "text": [
            "df len:  87\n",
            "records len:  87\n",
            "pruned_records len:  78\n"
          ]
        }
      ]
    },
    {
      "cell_type": "code",
      "source": [
        "rules_list, itemsets_list = calculate_structural_coupling_rates(con_analytics_db, records, min_confidence=0.1, min_support=0.1)"
      ],
      "metadata": {
        "colab": {
          "base_uri": "https://localhost:8080/"
        },
        "id": "yyWS-UdnYCVZ",
        "outputId": "2699bcd1-204b-4bf0-af4a-b679f66dbb86"
      },
      "execution_count": 55,
      "outputs": [
        {
          "output_type": "stream",
          "name": "stdout",
          "text": [
            "Nr rules 379, with structural coupling 288, 0.76\n"
          ]
        }
      ]
    },
    {
      "cell_type": "code",
      "source": [
        "rules_list, itemsets_list = calculate_structural_coupling_rates(con_analytics_db, pruned_records, min_confidence=0.5, min_support=0.1)"
      ],
      "metadata": {
        "colab": {
          "base_uri": "https://localhost:8080/"
        },
        "id": "30e26sp4YLsU",
        "outputId": "2155e5f6-5b3a-4e7a-8deb-19ae46bd5aeb"
      },
      "execution_count": 60,
      "outputs": [
        {
          "output_type": "stream",
          "name": "stdout",
          "text": [
            "Nr rules 581, with structural coupling 516, 0.89\n"
          ]
        }
      ]
    }
  ]
}