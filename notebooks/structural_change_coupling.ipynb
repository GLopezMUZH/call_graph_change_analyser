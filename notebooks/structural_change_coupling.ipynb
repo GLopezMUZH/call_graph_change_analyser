{
  "nbformat": 4,
  "nbformat_minor": 0,
  "metadata": {
    "colab": {
      "name": "structural_change_coupling.ipynb",
      "provenance": [],
      "collapsed_sections": [],
      "toc_visible": true
    },
    "kernelspec": {
      "name": "python3",
      "display_name": "Python 3"
    },
    "language_info": {
      "name": "python"
    }
  },
  "cells": [
    {
      "cell_type": "markdown",
      "source": [
        "# Structural and logical change coupling"
      ],
      "metadata": {
        "id": "PteHg-DepRab"
      }
    },
    {
      "cell_type": "markdown",
      "source": [
        "Instructions: \n",
        "\n",
        "* Replace the proj_name and proj_datafolder in the Configuration section\n",
        "* [optional] replace the cloud drive folder in the Configuration section "
      ],
      "metadata": {
        "id": "7oj7pycOpaLU"
      }
    },
    {
      "cell_type": "markdown",
      "source": [
        "## Configuration"
      ],
      "metadata": {
        "id": "OBc1aH_1pbnF"
      }
    },
    {
      "cell_type": "code",
      "source": [
        "proj_name = 'glucosio-android' #'PROJ_NAME'\n",
        "proj_data_folder = './ex_ubuntu/' # database files location\n",
        "\n",
        "GDRIVE_FOLDER = 'callgraphCA/glucosioExample'  # cloud drive folder"
      ],
      "metadata": {
        "id": "YbohlNBCpfEd"
      },
      "execution_count": 1,
      "outputs": []
    },
    {
      "cell_type": "code",
      "source": [
        "from google.colab import drive\n",
        "import os\n",
        " \n",
        "drive.mount('/gdrive')\n",
        "# the project's folder\n",
        "drive_folder = '/gdrive/My Drive/' + GDRIVE_FOLDER\n",
        "os.chdir(drive_folder)"
      ],
      "metadata": {
        "colab": {
          "base_uri": "https://localhost:8080/"
        },
        "id": "Lcm-_mnSphIv",
        "outputId": "fcbfcf96-d2d1-47b1-96f2-ec05780a285f"
      },
      "execution_count": 2,
      "outputs": [
        {
          "output_type": "stream",
          "name": "stdout",
          "text": [
            "Mounted at /gdrive\n"
          ]
        }
      ]
    },
    {
      "cell_type": "code",
      "source": [
        "os.getcwd()"
      ],
      "metadata": {
        "colab": {
          "base_uri": "https://localhost:8080/",
          "height": 35
        },
        "id": "lQ9jLyOaI2pO",
        "outputId": "19d93943-25c9-4d47-bcd9-e1eef863f3ae"
      },
      "execution_count": 3,
      "outputs": [
        {
          "output_type": "execute_result",
          "data": {
            "application/vnd.google.colaboratory.intrinsic+json": {
              "type": "string"
            },
            "text/plain": [
              "'/gdrive/My Drive/callgraphCA/glucosioExample'"
            ]
          },
          "metadata": {},
          "execution_count": 3
        }
      ]
    },
    {
      "cell_type": "markdown",
      "source": [
        "## Imports"
      ],
      "metadata": {
        "id": "LpiRWHOXJDjb"
      }
    },
    {
      "cell_type": "code",
      "source": [
        "!pip install apyori\n",
        "# https://github.com/ymoch/apyori\n",
        "# https://medium.com/linkit-intecs/apriori-algorithm-in-data-mining-part-2-590d58e0998b\n",
        "\n",
        "!pip install python-stopwatch"
      ],
      "metadata": {
        "colab": {
          "base_uri": "https://localhost:8080/"
        },
        "id": "30TucLfeyvNy",
        "outputId": "bfec3d7c-6de7-4736-8426-9906a87fe9de"
      },
      "execution_count": 5,
      "outputs": [
        {
          "output_type": "stream",
          "name": "stdout",
          "text": [
            "Collecting apyori\n",
            "  Downloading apyori-1.1.2.tar.gz (8.6 kB)\n",
            "Building wheels for collected packages: apyori\n",
            "  Building wheel for apyori (setup.py) ... \u001b[?25l\u001b[?25hdone\n",
            "  Created wheel for apyori: filename=apyori-1.1.2-py3-none-any.whl size=5974 sha256=214a2a07470c4913a07056f5d25e204a4e3af48760cb535860442622d8f12e30\n",
            "  Stored in directory: /root/.cache/pip/wheels/cb/f6/e1/57973c631d27efd1a2f375bd6a83b2a616c4021f24aab84080\n",
            "Successfully built apyori\n",
            "Installing collected packages: apyori\n",
            "Successfully installed apyori-1.1.2\n",
            "Collecting python-stopwatch\n",
            "  Downloading python_stopwatch-1.0.4-py3-none-any.whl (6.5 kB)\n",
            "Requirement already satisfied: termcolor in /usr/local/lib/python3.7/dist-packages (from python-stopwatch) (1.1.0)\n",
            "Installing collected packages: python-stopwatch\n",
            "Successfully installed python-stopwatch-1.0.4\n"
          ]
        }
      ]
    },
    {
      "cell_type": "code",
      "source": [
        "import pandas as pd\n",
        "import sqlite3\n",
        "from re import search\n",
        "from typing import List\n",
        "import importlib\n",
        "import time\n",
        "\n",
        "#from apyori import apriori\n",
        "import apyori\n",
        "#from stopwatch import Stopwatch, profile\n",
        "# works with lists, not pandas, no nan values, apostrophe between values of transaction\n",
        "\n",
        "# min_support -- The minimum support of relations (float).\n",
        "# min_confidence -- The minimum confidence of relations (float).\n",
        "# min_lift -- The minimum lift of relations (float).\n",
        "# max_length -- The maximum length of the relation (integer).\n"
      ],
      "metadata": {
        "id": "AMOmfeQ-WIgz"
      },
      "execution_count": 6,
      "outputs": []
    },
    {
      "cell_type": "code",
      "source": [
        "from analytics.coupling_association_rules_utils import *\n",
        "from analytics.structural_dependencies import *"
      ],
      "metadata": {
        "id": "2BZ0VxD_2gs6"
      },
      "execution_count": 7,
      "outputs": []
    },
    {
      "cell_type": "code",
      "source": [
        "import coupling_association_rules_utils\n",
        "\n",
        "importlib.reload(coupling_association_rules_utils)\n",
        "from coupling_association_rules_utils import *"
      ],
      "metadata": {
        "id": "hxax9hnD5Dpo"
      },
      "execution_count": null,
      "outputs": []
    },
    {
      "cell_type": "markdown",
      "source": [
        "## Database connections"
      ],
      "metadata": {
        "id": "hDdxSs78KsBv"
      }
    },
    {
      "cell_type": "code",
      "source": [
        "ANALYTICS_DB_PATH =  proj_data_folder + proj_name + '_analytics.db'\n",
        "print(ANALYTICS_DB_PATH)\n",
        "os.path.exists(ANALYTICS_DB_PATH)\n",
        "con_analytics_db = sqlite3.connect(ANALYTICS_DB_PATH)"
      ],
      "metadata": {
        "id": "neJPdzztWhFD",
        "colab": {
          "base_uri": "https://localhost:8080/"
        },
        "outputId": "c6281b4a-4670-47d5-fa75-0639c8338466"
      },
      "execution_count": 8,
      "outputs": [
        {
          "output_type": "stream",
          "name": "stdout",
          "text": [
            "./ex_ubuntu/glucosio-android_analytics.db\n"
          ]
        }
      ]
    },
    {
      "cell_type": "code",
      "source": [
        "cur = con_analytics_db.cursor()"
      ],
      "metadata": {
        "id": "krZ_j6EIWxE6"
      },
      "execution_count": null,
      "outputs": []
    },
    {
      "cell_type": "markdown",
      "source": [
        "# Change coupling"
      ],
      "metadata": {
        "id": "ZjDESiORxpkm"
      }
    },
    {
      "cell_type": "markdown",
      "source": [
        "## On commit and file level - distinct"
      ],
      "metadata": {
        "id": "wAH9PY0GxqAU"
      }
    },
    {
      "cell_type": "code",
      "source": [
        "sql_statement = \"\"\"select \n",
        "--commit_hash,\n",
        "GROUP_CONCAT(distinct(\"'\" || file_name|| \"'\") )  as files_in_hash\n",
        "from file_commit\n",
        "group by commit_hash;\"\"\"\n",
        "\n",
        "records, pruned_records, df = get_records(con_analytics_db, 'files_in_hash', sql_statement, 2)"
      ],
      "metadata": {
        "id": "CTu00WOuyVMX",
        "colab": {
          "base_uri": "https://localhost:8080/"
        },
        "outputId": "efa7fc0f-9329-4c19-b270-2819efb48d10"
      },
      "execution_count": 9,
      "outputs": [
        {
          "output_type": "stream",
          "name": "stdout",
          "text": [
            "df len:  584\n",
            "records len:  584\n",
            "pruned_records len:  221\n"
          ]
        }
      ]
    },
    {
      "cell_type": "code",
      "source": [
        "records[0:5]"
      ],
      "metadata": {
        "id": "spzqxA9pETcb",
        "colab": {
          "base_uri": "https://localhost:8080/"
        },
        "outputId": "4226f1f4-0a79-4115-c03f-e1bd590654af"
      },
      "execution_count": 11,
      "outputs": [
        {
          "output_type": "execute_result",
          "data": {
            "text/plain": [
              "[[\"'HelloActivity.java'\",\n",
              "  \"'LicenceActivity.java'\",\n",
              "  \"'PreferencesActivity.java'\",\n",
              "  \"'AssistantAdapter.java'\",\n",
              "  \"'HistoryAdapter.java'\",\n",
              "  \"'HomePagerAdapter.java'\",\n",
              "  \"'HistoryFragment.java'\",\n",
              "  \"'OverviewFragment.java'\",\n",
              "  \"'AssistantPresenter.java'\",\n",
              "  \"'HelloPresenter.java'\",\n",
              "  \"'HistoryPresenter.java'\",\n",
              "  \"'OverviewPresenter.java'\",\n",
              "  \"'None'\",\n",
              "  \"'FormatDateTime.java'\",\n",
              "  \"'ReadingTools.java'\"],\n",
              " [\"'PreferencesActivityTest.java'\"],\n",
              " [\"'OverviewFragment.java'\"],\n",
              " [\"'GlucosioApplication.java'\", \"'MainActivity.java'\"],\n",
              " [\"'OverviewFragment.java'\"]]"
            ]
          },
          "metadata": {},
          "execution_count": 11
        }
      ]
    },
    {
      "cell_type": "code",
      "source": [
        "rules = apyori.apriori(records, min_confidence=0.1, min_support=0.1) # min_lift=0.2, \n",
        "rules_list = list(rules)\n",
        "print(len(rules_list))"
      ],
      "metadata": {
        "colab": {
          "base_uri": "https://localhost:8080/"
        },
        "id": "YdpDGI5dQsqc",
        "outputId": "ee7013d8-9429-44f3-915e-7fb354c42bc3"
      },
      "execution_count": 12,
      "outputs": [
        {
          "output_type": "stream",
          "name": "stdout",
          "text": [
            "5\n"
          ]
        }
      ]
    },
    {
      "cell_type": "code",
      "source": [
        "for r in rules_list:\n",
        "  print(r)"
      ],
      "metadata": {
        "colab": {
          "base_uri": "https://localhost:8080/"
        },
        "id": "7NVFkKIOiAvy",
        "outputId": "7cc02178-0372-4610-d253-b50052a846c7"
      },
      "execution_count": 13,
      "outputs": [
        {
          "output_type": "stream",
          "name": "stdout",
          "text": [
            "RelationRecord(items=frozenset({\"'DatabaseHandler.java'\"}), support=0.15753424657534246, ordered_statistics=[OrderedStatistic(items_base=frozenset(), items_add=frozenset({\"'DatabaseHandler.java'\"}), confidence=0.15753424657534246, lift=1.0)])\n",
            "RelationRecord(items=frozenset({\"'HelloActivity.java'\"}), support=0.10273972602739725, ordered_statistics=[OrderedStatistic(items_base=frozenset(), items_add=frozenset({\"'HelloActivity.java'\"}), confidence=0.10273972602739725, lift=1.0)])\n",
            "RelationRecord(items=frozenset({\"'MainActivity.java'\"}), support=0.285958904109589, ordered_statistics=[OrderedStatistic(items_base=frozenset(), items_add=frozenset({\"'MainActivity.java'\"}), confidence=0.285958904109589, lift=1.0)])\n",
            "RelationRecord(items=frozenset({\"'OverviewFragment.java'\"}), support=0.15924657534246575, ordered_statistics=[OrderedStatistic(items_base=frozenset(), items_add=frozenset({\"'OverviewFragment.java'\"}), confidence=0.15924657534246575, lift=1.0)])\n",
            "RelationRecord(items=frozenset({\"'PreferencesActivity.java'\"}), support=0.11986301369863013, ordered_statistics=[OrderedStatistic(items_base=frozenset(), items_add=frozenset({\"'PreferencesActivity.java'\"}), confidence=0.11986301369863013, lift=1.0)])\n"
          ]
        }
      ]
    },
    {
      "cell_type": "code",
      "source": [
        "rules = apyori.apriori(records, min_confidence=0.05, min_support=0.05) # min_lift=0.2, \n",
        "rules_list = list(rules)\n",
        "print(len(rules_list))"
      ],
      "metadata": {
        "colab": {
          "base_uri": "https://localhost:8080/"
        },
        "id": "2RB8gF3hQsyZ",
        "outputId": "6e497797-59bb-446a-ea91-a8cd60c21fc6"
      },
      "execution_count": 14,
      "outputs": [
        {
          "output_type": "stream",
          "name": "stdout",
          "text": [
            "15\n"
          ]
        }
      ]
    },
    {
      "cell_type": "code",
      "source": [
        "for r in rules_list[0:5]:\n",
        "  print(r)"
      ],
      "metadata": {
        "colab": {
          "base_uri": "https://localhost:8080/"
        },
        "id": "obNK938Da8RX",
        "outputId": "eedf2e04-4ca3-4ef5-9d53-1e72883b0594"
      },
      "execution_count": 16,
      "outputs": [
        {
          "output_type": "stream",
          "name": "stdout",
          "text": [
            "RelationRecord(items=frozenset({\"'AddGlucoseActivity.java'\"}), support=0.08047945205479452, ordered_statistics=[OrderedStatistic(items_base=frozenset(), items_add=frozenset({\"'AddGlucoseActivity.java'\"}), confidence=0.08047945205479452, lift=1.0)])\n",
            "RelationRecord(items=frozenset({\"'AddGlucosePresenter.java'\"}), support=0.06164383561643835, ordered_statistics=[OrderedStatistic(items_base=frozenset(), items_add=frozenset({\"'AddGlucosePresenter.java'\"}), confidence=0.06164383561643835, lift=1.0)])\n",
            "RelationRecord(items=frozenset({\"'BackupActivity.java'\"}), support=0.06164383561643835, ordered_statistics=[OrderedStatistic(items_base=frozenset(), items_add=frozenset({\"'BackupActivity.java'\"}), confidence=0.06164383561643835, lift=1.0)])\n",
            "RelationRecord(items=frozenset({\"'DatabaseHandler.java'\"}), support=0.15753424657534246, ordered_statistics=[OrderedStatistic(items_base=frozenset(), items_add=frozenset({\"'DatabaseHandler.java'\"}), confidence=0.15753424657534246, lift=1.0)])\n",
            "RelationRecord(items=frozenset({\"'GlucosioApplication.java'\"}), support=0.06335616438356165, ordered_statistics=[OrderedStatistic(items_base=frozenset(), items_add=frozenset({\"'GlucosioApplication.java'\"}), confidence=0.06335616438356165, lift=1.0)])\n"
          ]
        }
      ]
    },
    {
      "cell_type": "markdown",
      "source": [
        "### pruned records with 2 or more occurrences"
      ],
      "metadata": {
        "id": "ENejE6FnwCTF"
      }
    },
    {
      "cell_type": "code",
      "source": [
        "pruned_records[0:3]"
      ],
      "metadata": {
        "id": "1fwEyZtuDH0j",
        "colab": {
          "base_uri": "https://localhost:8080/"
        },
        "outputId": "3d03c4bd-9a70-4426-bdde-2f856623bd8d"
      },
      "execution_count": 17,
      "outputs": [
        {
          "output_type": "execute_result",
          "data": {
            "text/plain": [
              "[[\"'HelloActivity.java'\",\n",
              "  \"'LicenceActivity.java'\",\n",
              "  \"'PreferencesActivity.java'\",\n",
              "  \"'AssistantAdapter.java'\",\n",
              "  \"'HistoryAdapter.java'\",\n",
              "  \"'HomePagerAdapter.java'\",\n",
              "  \"'HistoryFragment.java'\",\n",
              "  \"'OverviewFragment.java'\",\n",
              "  \"'AssistantPresenter.java'\",\n",
              "  \"'HelloPresenter.java'\",\n",
              "  \"'HistoryPresenter.java'\",\n",
              "  \"'OverviewPresenter.java'\",\n",
              "  \"'None'\",\n",
              "  \"'FormatDateTime.java'\",\n",
              "  \"'ReadingTools.java'\"],\n",
              " [\"'DatabaseHandler.java'\",\n",
              "  \"'OverviewFragment.java'\",\n",
              "  \"'OverviewPresenter.java'\"],\n",
              " [\"'GlucosioApplication.java'\",\n",
              "  \"'AddA1CActivity.java'\",\n",
              "  \"'AddCholesterolActivity.java'\",\n",
              "  \"'AddKetoneActivity.java'\",\n",
              "  \"'AddPressureActivity.java'\",\n",
              "  \"'AddWeightActivity.java'\",\n",
              "  \"'OverviewFragment.java'\",\n",
              "  \"'OverviewPresenter.java'\",\n",
              "  \"'HelloActivityTest.java'\"]]"
            ]
          },
          "metadata": {},
          "execution_count": 17
        }
      ]
    },
    {
      "cell_type": "code",
      "source": [
        "rules = apyori.apriori(pruned_records, min_confidence=0.15, min_support=0.15) # min_lift=0.2, \n",
        "rules_list = list(rules)\n",
        "print(len(rules_list))\n",
        "for r in rules_list:\n",
        "  print(r)"
      ],
      "metadata": {
        "colab": {
          "base_uri": "https://localhost:8080/"
        },
        "id": "KIkfHoQUwu_Q",
        "outputId": "2d169fdd-760e-412e-d20b-e30481b4e127"
      },
      "execution_count": 20,
      "outputs": [
        {
          "output_type": "stream",
          "name": "stdout",
          "text": [
            "8\n",
            "RelationRecord(items=frozenset({\"'AddGlucoseActivity.java'\"}), support=0.18552036199095023, ordered_statistics=[OrderedStatistic(items_base=frozenset(), items_add=frozenset({\"'AddGlucoseActivity.java'\"}), confidence=0.18552036199095023, lift=1.0)])\n",
            "RelationRecord(items=frozenset({\"'DatabaseHandler.java'\"}), support=0.29411764705882354, ordered_statistics=[OrderedStatistic(items_base=frozenset(), items_add=frozenset({\"'DatabaseHandler.java'\"}), confidence=0.29411764705882354, lift=1.0)])\n",
            "RelationRecord(items=frozenset({\"'HistoryAdapter.java'\"}), support=0.1583710407239819, ordered_statistics=[OrderedStatistic(items_base=frozenset(), items_add=frozenset({\"'HistoryAdapter.java'\"}), confidence=0.1583710407239819, lift=1.0)])\n",
            "RelationRecord(items=frozenset({\"'HistoryFragment.java'\"}), support=0.16289592760180996, ordered_statistics=[OrderedStatistic(items_base=frozenset(), items_add=frozenset({\"'HistoryFragment.java'\"}), confidence=0.16289592760180996, lift=1.0)])\n",
            "RelationRecord(items=frozenset({\"'MainActivity.java'\"}), support=0.39819004524886875, ordered_statistics=[OrderedStatistic(items_base=frozenset(), items_add=frozenset({\"'MainActivity.java'\"}), confidence=0.39819004524886875, lift=1.0)])\n",
            "RelationRecord(items=frozenset({\"'OverviewFragment.java'\"}), support=0.2579185520361991, ordered_statistics=[OrderedStatistic(items_base=frozenset(), items_add=frozenset({\"'OverviewFragment.java'\"}), confidence=0.2579185520361991, lift=1.0)])\n",
            "RelationRecord(items=frozenset({\"'OverviewPresenter.java'\"}), support=0.16289592760180996, ordered_statistics=[OrderedStatistic(items_base=frozenset(), items_add=frozenset({\"'OverviewPresenter.java'\"}), confidence=0.16289592760180996, lift=1.0)])\n",
            "RelationRecord(items=frozenset({\"'PreferencesActivity.java'\"}), support=0.19909502262443438, ordered_statistics=[OrderedStatistic(items_base=frozenset(), items_add=frozenset({\"'PreferencesActivity.java'\"}), confidence=0.19909502262443438, lift=1.0)])\n"
          ]
        }
      ]
    },
    {
      "cell_type": "code",
      "source": [
        "rules = apyori.apriori(pruned_records, min_confidence=0.1, min_support=0.1) # min_lift=0.2, \n",
        "rules_list = list(rules)\n",
        "print(len(rules_list))"
      ],
      "metadata": {
        "colab": {
          "base_uri": "https://localhost:8080/"
        },
        "id": "_O4cE_swEynl",
        "outputId": "f85fc143-c52f-4aab-b47a-6072dd16cd49"
      },
      "execution_count": 22,
      "outputs": [
        {
          "output_type": "stream",
          "name": "stdout",
          "text": [
            "22\n"
          ]
        }
      ]
    },
    {
      "cell_type": "code",
      "source": [
        "for r in rules_list:\n",
        "  print(r)\n",
        "  "
      ],
      "metadata": {
        "id": "HnCQfc_1EysK",
        "colab": {
          "base_uri": "https://localhost:8080/"
        },
        "outputId": "05f7de6c-e3d2-41d8-d940-13f3b1ab37e0"
      },
      "execution_count": 25,
      "outputs": [
        {
          "output_type": "stream",
          "name": "stdout",
          "text": [
            "RelationRecord(items=frozenset({\"'AddGlucoseActivity.java'\"}), support=0.18552036199095023, ordered_statistics=[OrderedStatistic(items_base=frozenset(), items_add=frozenset({\"'AddGlucoseActivity.java'\"}), confidence=0.18552036199095023, lift=1.0)])\n",
            "RelationRecord(items=frozenset({\"'AddGlucosePresenter.java'\"}), support=0.13574660633484162, ordered_statistics=[OrderedStatistic(items_base=frozenset(), items_add=frozenset({\"'AddGlucosePresenter.java'\"}), confidence=0.13574660633484162, lift=1.0)])\n",
            "RelationRecord(items=frozenset({\"'AddKetoneActivity.java'\"}), support=0.1085972850678733, ordered_statistics=[OrderedStatistic(items_base=frozenset(), items_add=frozenset({\"'AddKetoneActivity.java'\"}), confidence=0.1085972850678733, lift=1.0)])\n",
            "RelationRecord(items=frozenset({\"'AddWeightActivity.java'\"}), support=0.11764705882352941, ordered_statistics=[OrderedStatistic(items_base=frozenset(), items_add=frozenset({\"'AddWeightActivity.java'\"}), confidence=0.11764705882352941, lift=1.0)])\n",
            "RelationRecord(items=frozenset({\"'AssistantFragment.java'\"}), support=0.1085972850678733, ordered_statistics=[OrderedStatistic(items_base=frozenset(), items_add=frozenset({\"'AssistantFragment.java'\"}), confidence=0.1085972850678733, lift=1.0)])\n",
            "RelationRecord(items=frozenset({\"'DatabaseHandler.java'\"}), support=0.29411764705882354, ordered_statistics=[OrderedStatistic(items_base=frozenset(), items_add=frozenset({\"'DatabaseHandler.java'\"}), confidence=0.29411764705882354, lift=1.0)])\n",
            "RelationRecord(items=frozenset({\"'GlucosioApplication.java'\"}), support=0.11764705882352941, ordered_statistics=[OrderedStatistic(items_base=frozenset(), items_add=frozenset({\"'GlucosioApplication.java'\"}), confidence=0.11764705882352941, lift=1.0)])\n",
            "RelationRecord(items=frozenset({\"'HelloActivity.java'\"}), support=0.13122171945701358, ordered_statistics=[OrderedStatistic(items_base=frozenset(), items_add=frozenset({\"'HelloActivity.java'\"}), confidence=0.13122171945701358, lift=1.0)])\n",
            "RelationRecord(items=frozenset({\"'HistoryAdapter.java'\"}), support=0.1583710407239819, ordered_statistics=[OrderedStatistic(items_base=frozenset(), items_add=frozenset({\"'HistoryAdapter.java'\"}), confidence=0.1583710407239819, lift=1.0)])\n",
            "RelationRecord(items=frozenset({\"'HistoryFragment.java'\"}), support=0.16289592760180996, ordered_statistics=[OrderedStatistic(items_base=frozenset(), items_add=frozenset({\"'HistoryFragment.java'\"}), confidence=0.16289592760180996, lift=1.0)])\n",
            "RelationRecord(items=frozenset({\"'HistoryPresenter.java'\"}), support=0.12217194570135746, ordered_statistics=[OrderedStatistic(items_base=frozenset(), items_add=frozenset({\"'HistoryPresenter.java'\"}), confidence=0.12217194570135746, lift=1.0)])\n",
            "RelationRecord(items=frozenset({\"'MainActivity.java'\"}), support=0.39819004524886875, ordered_statistics=[OrderedStatistic(items_base=frozenset(), items_add=frozenset({\"'MainActivity.java'\"}), confidence=0.39819004524886875, lift=1.0)])\n",
            "RelationRecord(items=frozenset({\"'MainPresenter.java'\"}), support=0.10407239819004525, ordered_statistics=[OrderedStatistic(items_base=frozenset(), items_add=frozenset({\"'MainPresenter.java'\"}), confidence=0.10407239819004525, lift=1.0)])\n",
            "RelationRecord(items=frozenset({\"'OverviewFragment.java'\"}), support=0.2579185520361991, ordered_statistics=[OrderedStatistic(items_base=frozenset(), items_add=frozenset({\"'OverviewFragment.java'\"}), confidence=0.2579185520361991, lift=1.0)])\n",
            "RelationRecord(items=frozenset({\"'OverviewPresenter.java'\"}), support=0.16289592760180996, ordered_statistics=[OrderedStatistic(items_base=frozenset(), items_add=frozenset({\"'OverviewPresenter.java'\"}), confidence=0.16289592760180996, lift=1.0)])\n",
            "RelationRecord(items=frozenset({\"'PreferencesActivity.java'\"}), support=0.19909502262443438, ordered_statistics=[OrderedStatistic(items_base=frozenset(), items_add=frozenset({\"'PreferencesActivity.java'\"}), confidence=0.19909502262443438, lift=1.0)])\n",
            "RelationRecord(items=frozenset({\"'ReadingToCSV.java'\"}), support=0.1085972850678733, ordered_statistics=[OrderedStatistic(items_base=frozenset(), items_add=frozenset({\"'ReadingToCSV.java'\"}), confidence=0.1085972850678733, lift=1.0)])\n",
            "RelationRecord(items=frozenset({\"'DatabaseHandler.java'\", \"'OverviewFragment.java'\"}), support=0.11312217194570136, ordered_statistics=[OrderedStatistic(items_base=frozenset(), items_add=frozenset({\"'DatabaseHandler.java'\", \"'OverviewFragment.java'\"}), confidence=0.11312217194570136, lift=1.0), OrderedStatistic(items_base=frozenset({\"'DatabaseHandler.java'\"}), items_add=frozenset({\"'OverviewFragment.java'\"}), confidence=0.3846153846153846, lift=1.4912280701754383), OrderedStatistic(items_base=frozenset({\"'OverviewFragment.java'\"}), items_add=frozenset({\"'DatabaseHandler.java'\"}), confidence=0.43859649122807015, lift=1.4912280701754386)])\n",
            "RelationRecord(items=frozenset({\"'HistoryAdapter.java'\", \"'OverviewFragment.java'\"}), support=0.11312217194570136, ordered_statistics=[OrderedStatistic(items_base=frozenset(), items_add=frozenset({\"'HistoryAdapter.java'\", \"'OverviewFragment.java'\"}), confidence=0.11312217194570136, lift=1.0), OrderedStatistic(items_base=frozenset({\"'HistoryAdapter.java'\"}), items_add=frozenset({\"'OverviewFragment.java'\"}), confidence=0.7142857142857143, lift=2.769423558897243), OrderedStatistic(items_base=frozenset({\"'OverviewFragment.java'\"}), items_add=frozenset({\"'HistoryAdapter.java'\"}), confidence=0.43859649122807015, lift=2.769423558897243)])\n",
            "RelationRecord(items=frozenset({\"'MainActivity.java'\", \"'HistoryFragment.java'\"}), support=0.11312217194570136, ordered_statistics=[OrderedStatistic(items_base=frozenset(), items_add=frozenset({\"'MainActivity.java'\", \"'HistoryFragment.java'\"}), confidence=0.11312217194570136, lift=1.0), OrderedStatistic(items_base=frozenset({\"'HistoryFragment.java'\"}), items_add=frozenset({\"'MainActivity.java'\"}), confidence=0.6944444444444444, lift=1.7440025252525253), OrderedStatistic(items_base=frozenset({\"'MainActivity.java'\"}), items_add=frozenset({\"'HistoryFragment.java'\"}), confidence=0.2840909090909091, lift=1.7440025252525253)])\n",
            "RelationRecord(items=frozenset({\"'MainActivity.java'\", \"'OverviewFragment.java'\"}), support=0.10407239819004525, ordered_statistics=[OrderedStatistic(items_base=frozenset(), items_add=frozenset({\"'MainActivity.java'\", \"'OverviewFragment.java'\"}), confidence=0.10407239819004525, lift=1.0), OrderedStatistic(items_base=frozenset({\"'MainActivity.java'\"}), items_add=frozenset({\"'OverviewFragment.java'\"}), confidence=0.2613636363636364, lift=1.0133572567783096), OrderedStatistic(items_base=frozenset({\"'OverviewFragment.java'\"}), items_add=frozenset({\"'MainActivity.java'\"}), confidence=0.40350877192982454, lift=1.0133572567783093)])\n",
            "RelationRecord(items=frozenset({\"'OverviewPresenter.java'\", \"'OverviewFragment.java'\"}), support=0.14027149321266968, ordered_statistics=[OrderedStatistic(items_base=frozenset(), items_add=frozenset({\"'OverviewPresenter.java'\", \"'OverviewFragment.java'\"}), confidence=0.14027149321266968, lift=1.0), OrderedStatistic(items_base=frozenset({\"'OverviewFragment.java'\"}), items_add=frozenset({\"'OverviewPresenter.java'\"}), confidence=0.5438596491228069, lift=3.338693957115009), OrderedStatistic(items_base=frozenset({\"'OverviewPresenter.java'\"}), items_add=frozenset({\"'OverviewFragment.java'\"}), confidence=0.861111111111111, lift=3.338693957115009)])\n"
          ]
        }
      ]
    },
    {
      "cell_type": "code",
      "source": [
        "rules = apyori.apriori(pruned_records, min_confidence=0.05, min_support=0.05)\n",
        "rules_list = list(rules)\n",
        "print(len(rules_list))"
      ],
      "metadata": {
        "colab": {
          "base_uri": "https://localhost:8080/"
        },
        "id": "O4lJuTiY0bhD",
        "outputId": "cbbe5c48-232d-4001-fd7e-1323793d79e0"
      },
      "execution_count": 27,
      "outputs": [
        {
          "output_type": "stream",
          "name": "stdout",
          "text": [
            "131\n"
          ]
        }
      ]
    },
    {
      "cell_type": "code",
      "source": [
        "for r in rules_list:\n",
        "  print(r)"
      ],
      "metadata": {
        "colab": {
          "base_uri": "https://localhost:8080/"
        },
        "id": "NwsP7ei9dO7t",
        "outputId": "25dc301d-f8ff-4137-f850-1f0b71a52b55"
      },
      "execution_count": 28,
      "outputs": [
        {
          "output_type": "stream",
          "name": "stdout",
          "text": [
            "RelationRecord(items=frozenset({\"'AboutActivity.java'\"}), support=0.06787330316742081, ordered_statistics=[OrderedStatistic(items_base=frozenset(), items_add=frozenset({\"'AboutActivity.java'\"}), confidence=0.06787330316742081, lift=1.0)])\n",
            "RelationRecord(items=frozenset({\"'AddA1CActivity.java'\"}), support=0.07239819004524888, ordered_statistics=[OrderedStatistic(items_base=frozenset(), items_add=frozenset({\"'AddA1CActivity.java'\"}), confidence=0.07239819004524888, lift=1.0)])\n",
            "RelationRecord(items=frozenset({\"'AddCholesterolActivity.java'\"}), support=0.09954751131221719, ordered_statistics=[OrderedStatistic(items_base=frozenset(), items_add=frozenset({\"'AddCholesterolActivity.java'\"}), confidence=0.09954751131221719, lift=1.0)])\n",
            "RelationRecord(items=frozenset({\"'AddGlucoseActivity.java'\"}), support=0.18552036199095023, ordered_statistics=[OrderedStatistic(items_base=frozenset(), items_add=frozenset({\"'AddGlucoseActivity.java'\"}), confidence=0.18552036199095023, lift=1.0)])\n",
            "RelationRecord(items=frozenset({\"'AddGlucosePresenter.java'\"}), support=0.13574660633484162, ordered_statistics=[OrderedStatistic(items_base=frozenset(), items_add=frozenset({\"'AddGlucosePresenter.java'\"}), confidence=0.13574660633484162, lift=1.0)])\n",
            "RelationRecord(items=frozenset({\"'AddKetoneActivity.java'\"}), support=0.1085972850678733, ordered_statistics=[OrderedStatistic(items_base=frozenset(), items_add=frozenset({\"'AddKetoneActivity.java'\"}), confidence=0.1085972850678733, lift=1.0)])\n",
            "RelationRecord(items=frozenset({\"'AddPressureActivity.java'\"}), support=0.09502262443438914, ordered_statistics=[OrderedStatistic(items_base=frozenset(), items_add=frozenset({\"'AddPressureActivity.java'\"}), confidence=0.09502262443438914, lift=1.0)])\n",
            "RelationRecord(items=frozenset({\"'AddWeightActivity.java'\"}), support=0.11764705882352941, ordered_statistics=[OrderedStatistic(items_base=frozenset(), items_add=frozenset({\"'AddWeightActivity.java'\"}), confidence=0.11764705882352941, lift=1.0)])\n",
            "RelationRecord(items=frozenset({\"'AddWeightPresenter.java'\"}), support=0.06787330316742081, ordered_statistics=[OrderedStatistic(items_base=frozenset(), items_add=frozenset({\"'AddWeightPresenter.java'\"}), confidence=0.06787330316742081, lift=1.0)])\n",
            "RelationRecord(items=frozenset({\"'AssistantAdapter.java'\"}), support=0.08144796380090498, ordered_statistics=[OrderedStatistic(items_base=frozenset(), items_add=frozenset({\"'AssistantAdapter.java'\"}), confidence=0.08144796380090498, lift=1.0)])\n",
            "RelationRecord(items=frozenset({\"'AssistantFragment.java'\"}), support=0.1085972850678733, ordered_statistics=[OrderedStatistic(items_base=frozenset(), items_add=frozenset({\"'AssistantFragment.java'\"}), confidence=0.1085972850678733, lift=1.0)])\n",
            "RelationRecord(items=frozenset({\"'AssistantPresenter.java'\"}), support=0.07239819004524888, ordered_statistics=[OrderedStatistic(items_base=frozenset(), items_add=frozenset({\"'AssistantPresenter.java'\"}), confidence=0.07239819004524888, lift=1.0)])\n",
            "RelationRecord(items=frozenset({\"'BackupActivity.java'\"}), support=0.07239819004524888, ordered_statistics=[OrderedStatistic(items_base=frozenset(), items_add=frozenset({\"'BackupActivity.java'\"}), confidence=0.07239819004524888, lift=1.0)])\n",
            "RelationRecord(items=frozenset({\"'DatabaseHandler.java'\"}), support=0.29411764705882354, ordered_statistics=[OrderedStatistic(items_base=frozenset(), items_add=frozenset({\"'DatabaseHandler.java'\"}), confidence=0.29411764705882354, lift=1.0)])\n",
            "RelationRecord(items=frozenset({\"'ExportPresenter.java'\"}), support=0.09502262443438914, ordered_statistics=[OrderedStatistic(items_base=frozenset(), items_add=frozenset({\"'ExportPresenter.java'\"}), confidence=0.09502262443438914, lift=1.0)])\n",
            "RelationRecord(items=frozenset({\"'FormatDateTime.java'\"}), support=0.07239819004524888, ordered_statistics=[OrderedStatistic(items_base=frozenset(), items_add=frozenset({\"'FormatDateTime.java'\"}), confidence=0.07239819004524888, lift=1.0)])\n",
            "RelationRecord(items=frozenset({\"'GlucoseRanges.java'\"}), support=0.06787330316742081, ordered_statistics=[OrderedStatistic(items_base=frozenset(), items_add=frozenset({\"'GlucoseRanges.java'\"}), confidence=0.06787330316742081, lift=1.0)])\n",
            "RelationRecord(items=frozenset({\"'GlucoseReading.java'\"}), support=0.05429864253393665, ordered_statistics=[OrderedStatistic(items_base=frozenset(), items_add=frozenset({\"'GlucoseReading.java'\"}), confidence=0.05429864253393665, lift=1.0)])\n",
            "RelationRecord(items=frozenset({\"'GlucosioApplication.java'\"}), support=0.11764705882352941, ordered_statistics=[OrderedStatistic(items_base=frozenset(), items_add=frozenset({\"'GlucosioApplication.java'\"}), confidence=0.11764705882352941, lift=1.0)])\n",
            "RelationRecord(items=frozenset({\"'HelloActivity.java'\"}), support=0.13122171945701358, ordered_statistics=[OrderedStatistic(items_base=frozenset(), items_add=frozenset({\"'HelloActivity.java'\"}), confidence=0.13122171945701358, lift=1.0)])\n",
            "RelationRecord(items=frozenset({\"'HelloPresenter.java'\"}), support=0.09502262443438914, ordered_statistics=[OrderedStatistic(items_base=frozenset(), items_add=frozenset({\"'HelloPresenter.java'\"}), confidence=0.09502262443438914, lift=1.0)])\n",
            "RelationRecord(items=frozenset({\"'HistoryAdapter.java'\"}), support=0.1583710407239819, ordered_statistics=[OrderedStatistic(items_base=frozenset(), items_add=frozenset({\"'HistoryAdapter.java'\"}), confidence=0.1583710407239819, lift=1.0)])\n",
            "RelationRecord(items=frozenset({\"'HistoryFragment.java'\"}), support=0.16289592760180996, ordered_statistics=[OrderedStatistic(items_base=frozenset(), items_add=frozenset({\"'HistoryFragment.java'\"}), confidence=0.16289592760180996, lift=1.0)])\n",
            "RelationRecord(items=frozenset({\"'HistoryPresenter.java'\"}), support=0.12217194570135746, ordered_statistics=[OrderedStatistic(items_base=frozenset(), items_add=frozenset({\"'HistoryPresenter.java'\"}), confidence=0.12217194570135746, lift=1.0)])\n",
            "RelationRecord(items=frozenset({\"'MainActivity.java'\"}), support=0.39819004524886875, ordered_statistics=[OrderedStatistic(items_base=frozenset(), items_add=frozenset({\"'MainActivity.java'\"}), confidence=0.39819004524886875, lift=1.0)])\n",
            "RelationRecord(items=frozenset({\"'MainPresenter.java'\"}), support=0.10407239819004525, ordered_statistics=[OrderedStatistic(items_base=frozenset(), items_add=frozenset({\"'MainPresenter.java'\"}), confidence=0.10407239819004525, lift=1.0)])\n",
            "RelationRecord(items=frozenset({\"'Migration.java'\"}), support=0.058823529411764705, ordered_statistics=[OrderedStatistic(items_base=frozenset(), items_add=frozenset({\"'Migration.java'\"}), confidence=0.058823529411764705, lift=1.0)])\n",
            "RelationRecord(items=frozenset({\"'None'\"}), support=0.058823529411764705, ordered_statistics=[OrderedStatistic(items_base=frozenset(), items_add=frozenset({\"'None'\"}), confidence=0.058823529411764705, lift=1.0)])\n",
            "RelationRecord(items=frozenset({\"'OverviewFragment.java'\"}), support=0.2579185520361991, ordered_statistics=[OrderedStatistic(items_base=frozenset(), items_add=frozenset({\"'OverviewFragment.java'\"}), confidence=0.2579185520361991, lift=1.0)])\n",
            "RelationRecord(items=frozenset({\"'OverviewPresenter.java'\"}), support=0.16289592760180996, ordered_statistics=[OrderedStatistic(items_base=frozenset(), items_add=frozenset({\"'OverviewPresenter.java'\"}), confidence=0.16289592760180996, lift=1.0)])\n",
            "RelationRecord(items=frozenset({\"'PreferencesActivity.java'\"}), support=0.19909502262443438, ordered_statistics=[OrderedStatistic(items_base=frozenset(), items_add=frozenset({\"'PreferencesActivity.java'\"}), confidence=0.19909502262443438, lift=1.0)])\n",
            "RelationRecord(items=frozenset({\"'ReadingToCSV.java'\"}), support=0.1085972850678733, ordered_statistics=[OrderedStatistic(items_base=frozenset(), items_add=frozenset({\"'ReadingToCSV.java'\"}), confidence=0.1085972850678733, lift=1.0)])\n",
            "RelationRecord(items=frozenset({\"'User.java'\"}), support=0.058823529411764705, ordered_statistics=[OrderedStatistic(items_base=frozenset(), items_add=frozenset({\"'User.java'\"}), confidence=0.058823529411764705, lift=1.0)])\n",
            "RelationRecord(items=frozenset({\"'MainActivity.java'\", \"'AboutActivity.java'\"}), support=0.06334841628959276, ordered_statistics=[OrderedStatistic(items_base=frozenset(), items_add=frozenset({\"'MainActivity.java'\", \"'AboutActivity.java'\"}), confidence=0.06334841628959276, lift=1.0), OrderedStatistic(items_base=frozenset({\"'AboutActivity.java'\"}), items_add=frozenset({\"'MainActivity.java'\"}), confidence=0.9333333333333333, lift=2.343939393939394), OrderedStatistic(items_base=frozenset({\"'MainActivity.java'\"}), items_add=frozenset({\"'AboutActivity.java'\"}), confidence=0.1590909090909091, lift=2.343939393939394)])\n",
            "RelationRecord(items=frozenset({\"'AddA1CActivity.java'\", \"'AddCholesterolActivity.java'\"}), support=0.06334841628959276, ordered_statistics=[OrderedStatistic(items_base=frozenset(), items_add=frozenset({\"'AddA1CActivity.java'\", \"'AddCholesterolActivity.java'\"}), confidence=0.06334841628959276, lift=1.0), OrderedStatistic(items_base=frozenset({\"'AddA1CActivity.java'\"}), items_add=frozenset({\"'AddCholesterolActivity.java'\"}), confidence=0.8749999999999999, lift=8.789772727272727), OrderedStatistic(items_base=frozenset({\"'AddCholesterolActivity.java'\"}), items_add=frozenset({\"'AddA1CActivity.java'\"}), confidence=0.6363636363636364, lift=8.789772727272727)])\n",
            "RelationRecord(items=frozenset({\"'AddA1CActivity.java'\", \"'AddGlucoseActivity.java'\"}), support=0.058823529411764705, ordered_statistics=[OrderedStatistic(items_base=frozenset(), items_add=frozenset({\"'AddA1CActivity.java'\", \"'AddGlucoseActivity.java'\"}), confidence=0.058823529411764705, lift=1.0), OrderedStatistic(items_base=frozenset({\"'AddA1CActivity.java'\"}), items_add=frozenset({\"'AddGlucoseActivity.java'\"}), confidence=0.8124999999999999, lift=4.379573170731707), OrderedStatistic(items_base=frozenset({\"'AddGlucoseActivity.java'\"}), items_add=frozenset({\"'AddA1CActivity.java'\"}), confidence=0.3170731707317073, lift=4.379573170731707)])\n",
            "RelationRecord(items=frozenset({\"'AddA1CActivity.java'\", \"'AddKetoneActivity.java'\"}), support=0.06334841628959276, ordered_statistics=[OrderedStatistic(items_base=frozenset(), items_add=frozenset({\"'AddA1CActivity.java'\", \"'AddKetoneActivity.java'\"}), confidence=0.06334841628959276, lift=1.0), OrderedStatistic(items_base=frozenset({\"'AddA1CActivity.java'\"}), items_add=frozenset({\"'AddKetoneActivity.java'\"}), confidence=0.8749999999999999, lift=8.057291666666666), OrderedStatistic(items_base=frozenset({\"'AddKetoneActivity.java'\"}), items_add=frozenset({\"'AddA1CActivity.java'\"}), confidence=0.5833333333333333, lift=8.057291666666664)])\n",
            "RelationRecord(items=frozenset({\"'AddA1CActivity.java'\", \"'AddPressureActivity.java'\"}), support=0.058823529411764705, ordered_statistics=[OrderedStatistic(items_base=frozenset(), items_add=frozenset({\"'AddA1CActivity.java'\", \"'AddPressureActivity.java'\"}), confidence=0.058823529411764705, lift=1.0), OrderedStatistic(items_base=frozenset({\"'AddA1CActivity.java'\"}), items_add=frozenset({\"'AddPressureActivity.java'\"}), confidence=0.8124999999999999, lift=8.550595238095237), OrderedStatistic(items_base=frozenset({\"'AddPressureActivity.java'\"}), items_add=frozenset({\"'AddA1CActivity.java'\"}), confidence=0.6190476190476191, lift=8.550595238095237)])\n",
            "RelationRecord(items=frozenset({\"'AddA1CActivity.java'\", \"'AddWeightActivity.java'\"}), support=0.058823529411764705, ordered_statistics=[OrderedStatistic(items_base=frozenset(), items_add=frozenset({\"'AddA1CActivity.java'\", \"'AddWeightActivity.java'\"}), confidence=0.058823529411764705, lift=1.0), OrderedStatistic(items_base=frozenset({\"'AddA1CActivity.java'\"}), items_add=frozenset({\"'AddWeightActivity.java'\"}), confidence=0.8124999999999999, lift=6.906249999999999), OrderedStatistic(items_base=frozenset({\"'AddWeightActivity.java'\"}), items_add=frozenset({\"'AddA1CActivity.java'\"}), confidence=0.5, lift=6.906249999999999)])\n",
            "RelationRecord(items=frozenset({\"'AddGlucoseActivity.java'\", \"'AddCholesterolActivity.java'\"}), support=0.08597285067873303, ordered_statistics=[OrderedStatistic(items_base=frozenset(), items_add=frozenset({\"'AddCholesterolActivity.java'\", \"'AddGlucoseActivity.java'\"}), confidence=0.08597285067873303, lift=1.0), OrderedStatistic(items_base=frozenset({\"'AddCholesterolActivity.java'\"}), items_add=frozenset({\"'AddGlucoseActivity.java'\"}), confidence=0.8636363636363636, lift=4.655210643015521), OrderedStatistic(items_base=frozenset({\"'AddGlucoseActivity.java'\"}), items_add=frozenset({\"'AddCholesterolActivity.java'\"}), confidence=0.46341463414634143, lift=4.655210643015521)])\n",
            "RelationRecord(items=frozenset({\"'AddKetoneActivity.java'\", \"'AddCholesterolActivity.java'\"}), support=0.09954751131221719, ordered_statistics=[OrderedStatistic(items_base=frozenset(), items_add=frozenset({\"'AddCholesterolActivity.java'\", \"'AddKetoneActivity.java'\"}), confidence=0.09954751131221719, lift=1.0), OrderedStatistic(items_base=frozenset({\"'AddCholesterolActivity.java'\"}), items_add=frozenset({\"'AddKetoneActivity.java'\"}), confidence=1.0, lift=9.208333333333334), OrderedStatistic(items_base=frozenset({\"'AddKetoneActivity.java'\"}), items_add=frozenset({\"'AddCholesterolActivity.java'\"}), confidence=0.9166666666666666, lift=9.208333333333334)])\n",
            "RelationRecord(items=frozenset({\"'AddPressureActivity.java'\", \"'AddCholesterolActivity.java'\"}), support=0.09502262443438914, ordered_statistics=[OrderedStatistic(items_base=frozenset(), items_add=frozenset({\"'AddCholesterolActivity.java'\", \"'AddPressureActivity.java'\"}), confidence=0.09502262443438914, lift=1.0), OrderedStatistic(items_base=frozenset({\"'AddCholesterolActivity.java'\"}), items_add=frozenset({\"'AddPressureActivity.java'\"}), confidence=0.9545454545454546, lift=10.045454545454547), OrderedStatistic(items_base=frozenset({\"'AddPressureActivity.java'\"}), items_add=frozenset({\"'AddCholesterolActivity.java'\"}), confidence=1.0, lift=10.045454545454547)])\n",
            "RelationRecord(items=frozenset({\"'AddWeightActivity.java'\", \"'AddCholesterolActivity.java'\"}), support=0.08597285067873303, ordered_statistics=[OrderedStatistic(items_base=frozenset(), items_add=frozenset({\"'AddWeightActivity.java'\", \"'AddCholesterolActivity.java'\"}), confidence=0.08597285067873303, lift=1.0), OrderedStatistic(items_base=frozenset({\"'AddCholesterolActivity.java'\"}), items_add=frozenset({\"'AddWeightActivity.java'\"}), confidence=0.8636363636363636, lift=7.340909090909091), OrderedStatistic(items_base=frozenset({\"'AddWeightActivity.java'\"}), items_add=frozenset({\"'AddCholesterolActivity.java'\"}), confidence=0.7307692307692307, lift=7.340909090909091)])\n",
            "RelationRecord(items=frozenset({\"'AddGlucosePresenter.java'\", \"'AddGlucoseActivity.java'\"}), support=0.09049773755656108, ordered_statistics=[OrderedStatistic(items_base=frozenset(), items_add=frozenset({\"'AddGlucosePresenter.java'\", \"'AddGlucoseActivity.java'\"}), confidence=0.09049773755656108, lift=1.0), OrderedStatistic(items_base=frozenset({\"'AddGlucoseActivity.java'\"}), items_add=frozenset({\"'AddGlucosePresenter.java'\"}), confidence=0.4878048780487805, lift=3.59349593495935), OrderedStatistic(items_base=frozenset({\"'AddGlucosePresenter.java'\"}), items_add=frozenset({\"'AddGlucoseActivity.java'\"}), confidence=0.6666666666666667, lift=3.59349593495935)])\n",
            "RelationRecord(items=frozenset({\"'AddKetoneActivity.java'\", \"'AddGlucoseActivity.java'\"}), support=0.08597285067873303, ordered_statistics=[OrderedStatistic(items_base=frozenset(), items_add=frozenset({\"'AddGlucoseActivity.java'\", \"'AddKetoneActivity.java'\"}), confidence=0.08597285067873303, lift=1.0), OrderedStatistic(items_base=frozenset({\"'AddGlucoseActivity.java'\"}), items_add=frozenset({\"'AddKetoneActivity.java'\"}), confidence=0.46341463414634143, lift=4.267276422764227), OrderedStatistic(items_base=frozenset({\"'AddKetoneActivity.java'\"}), items_add=frozenset({\"'AddGlucoseActivity.java'\"}), confidence=0.7916666666666666, lift=4.267276422764227)])\n",
            "RelationRecord(items=frozenset({\"'AddPressureActivity.java'\", \"'AddGlucoseActivity.java'\"}), support=0.08144796380090498, ordered_statistics=[OrderedStatistic(items_base=frozenset(), items_add=frozenset({\"'AddGlucoseActivity.java'\", \"'AddPressureActivity.java'\"}), confidence=0.08144796380090498, lift=1.0), OrderedStatistic(items_base=frozenset({\"'AddGlucoseActivity.java'\"}), items_add=frozenset({\"'AddPressureActivity.java'\"}), confidence=0.43902439024390244, lift=4.62020905923345), OrderedStatistic(items_base=frozenset({\"'AddPressureActivity.java'\"}), items_add=frozenset({\"'AddGlucoseActivity.java'\"}), confidence=0.8571428571428572, lift=4.620209059233449)])\n",
            "RelationRecord(items=frozenset({\"'AddWeightActivity.java'\", \"'AddGlucoseActivity.java'\"}), support=0.08597285067873303, ordered_statistics=[OrderedStatistic(items_base=frozenset(), items_add=frozenset({\"'AddWeightActivity.java'\", \"'AddGlucoseActivity.java'\"}), confidence=0.08597285067873303, lift=1.0), OrderedStatistic(items_base=frozenset({\"'AddGlucoseActivity.java'\"}), items_add=frozenset({\"'AddWeightActivity.java'\"}), confidence=0.46341463414634143, lift=3.9390243902439024), OrderedStatistic(items_base=frozenset({\"'AddWeightActivity.java'\"}), items_add=frozenset({\"'AddGlucoseActivity.java'\"}), confidence=0.7307692307692307, lift=3.939024390243902)])\n",
            "RelationRecord(items=frozenset({\"'MainActivity.java'\", \"'AddGlucoseActivity.java'\"}), support=0.058823529411764705, ordered_statistics=[OrderedStatistic(items_base=frozenset(), items_add=frozenset({\"'MainActivity.java'\", \"'AddGlucoseActivity.java'\"}), confidence=0.058823529411764705, lift=1.0), OrderedStatistic(items_base=frozenset({\"'AddGlucoseActivity.java'\"}), items_add=frozenset({\"'MainActivity.java'\"}), confidence=0.3170731707317073, lift=0.7962860310421287), OrderedStatistic(items_base=frozenset({\"'MainActivity.java'\"}), items_add=frozenset({\"'AddGlucoseActivity.java'\"}), confidence=0.14772727272727273, lift=0.7962860310421286)])\n",
            "RelationRecord(items=frozenset({\"'OverviewFragment.java'\", \"'AddGlucoseActivity.java'\"}), support=0.05429864253393665, ordered_statistics=[OrderedStatistic(items_base=frozenset(), items_add=frozenset({\"'AddGlucoseActivity.java'\", \"'OverviewFragment.java'\"}), confidence=0.05429864253393665, lift=1.0), OrderedStatistic(items_base=frozenset({\"'AddGlucoseActivity.java'\"}), items_add=frozenset({\"'OverviewFragment.java'\"}), confidence=0.2926829268292683, lift=1.1347881899871628), OrderedStatistic(items_base=frozenset({\"'OverviewFragment.java'\"}), items_add=frozenset({\"'AddGlucoseActivity.java'\"}), confidence=0.21052631578947367, lift=1.134788189987163)])\n",
            "RelationRecord(items=frozenset({\"'DatabaseHandler.java'\", \"'AddGlucosePresenter.java'\"}), support=0.05429864253393665, ordered_statistics=[OrderedStatistic(items_base=frozenset(), items_add=frozenset({\"'DatabaseHandler.java'\", \"'AddGlucosePresenter.java'\"}), confidence=0.05429864253393665, lift=1.0), OrderedStatistic(items_base=frozenset({\"'AddGlucosePresenter.java'\"}), items_add=frozenset({\"'DatabaseHandler.java'\"}), confidence=0.4, lift=1.36), OrderedStatistic(items_base=frozenset({\"'DatabaseHandler.java'\"}), items_add=frozenset({\"'AddGlucosePresenter.java'\"}), confidence=0.18461538461538463, lift=1.36)])\n",
            "RelationRecord(items=frozenset({\"'MainActivity.java'\", \"'AddGlucosePresenter.java'\"}), support=0.05429864253393665, ordered_statistics=[OrderedStatistic(items_base=frozenset(), items_add=frozenset({\"'MainActivity.java'\", \"'AddGlucosePresenter.java'\"}), confidence=0.05429864253393665, lift=1.0), OrderedStatistic(items_base=frozenset({\"'AddGlucosePresenter.java'\"}), items_add=frozenset({\"'MainActivity.java'\"}), confidence=0.4, lift=1.0045454545454546), OrderedStatistic(items_base=frozenset({\"'MainActivity.java'\"}), items_add=frozenset({\"'AddGlucosePresenter.java'\"}), confidence=0.13636363636363638, lift=1.0045454545454549)])\n",
            "RelationRecord(items=frozenset({\"'AddGlucosePresenter.java'\", \"'OverviewFragment.java'\"}), support=0.05429864253393665, ordered_statistics=[OrderedStatistic(items_base=frozenset(), items_add=frozenset({\"'AddGlucosePresenter.java'\", \"'OverviewFragment.java'\"}), confidence=0.05429864253393665, lift=1.0), OrderedStatistic(items_base=frozenset({\"'AddGlucosePresenter.java'\"}), items_add=frozenset({\"'OverviewFragment.java'\"}), confidence=0.4, lift=1.550877192982456), OrderedStatistic(items_base=frozenset({\"'OverviewFragment.java'\"}), items_add=frozenset({\"'AddGlucosePresenter.java'\"}), confidence=0.21052631578947367, lift=1.550877192982456)])\n",
            "RelationRecord(items=frozenset({\"'AddPressureActivity.java'\", \"'AddKetoneActivity.java'\"}), support=0.09502262443438914, ordered_statistics=[OrderedStatistic(items_base=frozenset(), items_add=frozenset({\"'AddKetoneActivity.java'\", \"'AddPressureActivity.java'\"}), confidence=0.09502262443438914, lift=1.0), OrderedStatistic(items_base=frozenset({\"'AddKetoneActivity.java'\"}), items_add=frozenset({\"'AddPressureActivity.java'\"}), confidence=0.8749999999999999, lift=9.208333333333332), OrderedStatistic(items_base=frozenset({\"'AddPressureActivity.java'\"}), items_add=frozenset({\"'AddKetoneActivity.java'\"}), confidence=1.0, lift=9.208333333333334)])\n",
            "RelationRecord(items=frozenset({\"'AddWeightActivity.java'\", \"'AddKetoneActivity.java'\"}), support=0.09049773755656108, ordered_statistics=[OrderedStatistic(items_base=frozenset(), items_add=frozenset({\"'AddWeightActivity.java'\", \"'AddKetoneActivity.java'\"}), confidence=0.09049773755656108, lift=1.0), OrderedStatistic(items_base=frozenset({\"'AddKetoneActivity.java'\"}), items_add=frozenset({\"'AddWeightActivity.java'\"}), confidence=0.8333333333333333, lift=7.083333333333333), OrderedStatistic(items_base=frozenset({\"'AddWeightActivity.java'\"}), items_add=frozenset({\"'AddKetoneActivity.java'\"}), confidence=0.7692307692307693, lift=7.083333333333334)])\n",
            "RelationRecord(items=frozenset({\"'AddWeightActivity.java'\", \"'AddPressureActivity.java'\"}), support=0.08597285067873303, ordered_statistics=[OrderedStatistic(items_base=frozenset(), items_add=frozenset({\"'AddWeightActivity.java'\", \"'AddPressureActivity.java'\"}), confidence=0.08597285067873303, lift=1.0), OrderedStatistic(items_base=frozenset({\"'AddPressureActivity.java'\"}), items_add=frozenset({\"'AddWeightActivity.java'\"}), confidence=0.9047619047619048, lift=7.690476190476191), OrderedStatistic(items_base=frozenset({\"'AddWeightActivity.java'\"}), items_add=frozenset({\"'AddPressureActivity.java'\"}), confidence=0.7307692307692307, lift=7.690476190476191)])\n",
            "RelationRecord(items=frozenset({\"'AssistantFragment.java'\", \"'AssistantAdapter.java'\"}), support=0.06334841628959276, ordered_statistics=[OrderedStatistic(items_base=frozenset(), items_add=frozenset({\"'AssistantAdapter.java'\", \"'AssistantFragment.java'\"}), confidence=0.06334841628959276, lift=1.0), OrderedStatistic(items_base=frozenset({\"'AssistantAdapter.java'\"}), items_add=frozenset({\"'AssistantFragment.java'\"}), confidence=0.7777777777777777, lift=7.162037037037036), OrderedStatistic(items_base=frozenset({\"'AssistantFragment.java'\"}), items_add=frozenset({\"'AssistantAdapter.java'\"}), confidence=0.5833333333333333, lift=7.162037037037036)])\n",
            "RelationRecord(items=frozenset({\"'AssistantPresenter.java'\", \"'AssistantAdapter.java'\"}), support=0.058823529411764705, ordered_statistics=[OrderedStatistic(items_base=frozenset(), items_add=frozenset({\"'AssistantPresenter.java'\", \"'AssistantAdapter.java'\"}), confidence=0.058823529411764705, lift=1.0), OrderedStatistic(items_base=frozenset({\"'AssistantAdapter.java'\"}), items_add=frozenset({\"'AssistantPresenter.java'\"}), confidence=0.7222222222222222, lift=9.975694444444443), OrderedStatistic(items_base=frozenset({\"'AssistantPresenter.java'\"}), items_add=frozenset({\"'AssistantAdapter.java'\"}), confidence=0.8124999999999999, lift=9.975694444444443)])\n",
            "RelationRecord(items=frozenset({\"'AssistantPresenter.java'\", \"'AssistantFragment.java'\"}), support=0.05429864253393665, ordered_statistics=[OrderedStatistic(items_base=frozenset(), items_add=frozenset({\"'AssistantPresenter.java'\", \"'AssistantFragment.java'\"}), confidence=0.05429864253393665, lift=1.0), OrderedStatistic(items_base=frozenset({\"'AssistantFragment.java'\"}), items_add=frozenset({\"'AssistantPresenter.java'\"}), confidence=0.5, lift=6.906249999999999), OrderedStatistic(items_base=frozenset({\"'AssistantPresenter.java'\"}), items_add=frozenset({\"'AssistantFragment.java'\"}), confidence=0.75, lift=6.90625)])\n",
            "RelationRecord(items=frozenset({\"'MainActivity.java'\", \"'AssistantFragment.java'\"}), support=0.08597285067873303, ordered_statistics=[OrderedStatistic(items_base=frozenset(), items_add=frozenset({\"'MainActivity.java'\", \"'AssistantFragment.java'\"}), confidence=0.08597285067873303, lift=1.0), OrderedStatistic(items_base=frozenset({\"'AssistantFragment.java'\"}), items_add=frozenset({\"'MainActivity.java'\"}), confidence=0.7916666666666666, lift=1.988162878787879), OrderedStatistic(items_base=frozenset({\"'MainActivity.java'\"}), items_add=frozenset({\"'AssistantFragment.java'\"}), confidence=0.2159090909090909, lift=1.9881628787878787)])\n",
            "RelationRecord(items=frozenset({\"'DatabaseHandler.java'\", \"'GlucoseReading.java'\"}), support=0.05429864253393665, ordered_statistics=[OrderedStatistic(items_base=frozenset(), items_add=frozenset({\"'DatabaseHandler.java'\", \"'GlucoseReading.java'\"}), confidence=0.05429864253393665, lift=1.0), OrderedStatistic(items_base=frozenset({\"'DatabaseHandler.java'\"}), items_add=frozenset({\"'GlucoseReading.java'\"}), confidence=0.18461538461538463, lift=3.4), OrderedStatistic(items_base=frozenset({\"'GlucoseReading.java'\"}), items_add=frozenset({\"'DatabaseHandler.java'\"}), confidence=1.0, lift=3.4)])\n",
            "RelationRecord(items=frozenset({\"'DatabaseHandler.java'\", \"'HistoryAdapter.java'\"}), support=0.07692307692307693, ordered_statistics=[OrderedStatistic(items_base=frozenset(), items_add=frozenset({\"'DatabaseHandler.java'\", \"'HistoryAdapter.java'\"}), confidence=0.07692307692307693, lift=1.0), OrderedStatistic(items_base=frozenset({\"'DatabaseHandler.java'\"}), items_add=frozenset({\"'HistoryAdapter.java'\"}), confidence=0.26153846153846155, lift=1.6514285714285717), OrderedStatistic(items_base=frozenset({\"'HistoryAdapter.java'\"}), items_add=frozenset({\"'DatabaseHandler.java'\"}), confidence=0.48571428571428577, lift=1.6514285714285715)])\n",
            "RelationRecord(items=frozenset({\"'DatabaseHandler.java'\", \"'HistoryFragment.java'\"}), support=0.06334841628959276, ordered_statistics=[OrderedStatistic(items_base=frozenset(), items_add=frozenset({\"'DatabaseHandler.java'\", \"'HistoryFragment.java'\"}), confidence=0.06334841628959276, lift=1.0), OrderedStatistic(items_base=frozenset({\"'DatabaseHandler.java'\"}), items_add=frozenset({\"'HistoryFragment.java'\"}), confidence=0.21538461538461537, lift=1.3222222222222222), OrderedStatistic(items_base=frozenset({\"'HistoryFragment.java'\"}), items_add=frozenset({\"'DatabaseHandler.java'\"}), confidence=0.38888888888888884, lift=1.322222222222222)])\n",
            "RelationRecord(items=frozenset({\"'DatabaseHandler.java'\", \"'HistoryPresenter.java'\"}), support=0.07692307692307693, ordered_statistics=[OrderedStatistic(items_base=frozenset(), items_add=frozenset({\"'DatabaseHandler.java'\", \"'HistoryPresenter.java'\"}), confidence=0.07692307692307693, lift=1.0), OrderedStatistic(items_base=frozenset({\"'DatabaseHandler.java'\"}), items_add=frozenset({\"'HistoryPresenter.java'\"}), confidence=0.26153846153846155, lift=2.140740740740741), OrderedStatistic(items_base=frozenset({\"'HistoryPresenter.java'\"}), items_add=frozenset({\"'DatabaseHandler.java'\"}), confidence=0.6296296296296297, lift=2.140740740740741)])\n",
            "RelationRecord(items=frozenset({\"'MainActivity.java'\", \"'DatabaseHandler.java'\"}), support=0.09502262443438914, ordered_statistics=[OrderedStatistic(items_base=frozenset(), items_add=frozenset({\"'MainActivity.java'\", \"'DatabaseHandler.java'\"}), confidence=0.09502262443438914, lift=1.0), OrderedStatistic(items_base=frozenset({\"'DatabaseHandler.java'\"}), items_add=frozenset({\"'MainActivity.java'\"}), confidence=0.32307692307692304, lift=0.8113636363636363), OrderedStatistic(items_base=frozenset({\"'MainActivity.java'\"}), items_add=frozenset({\"'DatabaseHandler.java'\"}), confidence=0.23863636363636365, lift=0.8113636363636364)])\n",
            "RelationRecord(items=frozenset({\"'DatabaseHandler.java'\", \"'OverviewFragment.java'\"}), support=0.11312217194570136, ordered_statistics=[OrderedStatistic(items_base=frozenset(), items_add=frozenset({\"'DatabaseHandler.java'\", \"'OverviewFragment.java'\"}), confidence=0.11312217194570136, lift=1.0), OrderedStatistic(items_base=frozenset({\"'DatabaseHandler.java'\"}), items_add=frozenset({\"'OverviewFragment.java'\"}), confidence=0.3846153846153846, lift=1.4912280701754383), OrderedStatistic(items_base=frozenset({\"'OverviewFragment.java'\"}), items_add=frozenset({\"'DatabaseHandler.java'\"}), confidence=0.43859649122807015, lift=1.4912280701754386)])\n",
            "RelationRecord(items=frozenset({\"'OverviewPresenter.java'\", \"'DatabaseHandler.java'\"}), support=0.09954751131221719, ordered_statistics=[OrderedStatistic(items_base=frozenset(), items_add=frozenset({\"'OverviewPresenter.java'\", \"'DatabaseHandler.java'\"}), confidence=0.09954751131221719, lift=1.0), OrderedStatistic(items_base=frozenset({\"'DatabaseHandler.java'\"}), items_add=frozenset({\"'OverviewPresenter.java'\"}), confidence=0.3384615384615384, lift=2.0777777777777775), OrderedStatistic(items_base=frozenset({\"'OverviewPresenter.java'\"}), items_add=frozenset({\"'DatabaseHandler.java'\"}), confidence=0.611111111111111, lift=2.0777777777777775)])\n",
            "RelationRecord(items=frozenset({\"'DatabaseHandler.java'\", \"'PreferencesActivity.java'\"}), support=0.06334841628959276, ordered_statistics=[OrderedStatistic(items_base=frozenset(), items_add=frozenset({\"'DatabaseHandler.java'\", \"'PreferencesActivity.java'\"}), confidence=0.06334841628959276, lift=1.0), OrderedStatistic(items_base=frozenset({\"'DatabaseHandler.java'\"}), items_add=frozenset({\"'PreferencesActivity.java'\"}), confidence=0.21538461538461537, lift=1.0818181818181818), OrderedStatistic(items_base=frozenset({\"'PreferencesActivity.java'\"}), items_add=frozenset({\"'DatabaseHandler.java'\"}), confidence=0.3181818181818182, lift=1.0818181818181818)])\n",
            "RelationRecord(items=frozenset({\"'MainActivity.java'\", \"'ExportPresenter.java'\"}), support=0.06334841628959276, ordered_statistics=[OrderedStatistic(items_base=frozenset(), items_add=frozenset({\"'MainActivity.java'\", \"'ExportPresenter.java'\"}), confidence=0.06334841628959276, lift=1.0), OrderedStatistic(items_base=frozenset({\"'ExportPresenter.java'\"}), items_add=frozenset({\"'MainActivity.java'\"}), confidence=0.6666666666666666, lift=1.6742424242424243), OrderedStatistic(items_base=frozenset({\"'MainActivity.java'\"}), items_add=frozenset({\"'ExportPresenter.java'\"}), confidence=0.1590909090909091, lift=1.6742424242424243)])\n",
            "RelationRecord(items=frozenset({\"'ExportPresenter.java'\", \"'ReadingToCSV.java'\"}), support=0.07239819004524888, ordered_statistics=[OrderedStatistic(items_base=frozenset(), items_add=frozenset({\"'ExportPresenter.java'\", \"'ReadingToCSV.java'\"}), confidence=0.07239819004524888, lift=1.0), OrderedStatistic(items_base=frozenset({\"'ExportPresenter.java'\"}), items_add=frozenset({\"'ReadingToCSV.java'\"}), confidence=0.761904761904762, lift=7.015873015873017), OrderedStatistic(items_base=frozenset({\"'ReadingToCSV.java'\"}), items_add=frozenset({\"'ExportPresenter.java'\"}), confidence=0.6666666666666667, lift=7.015873015873017)])\n",
            "RelationRecord(items=frozenset({\"'MainActivity.java'\", \"'GlucosioApplication.java'\"}), support=0.08597285067873303, ordered_statistics=[OrderedStatistic(items_base=frozenset(), items_add=frozenset({\"'MainActivity.java'\", \"'GlucosioApplication.java'\"}), confidence=0.08597285067873303, lift=1.0), OrderedStatistic(items_base=frozenset({\"'GlucosioApplication.java'\"}), items_add=frozenset({\"'MainActivity.java'\"}), confidence=0.7307692307692307, lift=1.8352272727272727), OrderedStatistic(items_base=frozenset({\"'MainActivity.java'\"}), items_add=frozenset({\"'GlucosioApplication.java'\"}), confidence=0.2159090909090909, lift=1.8352272727272727)])\n",
            "RelationRecord(items=frozenset({\"'HelloPresenter.java'\", \"'HelloActivity.java'\"}), support=0.06334841628959276, ordered_statistics=[OrderedStatistic(items_base=frozenset(), items_add=frozenset({\"'HelloPresenter.java'\", \"'HelloActivity.java'\"}), confidence=0.06334841628959276, lift=1.0), OrderedStatistic(items_base=frozenset({\"'HelloActivity.java'\"}), items_add=frozenset({\"'HelloPresenter.java'\"}), confidence=0.48275862068965514, lift=5.080459770114943), OrderedStatistic(items_base=frozenset({\"'HelloPresenter.java'\"}), items_add=frozenset({\"'HelloActivity.java'\"}), confidence=0.6666666666666666, lift=5.080459770114942)])\n",
            "RelationRecord(items=frozenset({\"'MainActivity.java'\", \"'HelloActivity.java'\"}), support=0.06334841628959276, ordered_statistics=[OrderedStatistic(items_base=frozenset(), items_add=frozenset({\"'MainActivity.java'\", \"'HelloActivity.java'\"}), confidence=0.06334841628959276, lift=1.0), OrderedStatistic(items_base=frozenset({\"'HelloActivity.java'\"}), items_add=frozenset({\"'MainActivity.java'\"}), confidence=0.48275862068965514, lift=1.2123824451410659), OrderedStatistic(items_base=frozenset({\"'MainActivity.java'\"}), items_add=frozenset({\"'HelloActivity.java'\"}), confidence=0.1590909090909091, lift=1.2123824451410659)])\n",
            "RelationRecord(items=frozenset({\"'PreferencesActivity.java'\", \"'HelloActivity.java'\"}), support=0.07239819004524888, ordered_statistics=[OrderedStatistic(items_base=frozenset(), items_add=frozenset({\"'PreferencesActivity.java'\", \"'HelloActivity.java'\"}), confidence=0.07239819004524888, lift=1.0), OrderedStatistic(items_base=frozenset({\"'HelloActivity.java'\"}), items_add=frozenset({\"'PreferencesActivity.java'\"}), confidence=0.5517241379310345, lift=2.7711598746081507), OrderedStatistic(items_base=frozenset({\"'PreferencesActivity.java'\"}), items_add=frozenset({\"'HelloActivity.java'\"}), confidence=0.3636363636363637, lift=2.7711598746081507)])\n",
            "RelationRecord(items=frozenset({\"'HelloPresenter.java'\", \"'PreferencesActivity.java'\"}), support=0.06334841628959276, ordered_statistics=[OrderedStatistic(items_base=frozenset(), items_add=frozenset({\"'HelloPresenter.java'\", \"'PreferencesActivity.java'\"}), confidence=0.06334841628959276, lift=1.0), OrderedStatistic(items_base=frozenset({\"'HelloPresenter.java'\"}), items_add=frozenset({\"'PreferencesActivity.java'\"}), confidence=0.6666666666666666, lift=3.3484848484848486), OrderedStatistic(items_base=frozenset({\"'PreferencesActivity.java'\"}), items_add=frozenset({\"'HelloPresenter.java'\"}), confidence=0.3181818181818182, lift=3.3484848484848486)])\n",
            "RelationRecord(items=frozenset({\"'HistoryFragment.java'\", \"'HistoryAdapter.java'\"}), support=0.05429864253393665, ordered_statistics=[OrderedStatistic(items_base=frozenset(), items_add=frozenset({\"'HistoryAdapter.java'\", \"'HistoryFragment.java'\"}), confidence=0.05429864253393665, lift=1.0), OrderedStatistic(items_base=frozenset({\"'HistoryAdapter.java'\"}), items_add=frozenset({\"'HistoryFragment.java'\"}), confidence=0.34285714285714286, lift=2.104761904761905), OrderedStatistic(items_base=frozenset({\"'HistoryFragment.java'\"}), items_add=frozenset({\"'HistoryAdapter.java'\"}), confidence=0.3333333333333333, lift=2.104761904761905)])\n",
            "RelationRecord(items=frozenset({\"'HistoryAdapter.java'\", \"'HistoryPresenter.java'\"}), support=0.07692307692307693, ordered_statistics=[OrderedStatistic(items_base=frozenset(), items_add=frozenset({\"'HistoryAdapter.java'\", \"'HistoryPresenter.java'\"}), confidence=0.07692307692307693, lift=1.0), OrderedStatistic(items_base=frozenset({\"'HistoryAdapter.java'\"}), items_add=frozenset({\"'HistoryPresenter.java'\"}), confidence=0.48571428571428577, lift=3.9756613756613763), OrderedStatistic(items_base=frozenset({\"'HistoryPresenter.java'\"}), items_add=frozenset({\"'HistoryAdapter.java'\"}), confidence=0.6296296296296297, lift=3.975661375661376)])\n",
            "RelationRecord(items=frozenset({\"'MainActivity.java'\", \"'HistoryAdapter.java'\"}), support=0.08144796380090498, ordered_statistics=[OrderedStatistic(items_base=frozenset(), items_add=frozenset({\"'MainActivity.java'\", \"'HistoryAdapter.java'\"}), confidence=0.08144796380090498, lift=1.0), OrderedStatistic(items_base=frozenset({\"'HistoryAdapter.java'\"}), items_add=frozenset({\"'MainActivity.java'\"}), confidence=0.5142857142857143, lift=1.2915584415584418), OrderedStatistic(items_base=frozenset({\"'MainActivity.java'\"}), items_add=frozenset({\"'HistoryAdapter.java'\"}), confidence=0.20454545454545456, lift=1.2915584415584418)])\n",
            "RelationRecord(items=frozenset({\"'HistoryAdapter.java'\", \"'OverviewFragment.java'\"}), support=0.11312217194570136, ordered_statistics=[OrderedStatistic(items_base=frozenset(), items_add=frozenset({\"'HistoryAdapter.java'\", \"'OverviewFragment.java'\"}), confidence=0.11312217194570136, lift=1.0), OrderedStatistic(items_base=frozenset({\"'HistoryAdapter.java'\"}), items_add=frozenset({\"'OverviewFragment.java'\"}), confidence=0.7142857142857143, lift=2.769423558897243), OrderedStatistic(items_base=frozenset({\"'OverviewFragment.java'\"}), items_add=frozenset({\"'HistoryAdapter.java'\"}), confidence=0.43859649122807015, lift=2.769423558897243)])\n",
            "RelationRecord(items=frozenset({\"'OverviewPresenter.java'\", \"'HistoryAdapter.java'\"}), support=0.06787330316742081, ordered_statistics=[OrderedStatistic(items_base=frozenset(), items_add=frozenset({\"'OverviewPresenter.java'\", \"'HistoryAdapter.java'\"}), confidence=0.06787330316742081, lift=1.0), OrderedStatistic(items_base=frozenset({\"'HistoryAdapter.java'\"}), items_add=frozenset({\"'OverviewPresenter.java'\"}), confidence=0.42857142857142855, lift=2.630952380952381), OrderedStatistic(items_base=frozenset({\"'OverviewPresenter.java'\"}), items_add=frozenset({\"'HistoryAdapter.java'\"}), confidence=0.41666666666666663, lift=2.630952380952381)])\n",
            "RelationRecord(items=frozenset({\"'HistoryFragment.java'\", \"'HistoryPresenter.java'\"}), support=0.06334841628959276, ordered_statistics=[OrderedStatistic(items_base=frozenset(), items_add=frozenset({\"'HistoryFragment.java'\", \"'HistoryPresenter.java'\"}), confidence=0.06334841628959276, lift=1.0), OrderedStatistic(items_base=frozenset({\"'HistoryFragment.java'\"}), items_add=frozenset({\"'HistoryPresenter.java'\"}), confidence=0.38888888888888884, lift=3.1831275720164607), OrderedStatistic(items_base=frozenset({\"'HistoryPresenter.java'\"}), items_add=frozenset({\"'HistoryFragment.java'\"}), confidence=0.5185185185185185, lift=3.1831275720164607)])\n",
            "RelationRecord(items=frozenset({\"'MainActivity.java'\", \"'HistoryFragment.java'\"}), support=0.11312217194570136, ordered_statistics=[OrderedStatistic(items_base=frozenset(), items_add=frozenset({\"'MainActivity.java'\", \"'HistoryFragment.java'\"}), confidence=0.11312217194570136, lift=1.0), OrderedStatistic(items_base=frozenset({\"'HistoryFragment.java'\"}), items_add=frozenset({\"'MainActivity.java'\"}), confidence=0.6944444444444444, lift=1.7440025252525253), OrderedStatistic(items_base=frozenset({\"'MainActivity.java'\"}), items_add=frozenset({\"'HistoryFragment.java'\"}), confidence=0.2840909090909091, lift=1.7440025252525253)])\n",
            "RelationRecord(items=frozenset({\"'HistoryFragment.java'\", \"'OverviewFragment.java'\"}), support=0.07692307692307693, ordered_statistics=[OrderedStatistic(items_base=frozenset(), items_add=frozenset({\"'HistoryFragment.java'\", \"'OverviewFragment.java'\"}), confidence=0.07692307692307693, lift=1.0), OrderedStatistic(items_base=frozenset({\"'HistoryFragment.java'\"}), items_add=frozenset({\"'OverviewFragment.java'\"}), confidence=0.4722222222222222, lift=1.830896686159844), OrderedStatistic(items_base=frozenset({\"'OverviewFragment.java'\"}), items_add=frozenset({\"'HistoryFragment.java'\"}), confidence=0.2982456140350877, lift=1.830896686159844)])\n",
            "RelationRecord(items=frozenset({\"'MainActivity.java'\", \"'HistoryPresenter.java'\"}), support=0.06334841628959276, ordered_statistics=[OrderedStatistic(items_base=frozenset(), items_add=frozenset({\"'MainActivity.java'\", \"'HistoryPresenter.java'\"}), confidence=0.06334841628959276, lift=1.0), OrderedStatistic(items_base=frozenset({\"'HistoryPresenter.java'\"}), items_add=frozenset({\"'MainActivity.java'\"}), confidence=0.5185185185185185, lift=1.3021885521885521), OrderedStatistic(items_base=frozenset({\"'MainActivity.java'\"}), items_add=frozenset({\"'HistoryPresenter.java'\"}), confidence=0.1590909090909091, lift=1.3021885521885521)])\n",
            "RelationRecord(items=frozenset({\"'HistoryPresenter.java'\", \"'OverviewFragment.java'\"}), support=0.06787330316742081, ordered_statistics=[OrderedStatistic(items_base=frozenset(), items_add=frozenset({\"'HistoryPresenter.java'\", \"'OverviewFragment.java'\"}), confidence=0.06787330316742081, lift=1.0), OrderedStatistic(items_base=frozenset({\"'HistoryPresenter.java'\"}), items_add=frozenset({\"'OverviewFragment.java'\"}), confidence=0.5555555555555556, lift=2.1539961013645224), OrderedStatistic(items_base=frozenset({\"'OverviewFragment.java'\"}), items_add=frozenset({\"'HistoryPresenter.java'\"}), confidence=0.26315789473684204, lift=2.153996101364522)])\n",
            "RelationRecord(items=frozenset({\"'OverviewPresenter.java'\", \"'HistoryPresenter.java'\"}), support=0.07239819004524888, ordered_statistics=[OrderedStatistic(items_base=frozenset(), items_add=frozenset({\"'OverviewPresenter.java'\", \"'HistoryPresenter.java'\"}), confidence=0.07239819004524888, lift=1.0), OrderedStatistic(items_base=frozenset({\"'HistoryPresenter.java'\"}), items_add=frozenset({\"'OverviewPresenter.java'\"}), confidence=0.5925925925925927, lift=3.637860082304527), OrderedStatistic(items_base=frozenset({\"'OverviewPresenter.java'\"}), items_add=frozenset({\"'HistoryPresenter.java'\"}), confidence=0.4444444444444445, lift=3.637860082304527)])\n",
            "RelationRecord(items=frozenset({\"'MainActivity.java'\", \"'MainPresenter.java'\"}), support=0.06334841628959276, ordered_statistics=[OrderedStatistic(items_base=frozenset(), items_add=frozenset({\"'MainActivity.java'\", \"'MainPresenter.java'\"}), confidence=0.06334841628959276, lift=1.0), OrderedStatistic(items_base=frozenset({\"'MainActivity.java'\"}), items_add=frozenset({\"'MainPresenter.java'\"}), confidence=0.1590909090909091, lift=1.5286561264822134), OrderedStatistic(items_base=frozenset({\"'MainPresenter.java'\"}), items_add=frozenset({\"'MainActivity.java'\"}), confidence=0.608695652173913, lift=1.5286561264822134)])\n",
            "RelationRecord(items=frozenset({\"'MainActivity.java'\", \"'OverviewFragment.java'\"}), support=0.10407239819004525, ordered_statistics=[OrderedStatistic(items_base=frozenset(), items_add=frozenset({\"'MainActivity.java'\", \"'OverviewFragment.java'\"}), confidence=0.10407239819004525, lift=1.0), OrderedStatistic(items_base=frozenset({\"'MainActivity.java'\"}), items_add=frozenset({\"'OverviewFragment.java'\"}), confidence=0.2613636363636364, lift=1.0133572567783096), OrderedStatistic(items_base=frozenset({\"'OverviewFragment.java'\"}), items_add=frozenset({\"'MainActivity.java'\"}), confidence=0.40350877192982454, lift=1.0133572567783093)])\n",
            "RelationRecord(items=frozenset({\"'MainActivity.java'\", \"'PreferencesActivity.java'\"}), support=0.09502262443438914, ordered_statistics=[OrderedStatistic(items_base=frozenset(), items_add=frozenset({\"'MainActivity.java'\", \"'PreferencesActivity.java'\"}), confidence=0.09502262443438914, lift=1.0), OrderedStatistic(items_base=frozenset({\"'MainActivity.java'\"}), items_add=frozenset({\"'PreferencesActivity.java'\"}), confidence=0.23863636363636365, lift=1.1986053719008265), OrderedStatistic(items_base=frozenset({\"'PreferencesActivity.java'\"}), items_add=frozenset({\"'MainActivity.java'\"}), confidence=0.4772727272727273, lift=1.1986053719008265)])\n",
            "RelationRecord(items=frozenset({\"'MainActivity.java'\", \"'ReadingToCSV.java'\"}), support=0.06787330316742081, ordered_statistics=[OrderedStatistic(items_base=frozenset(), items_add=frozenset({\"'MainActivity.java'\", \"'ReadingToCSV.java'\"}), confidence=0.06787330316742081, lift=1.0), OrderedStatistic(items_base=frozenset({\"'MainActivity.java'\"}), items_add=frozenset({\"'ReadingToCSV.java'\"}), confidence=0.17045454545454544, lift=1.5696022727272725), OrderedStatistic(items_base=frozenset({\"'ReadingToCSV.java'\"}), items_add=frozenset({\"'MainActivity.java'\"}), confidence=0.6249999999999999, lift=1.5696022727272725)])\n",
            "RelationRecord(items=frozenset({\"'OverviewPresenter.java'\", \"'OverviewFragment.java'\"}), support=0.14027149321266968, ordered_statistics=[OrderedStatistic(items_base=frozenset(), items_add=frozenset({\"'OverviewPresenter.java'\", \"'OverviewFragment.java'\"}), confidence=0.14027149321266968, lift=1.0), OrderedStatistic(items_base=frozenset({\"'OverviewFragment.java'\"}), items_add=frozenset({\"'OverviewPresenter.java'\"}), confidence=0.5438596491228069, lift=3.338693957115009), OrderedStatistic(items_base=frozenset({\"'OverviewPresenter.java'\"}), items_add=frozenset({\"'OverviewFragment.java'\"}), confidence=0.861111111111111, lift=3.338693957115009)])\n",
            "RelationRecord(items=frozenset({\"'PreferencesActivity.java'\", \"'OverviewFragment.java'\"}), support=0.07239819004524888, ordered_statistics=[OrderedStatistic(items_base=frozenset(), items_add=frozenset({\"'PreferencesActivity.java'\", \"'OverviewFragment.java'\"}), confidence=0.07239819004524888, lift=1.0), OrderedStatistic(items_base=frozenset({\"'OverviewFragment.java'\"}), items_add=frozenset({\"'PreferencesActivity.java'\"}), confidence=0.2807017543859649, lift=1.4098883572567784), OrderedStatistic(items_base=frozenset({\"'PreferencesActivity.java'\"}), items_add=frozenset({\"'OverviewFragment.java'\"}), confidence=0.3636363636363637, lift=1.4098883572567784)])\n",
            "RelationRecord(items=frozenset({\"'OverviewPresenter.java'\", \"'PreferencesActivity.java'\"}), support=0.05429864253393665, ordered_statistics=[OrderedStatistic(items_base=frozenset(), items_add=frozenset({\"'OverviewPresenter.java'\", \"'PreferencesActivity.java'\"}), confidence=0.05429864253393665, lift=1.0), OrderedStatistic(items_base=frozenset({\"'OverviewPresenter.java'\"}), items_add=frozenset({\"'PreferencesActivity.java'\"}), confidence=0.3333333333333333, lift=1.6742424242424243), OrderedStatistic(items_base=frozenset({\"'PreferencesActivity.java'\"}), items_add=frozenset({\"'OverviewPresenter.java'\"}), confidence=0.27272727272727276, lift=1.6742424242424243)])\n",
            "RelationRecord(items=frozenset({\"'AddA1CActivity.java'\", \"'AddGlucoseActivity.java'\", \"'AddCholesterolActivity.java'\"}), support=0.05429864253393665, ordered_statistics=[OrderedStatistic(items_base=frozenset(), items_add=frozenset({\"'AddA1CActivity.java'\", \"'AddCholesterolActivity.java'\", \"'AddGlucoseActivity.java'\"}), confidence=0.05429864253393665, lift=1.0), OrderedStatistic(items_base=frozenset({\"'AddA1CActivity.java'\"}), items_add=frozenset({\"'AddCholesterolActivity.java'\", \"'AddGlucoseActivity.java'\"}), confidence=0.75, lift=8.723684210526315), OrderedStatistic(items_base=frozenset({\"'AddCholesterolActivity.java'\"}), items_add=frozenset({\"'AddA1CActivity.java'\", \"'AddGlucoseActivity.java'\"}), confidence=0.5454545454545455, lift=9.272727272727273), OrderedStatistic(items_base=frozenset({\"'AddGlucoseActivity.java'\"}), items_add=frozenset({\"'AddA1CActivity.java'\", \"'AddCholesterolActivity.java'\"}), confidence=0.2926829268292683, lift=4.620209059233449), OrderedStatistic(items_base=frozenset({\"'AddA1CActivity.java'\", \"'AddCholesterolActivity.java'\"}), items_add=frozenset({\"'AddGlucoseActivity.java'\"}), confidence=0.8571428571428572, lift=4.620209059233449), OrderedStatistic(items_base=frozenset({\"'AddA1CActivity.java'\", \"'AddGlucoseActivity.java'\"}), items_add=frozenset({\"'AddCholesterolActivity.java'\"}), confidence=0.9230769230769231, lift=9.272727272727273), OrderedStatistic(items_base=frozenset({\"'AddGlucoseActivity.java'\", \"'AddCholesterolActivity.java'\"}), items_add=frozenset({\"'AddA1CActivity.java'\"}), confidence=0.631578947368421, lift=8.723684210526315)])\n",
            "RelationRecord(items=frozenset({\"'AddA1CActivity.java'\", \"'AddKetoneActivity.java'\", \"'AddCholesterolActivity.java'\"}), support=0.06334841628959276, ordered_statistics=[OrderedStatistic(items_base=frozenset(), items_add=frozenset({\"'AddA1CActivity.java'\", \"'AddCholesterolActivity.java'\", \"'AddKetoneActivity.java'\"}), confidence=0.06334841628959276, lift=1.0), OrderedStatistic(items_base=frozenset({\"'AddA1CActivity.java'\"}), items_add=frozenset({\"'AddCholesterolActivity.java'\", \"'AddKetoneActivity.java'\"}), confidence=0.8749999999999999, lift=8.789772727272727), OrderedStatistic(items_base=frozenset({\"'AddCholesterolActivity.java'\"}), items_add=frozenset({\"'AddA1CActivity.java'\", \"'AddKetoneActivity.java'\"}), confidence=0.6363636363636364, lift=10.045454545454545), OrderedStatistic(items_base=frozenset({\"'AddKetoneActivity.java'\"}), items_add=frozenset({\"'AddA1CActivity.java'\", \"'AddCholesterolActivity.java'\"}), confidence=0.5833333333333333, lift=9.208333333333332), OrderedStatistic(items_base=frozenset({\"'AddA1CActivity.java'\", \"'AddCholesterolActivity.java'\"}), items_add=frozenset({\"'AddKetoneActivity.java'\"}), confidence=1.0, lift=9.208333333333334), OrderedStatistic(items_base=frozenset({\"'AddA1CActivity.java'\", \"'AddKetoneActivity.java'\"}), items_add=frozenset({\"'AddCholesterolActivity.java'\"}), confidence=1.0, lift=10.045454545454547), OrderedStatistic(items_base=frozenset({\"'AddKetoneActivity.java'\", \"'AddCholesterolActivity.java'\"}), items_add=frozenset({\"'AddA1CActivity.java'\"}), confidence=0.6363636363636364, lift=8.789772727272727)])\n",
            "RelationRecord(items=frozenset({\"'AddA1CActivity.java'\", \"'AddPressureActivity.java'\", \"'AddCholesterolActivity.java'\"}), support=0.058823529411764705, ordered_statistics=[OrderedStatistic(items_base=frozenset(), items_add=frozenset({\"'AddA1CActivity.java'\", \"'AddCholesterolActivity.java'\", \"'AddPressureActivity.java'\"}), confidence=0.058823529411764705, lift=1.0), OrderedStatistic(items_base=frozenset({\"'AddA1CActivity.java'\"}), items_add=frozenset({\"'AddCholesterolActivity.java'\", \"'AddPressureActivity.java'\"}), confidence=0.8124999999999999, lift=8.550595238095237), OrderedStatistic(items_base=frozenset({\"'AddCholesterolActivity.java'\"}), items_add=frozenset({\"'AddA1CActivity.java'\", \"'AddPressureActivity.java'\"}), confidence=0.5909090909090909, lift=10.045454545454547), OrderedStatistic(items_base=frozenset({\"'AddPressureActivity.java'\"}), items_add=frozenset({\"'AddA1CActivity.java'\", \"'AddCholesterolActivity.java'\"}), confidence=0.6190476190476191, lift=9.772108843537415), OrderedStatistic(items_base=frozenset({\"'AddA1CActivity.java'\", \"'AddCholesterolActivity.java'\"}), items_add=frozenset({\"'AddPressureActivity.java'\"}), confidence=0.9285714285714286, lift=9.772108843537415), OrderedStatistic(items_base=frozenset({\"'AddA1CActivity.java'\", \"'AddPressureActivity.java'\"}), items_add=frozenset({\"'AddCholesterolActivity.java'\"}), confidence=1.0, lift=10.045454545454547), OrderedStatistic(items_base=frozenset({\"'AddPressureActivity.java'\", \"'AddCholesterolActivity.java'\"}), items_add=frozenset({\"'AddA1CActivity.java'\"}), confidence=0.6190476190476191, lift=8.550595238095237)])\n",
            "RelationRecord(items=frozenset({\"'AddA1CActivity.java'\", \"'AddWeightActivity.java'\", \"'AddCholesterolActivity.java'\"}), support=0.05429864253393665, ordered_statistics=[OrderedStatistic(items_base=frozenset(), items_add=frozenset({\"'AddA1CActivity.java'\", \"'AddWeightActivity.java'\", \"'AddCholesterolActivity.java'\"}), confidence=0.05429864253393665, lift=1.0), OrderedStatistic(items_base=frozenset({\"'AddA1CActivity.java'\"}), items_add=frozenset({\"'AddWeightActivity.java'\", \"'AddCholesterolActivity.java'\"}), confidence=0.75, lift=8.723684210526315), OrderedStatistic(items_base=frozenset({\"'AddCholesterolActivity.java'\"}), items_add=frozenset({\"'AddA1CActivity.java'\", \"'AddWeightActivity.java'\"}), confidence=0.5454545454545455, lift=9.272727272727273), OrderedStatistic(items_base=frozenset({\"'AddWeightActivity.java'\"}), items_add=frozenset({\"'AddA1CActivity.java'\", \"'AddCholesterolActivity.java'\"}), confidence=0.46153846153846156, lift=7.2857142857142865), OrderedStatistic(items_base=frozenset({\"'AddA1CActivity.java'\", \"'AddCholesterolActivity.java'\"}), items_add=frozenset({\"'AddWeightActivity.java'\"}), confidence=0.8571428571428572, lift=7.2857142857142865), OrderedStatistic(items_base=frozenset({\"'AddA1CActivity.java'\", \"'AddWeightActivity.java'\"}), items_add=frozenset({\"'AddCholesterolActivity.java'\"}), confidence=0.9230769230769231, lift=9.272727272727273), OrderedStatistic(items_base=frozenset({\"'AddWeightActivity.java'\", \"'AddCholesterolActivity.java'\"}), items_add=frozenset({\"'AddA1CActivity.java'\"}), confidence=0.631578947368421, lift=8.723684210526315)])\n",
            "RelationRecord(items=frozenset({\"'AddA1CActivity.java'\", \"'AddKetoneActivity.java'\", \"'AddGlucoseActivity.java'\"}), support=0.05429864253393665, ordered_statistics=[OrderedStatistic(items_base=frozenset(), items_add=frozenset({\"'AddA1CActivity.java'\", \"'AddGlucoseActivity.java'\", \"'AddKetoneActivity.java'\"}), confidence=0.05429864253393665, lift=1.0), OrderedStatistic(items_base=frozenset({\"'AddA1CActivity.java'\"}), items_add=frozenset({\"'AddGlucoseActivity.java'\", \"'AddKetoneActivity.java'\"}), confidence=0.75, lift=8.723684210526315), OrderedStatistic(items_base=frozenset({\"'AddGlucoseActivity.java'\"}), items_add=frozenset({\"'AddA1CActivity.java'\", \"'AddKetoneActivity.java'\"}), confidence=0.2926829268292683, lift=4.620209059233449), OrderedStatistic(items_base=frozenset({\"'AddKetoneActivity.java'\"}), items_add=frozenset({\"'AddA1CActivity.java'\", \"'AddGlucoseActivity.java'\"}), confidence=0.5, lift=8.5), OrderedStatistic(items_base=frozenset({\"'AddA1CActivity.java'\", \"'AddGlucoseActivity.java'\"}), items_add=frozenset({\"'AddKetoneActivity.java'\"}), confidence=0.9230769230769231, lift=8.5), OrderedStatistic(items_base=frozenset({\"'AddA1CActivity.java'\", \"'AddKetoneActivity.java'\"}), items_add=frozenset({\"'AddGlucoseActivity.java'\"}), confidence=0.8571428571428572, lift=4.620209059233449), OrderedStatistic(items_base=frozenset({\"'AddKetoneActivity.java'\", \"'AddGlucoseActivity.java'\"}), items_add=frozenset({\"'AddA1CActivity.java'\"}), confidence=0.631578947368421, lift=8.723684210526315)])\n",
            "RelationRecord(items=frozenset({\"'AddA1CActivity.java'\", \"'AddPressureActivity.java'\", \"'AddKetoneActivity.java'\"}), support=0.058823529411764705, ordered_statistics=[OrderedStatistic(items_base=frozenset(), items_add=frozenset({\"'AddA1CActivity.java'\", \"'AddKetoneActivity.java'\", \"'AddPressureActivity.java'\"}), confidence=0.058823529411764705, lift=1.0), OrderedStatistic(items_base=frozenset({\"'AddA1CActivity.java'\"}), items_add=frozenset({\"'AddKetoneActivity.java'\", \"'AddPressureActivity.java'\"}), confidence=0.8124999999999999, lift=8.550595238095237), OrderedStatistic(items_base=frozenset({\"'AddKetoneActivity.java'\"}), items_add=frozenset({\"'AddA1CActivity.java'\", \"'AddPressureActivity.java'\"}), confidence=0.5416666666666666, lift=9.208333333333332), OrderedStatistic(items_base=frozenset({\"'AddPressureActivity.java'\"}), items_add=frozenset({\"'AddA1CActivity.java'\", \"'AddKetoneActivity.java'\"}), confidence=0.6190476190476191, lift=9.772108843537415), OrderedStatistic(items_base=frozenset({\"'AddA1CActivity.java'\", \"'AddKetoneActivity.java'\"}), items_add=frozenset({\"'AddPressureActivity.java'\"}), confidence=0.9285714285714286, lift=9.772108843537415), OrderedStatistic(items_base=frozenset({\"'AddA1CActivity.java'\", \"'AddPressureActivity.java'\"}), items_add=frozenset({\"'AddKetoneActivity.java'\"}), confidence=1.0, lift=9.208333333333334), OrderedStatistic(items_base=frozenset({\"'AddPressureActivity.java'\", \"'AddKetoneActivity.java'\"}), items_add=frozenset({\"'AddA1CActivity.java'\"}), confidence=0.6190476190476191, lift=8.550595238095237)])\n",
            "RelationRecord(items=frozenset({\"'AddA1CActivity.java'\", \"'AddWeightActivity.java'\", \"'AddKetoneActivity.java'\"}), support=0.05429864253393665, ordered_statistics=[OrderedStatistic(items_base=frozenset(), items_add=frozenset({\"'AddA1CActivity.java'\", \"'AddWeightActivity.java'\", \"'AddKetoneActivity.java'\"}), confidence=0.05429864253393665, lift=1.0), OrderedStatistic(items_base=frozenset({\"'AddA1CActivity.java'\"}), items_add=frozenset({\"'AddWeightActivity.java'\", \"'AddKetoneActivity.java'\"}), confidence=0.75, lift=8.2875), OrderedStatistic(items_base=frozenset({\"'AddKetoneActivity.java'\"}), items_add=frozenset({\"'AddA1CActivity.java'\", \"'AddWeightActivity.java'\"}), confidence=0.5, lift=8.5), OrderedStatistic(items_base=frozenset({\"'AddWeightActivity.java'\"}), items_add=frozenset({\"'AddA1CActivity.java'\", \"'AddKetoneActivity.java'\"}), confidence=0.46153846153846156, lift=7.2857142857142865), OrderedStatistic(items_base=frozenset({\"'AddA1CActivity.java'\", \"'AddKetoneActivity.java'\"}), items_add=frozenset({\"'AddWeightActivity.java'\"}), confidence=0.8571428571428572, lift=7.2857142857142865), OrderedStatistic(items_base=frozenset({\"'AddA1CActivity.java'\", \"'AddWeightActivity.java'\"}), items_add=frozenset({\"'AddKetoneActivity.java'\"}), confidence=0.9230769230769231, lift=8.5), OrderedStatistic(items_base=frozenset({\"'AddWeightActivity.java'\", \"'AddKetoneActivity.java'\"}), items_add=frozenset({\"'AddA1CActivity.java'\"}), confidence=0.6, lift=8.2875)])\n",
            "RelationRecord(items=frozenset({\"'AddA1CActivity.java'\", \"'AddWeightActivity.java'\", \"'AddPressureActivity.java'\"}), support=0.05429864253393665, ordered_statistics=[OrderedStatistic(items_base=frozenset(), items_add=frozenset({\"'AddA1CActivity.java'\", \"'AddWeightActivity.java'\", \"'AddPressureActivity.java'\"}), confidence=0.05429864253393665, lift=1.0), OrderedStatistic(items_base=frozenset({\"'AddA1CActivity.java'\"}), items_add=frozenset({\"'AddWeightActivity.java'\", \"'AddPressureActivity.java'\"}), confidence=0.75, lift=8.723684210526315), OrderedStatistic(items_base=frozenset({\"'AddPressureActivity.java'\"}), items_add=frozenset({\"'AddA1CActivity.java'\", \"'AddWeightActivity.java'\"}), confidence=0.5714285714285715, lift=9.714285714285715), OrderedStatistic(items_base=frozenset({\"'AddWeightActivity.java'\"}), items_add=frozenset({\"'AddA1CActivity.java'\", \"'AddPressureActivity.java'\"}), confidence=0.46153846153846156, lift=7.846153846153847), OrderedStatistic(items_base=frozenset({\"'AddA1CActivity.java'\", \"'AddPressureActivity.java'\"}), items_add=frozenset({\"'AddWeightActivity.java'\"}), confidence=0.9230769230769231, lift=7.846153846153847), OrderedStatistic(items_base=frozenset({\"'AddA1CActivity.java'\", \"'AddWeightActivity.java'\"}), items_add=frozenset({\"'AddPressureActivity.java'\"}), confidence=0.9230769230769231, lift=9.714285714285715), OrderedStatistic(items_base=frozenset({\"'AddWeightActivity.java'\", \"'AddPressureActivity.java'\"}), items_add=frozenset({\"'AddA1CActivity.java'\"}), confidence=0.631578947368421, lift=8.723684210526315)])\n",
            "RelationRecord(items=frozenset({\"'AddKetoneActivity.java'\", \"'AddGlucoseActivity.java'\", \"'AddCholesterolActivity.java'\"}), support=0.08597285067873303, ordered_statistics=[OrderedStatistic(items_base=frozenset(), items_add=frozenset({\"'AddCholesterolActivity.java'\", \"'AddGlucoseActivity.java'\", \"'AddKetoneActivity.java'\"}), confidence=0.08597285067873303, lift=1.0), OrderedStatistic(items_base=frozenset({\"'AddCholesterolActivity.java'\"}), items_add=frozenset({\"'AddGlucoseActivity.java'\", \"'AddKetoneActivity.java'\"}), confidence=0.8636363636363636, lift=10.045454545454545), OrderedStatistic(items_base=frozenset({\"'AddGlucoseActivity.java'\"}), items_add=frozenset({\"'AddCholesterolActivity.java'\", \"'AddKetoneActivity.java'\"}), confidence=0.46341463414634143, lift=4.655210643015521), OrderedStatistic(items_base=frozenset({\"'AddKetoneActivity.java'\"}), items_add=frozenset({\"'AddCholesterolActivity.java'\", \"'AddGlucoseActivity.java'\"}), confidence=0.7916666666666666, lift=9.208333333333332), OrderedStatistic(items_base=frozenset({\"'AddGlucoseActivity.java'\", \"'AddCholesterolActivity.java'\"}), items_add=frozenset({\"'AddKetoneActivity.java'\"}), confidence=1.0, lift=9.208333333333334), OrderedStatistic(items_base=frozenset({\"'AddKetoneActivity.java'\", \"'AddCholesterolActivity.java'\"}), items_add=frozenset({\"'AddGlucoseActivity.java'\"}), confidence=0.8636363636363636, lift=4.655210643015521), OrderedStatistic(items_base=frozenset({\"'AddKetoneActivity.java'\", \"'AddGlucoseActivity.java'\"}), items_add=frozenset({\"'AddCholesterolActivity.java'\"}), confidence=1.0, lift=10.045454545454547)])\n",
            "RelationRecord(items=frozenset({\"'AddPressureActivity.java'\", \"'AddGlucoseActivity.java'\", \"'AddCholesterolActivity.java'\"}), support=0.08144796380090498, ordered_statistics=[OrderedStatistic(items_base=frozenset(), items_add=frozenset({\"'AddCholesterolActivity.java'\", \"'AddGlucoseActivity.java'\", \"'AddPressureActivity.java'\"}), confidence=0.08144796380090498, lift=1.0), OrderedStatistic(items_base=frozenset({\"'AddCholesterolActivity.java'\"}), items_add=frozenset({\"'AddGlucoseActivity.java'\", \"'AddPressureActivity.java'\"}), confidence=0.8181818181818182, lift=10.045454545454545), OrderedStatistic(items_base=frozenset({\"'AddGlucoseActivity.java'\"}), items_add=frozenset({\"'AddCholesterolActivity.java'\", \"'AddPressureActivity.java'\"}), confidence=0.43902439024390244, lift=4.62020905923345), OrderedStatistic(items_base=frozenset({\"'AddPressureActivity.java'\"}), items_add=frozenset({\"'AddCholesterolActivity.java'\", \"'AddGlucoseActivity.java'\"}), confidence=0.8571428571428572, lift=9.969924812030076), OrderedStatistic(items_base=frozenset({\"'AddGlucoseActivity.java'\", \"'AddCholesterolActivity.java'\"}), items_add=frozenset({\"'AddPressureActivity.java'\"}), confidence=0.9473684210526316, lift=9.969924812030076), OrderedStatistic(items_base=frozenset({\"'AddPressureActivity.java'\", \"'AddCholesterolActivity.java'\"}), items_add=frozenset({\"'AddGlucoseActivity.java'\"}), confidence=0.8571428571428572, lift=4.620209059233449), OrderedStatistic(items_base=frozenset({\"'AddPressureActivity.java'\", \"'AddGlucoseActivity.java'\"}), items_add=frozenset({\"'AddCholesterolActivity.java'\"}), confidence=1.0, lift=10.045454545454547)])\n",
            "RelationRecord(items=frozenset({\"'AddGlucoseActivity.java'\", \"'AddWeightActivity.java'\", \"'AddCholesterolActivity.java'\"}), support=0.07692307692307693, ordered_statistics=[OrderedStatistic(items_base=frozenset(), items_add=frozenset({\"'AddCholesterolActivity.java'\", \"'AddWeightActivity.java'\", \"'AddGlucoseActivity.java'\"}), confidence=0.07692307692307693, lift=1.0), OrderedStatistic(items_base=frozenset({\"'AddCholesterolActivity.java'\"}), items_add=frozenset({\"'AddWeightActivity.java'\", \"'AddGlucoseActivity.java'\"}), confidence=0.7727272727272728, lift=8.988038277511963), OrderedStatistic(items_base=frozenset({\"'AddGlucoseActivity.java'\"}), items_add=frozenset({\"'AddWeightActivity.java'\", \"'AddCholesterolActivity.java'\"}), confidence=0.4146341463414634, lift=4.822849807445443), OrderedStatistic(items_base=frozenset({\"'AddWeightActivity.java'\"}), items_add=frozenset({\"'AddCholesterolActivity.java'\", \"'AddGlucoseActivity.java'\"}), confidence=0.6538461538461539, lift=7.605263157894737), OrderedStatistic(items_base=frozenset({\"'AddGlucoseActivity.java'\", \"'AddCholesterolActivity.java'\"}), items_add=frozenset({\"'AddWeightActivity.java'\"}), confidence=0.8947368421052632, lift=7.605263157894737), OrderedStatistic(items_base=frozenset({\"'AddWeightActivity.java'\", \"'AddCholesterolActivity.java'\"}), items_add=frozenset({\"'AddGlucoseActivity.java'\"}), confidence=0.8947368421052632, lift=4.822849807445443), OrderedStatistic(items_base=frozenset({\"'AddWeightActivity.java'\", \"'AddGlucoseActivity.java'\"}), items_add=frozenset({\"'AddCholesterolActivity.java'\"}), confidence=0.8947368421052632, lift=8.988038277511963)])\n",
            "RelationRecord(items=frozenset({\"'AddKetoneActivity.java'\", \"'AddPressureActivity.java'\", \"'AddCholesterolActivity.java'\"}), support=0.09502262443438914, ordered_statistics=[OrderedStatistic(items_base=frozenset(), items_add=frozenset({\"'AddCholesterolActivity.java'\", \"'AddPressureActivity.java'\", \"'AddKetoneActivity.java'\"}), confidence=0.09502262443438914, lift=1.0), OrderedStatistic(items_base=frozenset({\"'AddCholesterolActivity.java'\"}), items_add=frozenset({\"'AddPressureActivity.java'\", \"'AddKetoneActivity.java'\"}), confidence=0.9545454545454546, lift=10.045454545454547), OrderedStatistic(items_base=frozenset({\"'AddKetoneActivity.java'\"}), items_add=frozenset({\"'AddCholesterolActivity.java'\", \"'AddPressureActivity.java'\"}), confidence=0.8749999999999999, lift=9.208333333333332), OrderedStatistic(items_base=frozenset({\"'AddPressureActivity.java'\"}), items_add=frozenset({\"'AddCholesterolActivity.java'\", \"'AddKetoneActivity.java'\"}), confidence=1.0, lift=10.045454545454547), OrderedStatistic(items_base=frozenset({\"'AddKetoneActivity.java'\", \"'AddCholesterolActivity.java'\"}), items_add=frozenset({\"'AddPressureActivity.java'\"}), confidence=0.9545454545454546, lift=10.045454545454547), OrderedStatistic(items_base=frozenset({\"'AddPressureActivity.java'\", \"'AddCholesterolActivity.java'\"}), items_add=frozenset({\"'AddKetoneActivity.java'\"}), confidence=1.0, lift=9.208333333333334), OrderedStatistic(items_base=frozenset({\"'AddPressureActivity.java'\", \"'AddKetoneActivity.java'\"}), items_add=frozenset({\"'AddCholesterolActivity.java'\"}), confidence=1.0, lift=10.045454545454547)])\n",
            "RelationRecord(items=frozenset({\"'AddKetoneActivity.java'\", \"'AddWeightActivity.java'\", \"'AddCholesterolActivity.java'\"}), support=0.08597285067873303, ordered_statistics=[OrderedStatistic(items_base=frozenset(), items_add=frozenset({\"'AddCholesterolActivity.java'\", \"'AddWeightActivity.java'\", \"'AddKetoneActivity.java'\"}), confidence=0.08597285067873303, lift=1.0), OrderedStatistic(items_base=frozenset({\"'AddCholesterolActivity.java'\"}), items_add=frozenset({\"'AddWeightActivity.java'\", \"'AddKetoneActivity.java'\"}), confidence=0.8636363636363636, lift=9.543181818181818), OrderedStatistic(items_base=frozenset({\"'AddKetoneActivity.java'\"}), items_add=frozenset({\"'AddWeightActivity.java'\", \"'AddCholesterolActivity.java'\"}), confidence=0.7916666666666666, lift=9.208333333333332), OrderedStatistic(items_base=frozenset({\"'AddWeightActivity.java'\"}), items_add=frozenset({\"'AddCholesterolActivity.java'\", \"'AddKetoneActivity.java'\"}), confidence=0.7307692307692307, lift=7.340909090909091), OrderedStatistic(items_base=frozenset({\"'AddKetoneActivity.java'\", \"'AddCholesterolActivity.java'\"}), items_add=frozenset({\"'AddWeightActivity.java'\"}), confidence=0.8636363636363636, lift=7.340909090909091), OrderedStatistic(items_base=frozenset({\"'AddWeightActivity.java'\", \"'AddCholesterolActivity.java'\"}), items_add=frozenset({\"'AddKetoneActivity.java'\"}), confidence=1.0, lift=9.208333333333334), OrderedStatistic(items_base=frozenset({\"'AddWeightActivity.java'\", \"'AddKetoneActivity.java'\"}), items_add=frozenset({\"'AddCholesterolActivity.java'\"}), confidence=0.9500000000000001, lift=9.54318181818182)])\n",
            "RelationRecord(items=frozenset({\"'AddPressureActivity.java'\", \"'AddWeightActivity.java'\", \"'AddCholesterolActivity.java'\"}), support=0.08597285067873303, ordered_statistics=[OrderedStatistic(items_base=frozenset(), items_add=frozenset({\"'AddCholesterolActivity.java'\", \"'AddWeightActivity.java'\", \"'AddPressureActivity.java'\"}), confidence=0.08597285067873303, lift=1.0), OrderedStatistic(items_base=frozenset({\"'AddCholesterolActivity.java'\"}), items_add=frozenset({\"'AddWeightActivity.java'\", \"'AddPressureActivity.java'\"}), confidence=0.8636363636363636, lift=10.045454545454545), OrderedStatistic(items_base=frozenset({\"'AddPressureActivity.java'\"}), items_add=frozenset({\"'AddWeightActivity.java'\", \"'AddCholesterolActivity.java'\"}), confidence=0.9047619047619048, lift=10.523809523809524), OrderedStatistic(items_base=frozenset({\"'AddWeightActivity.java'\"}), items_add=frozenset({\"'AddCholesterolActivity.java'\", \"'AddPressureActivity.java'\"}), confidence=0.7307692307692307, lift=7.690476190476191), OrderedStatistic(items_base=frozenset({\"'AddPressureActivity.java'\", \"'AddCholesterolActivity.java'\"}), items_add=frozenset({\"'AddWeightActivity.java'\"}), confidence=0.9047619047619048, lift=7.690476190476191), OrderedStatistic(items_base=frozenset({\"'AddWeightActivity.java'\", \"'AddCholesterolActivity.java'\"}), items_add=frozenset({\"'AddPressureActivity.java'\"}), confidence=1.0, lift=10.523809523809524), OrderedStatistic(items_base=frozenset({\"'AddWeightActivity.java'\", \"'AddPressureActivity.java'\"}), items_add=frozenset({\"'AddCholesterolActivity.java'\"}), confidence=1.0, lift=10.045454545454547)])\n",
            "RelationRecord(items=frozenset({\"'AddKetoneActivity.java'\", \"'AddPressureActivity.java'\", \"'AddGlucoseActivity.java'\"}), support=0.08144796380090498, ordered_statistics=[OrderedStatistic(items_base=frozenset(), items_add=frozenset({\"'AddGlucoseActivity.java'\", \"'AddPressureActivity.java'\", \"'AddKetoneActivity.java'\"}), confidence=0.08144796380090498, lift=1.0), OrderedStatistic(items_base=frozenset({\"'AddGlucoseActivity.java'\"}), items_add=frozenset({\"'AddPressureActivity.java'\", \"'AddKetoneActivity.java'\"}), confidence=0.43902439024390244, lift=4.62020905923345), OrderedStatistic(items_base=frozenset({\"'AddKetoneActivity.java'\"}), items_add=frozenset({\"'AddGlucoseActivity.java'\", \"'AddPressureActivity.java'\"}), confidence=0.75, lift=9.208333333333334), OrderedStatistic(items_base=frozenset({\"'AddPressureActivity.java'\"}), items_add=frozenset({\"'AddGlucoseActivity.java'\", \"'AddKetoneActivity.java'\"}), confidence=0.8571428571428572, lift=9.969924812030076), OrderedStatistic(items_base=frozenset({\"'AddKetoneActivity.java'\", \"'AddGlucoseActivity.java'\"}), items_add=frozenset({\"'AddPressureActivity.java'\"}), confidence=0.9473684210526316, lift=9.969924812030076), OrderedStatistic(items_base=frozenset({\"'AddPressureActivity.java'\", \"'AddGlucoseActivity.java'\"}), items_add=frozenset({\"'AddKetoneActivity.java'\"}), confidence=1.0, lift=9.208333333333334), OrderedStatistic(items_base=frozenset({\"'AddPressureActivity.java'\", \"'AddKetoneActivity.java'\"}), items_add=frozenset({\"'AddGlucoseActivity.java'\"}), confidence=0.8571428571428572, lift=4.620209059233449)])\n",
            "RelationRecord(items=frozenset({\"'AddKetoneActivity.java'\", \"'AddWeightActivity.java'\", \"'AddGlucoseActivity.java'\"}), support=0.07692307692307693, ordered_statistics=[OrderedStatistic(items_base=frozenset(), items_add=frozenset({\"'AddGlucoseActivity.java'\", \"'AddWeightActivity.java'\", \"'AddKetoneActivity.java'\"}), confidence=0.07692307692307693, lift=1.0), OrderedStatistic(items_base=frozenset({\"'AddGlucoseActivity.java'\"}), items_add=frozenset({\"'AddWeightActivity.java'\", \"'AddKetoneActivity.java'\"}), confidence=0.4146341463414634, lift=4.581707317073171), OrderedStatistic(items_base=frozenset({\"'AddKetoneActivity.java'\"}), items_add=frozenset({\"'AddWeightActivity.java'\", \"'AddGlucoseActivity.java'\"}), confidence=0.7083333333333334, lift=8.239035087719298), OrderedStatistic(items_base=frozenset({\"'AddWeightActivity.java'\"}), items_add=frozenset({\"'AddGlucoseActivity.java'\", \"'AddKetoneActivity.java'\"}), confidence=0.6538461538461539, lift=7.605263157894737), OrderedStatistic(items_base=frozenset({\"'AddKetoneActivity.java'\", \"'AddGlucoseActivity.java'\"}), items_add=frozenset({\"'AddWeightActivity.java'\"}), confidence=0.8947368421052632, lift=7.605263157894737), OrderedStatistic(items_base=frozenset({\"'AddWeightActivity.java'\", \"'AddGlucoseActivity.java'\"}), items_add=frozenset({\"'AddKetoneActivity.java'\"}), confidence=0.8947368421052632, lift=8.239035087719298), OrderedStatistic(items_base=frozenset({\"'AddWeightActivity.java'\", \"'AddKetoneActivity.java'\"}), items_add=frozenset({\"'AddGlucoseActivity.java'\"}), confidence=0.8500000000000001, lift=4.581707317073171)])\n",
            "RelationRecord(items=frozenset({\"'AddPressureActivity.java'\", \"'AddWeightActivity.java'\", \"'AddGlucoseActivity.java'\"}), support=0.07692307692307693, ordered_statistics=[OrderedStatistic(items_base=frozenset(), items_add=frozenset({\"'AddGlucoseActivity.java'\", \"'AddWeightActivity.java'\", \"'AddPressureActivity.java'\"}), confidence=0.07692307692307693, lift=1.0), OrderedStatistic(items_base=frozenset({\"'AddGlucoseActivity.java'\"}), items_add=frozenset({\"'AddWeightActivity.java'\", \"'AddPressureActivity.java'\"}), confidence=0.4146341463414634, lift=4.822849807445443), OrderedStatistic(items_base=frozenset({\"'AddPressureActivity.java'\"}), items_add=frozenset({\"'AddWeightActivity.java'\", \"'AddGlucoseActivity.java'\"}), confidence=0.8095238095238096, lift=9.416040100250628), OrderedStatistic(items_base=frozenset({\"'AddWeightActivity.java'\"}), items_add=frozenset({\"'AddGlucoseActivity.java'\", \"'AddPressureActivity.java'\"}), confidence=0.6538461538461539, lift=8.027777777777777), OrderedStatistic(items_base=frozenset({\"'AddPressureActivity.java'\", \"'AddGlucoseActivity.java'\"}), items_add=frozenset({\"'AddWeightActivity.java'\"}), confidence=0.9444444444444444, lift=8.027777777777779), OrderedStatistic(items_base=frozenset({\"'AddWeightActivity.java'\", \"'AddGlucoseActivity.java'\"}), items_add=frozenset({\"'AddPressureActivity.java'\"}), confidence=0.8947368421052632, lift=9.416040100250626), OrderedStatistic(items_base=frozenset({\"'AddWeightActivity.java'\", \"'AddPressureActivity.java'\"}), items_add=frozenset({\"'AddGlucoseActivity.java'\"}), confidence=0.8947368421052632, lift=4.822849807445443)])\n",
            "RelationRecord(items=frozenset({\"'AddPressureActivity.java'\", \"'AddWeightActivity.java'\", \"'AddKetoneActivity.java'\"}), support=0.08597285067873303, ordered_statistics=[OrderedStatistic(items_base=frozenset(), items_add=frozenset({\"'AddKetoneActivity.java'\", \"'AddWeightActivity.java'\", \"'AddPressureActivity.java'\"}), confidence=0.08597285067873303, lift=1.0), OrderedStatistic(items_base=frozenset({\"'AddKetoneActivity.java'\"}), items_add=frozenset({\"'AddWeightActivity.java'\", \"'AddPressureActivity.java'\"}), confidence=0.7916666666666666, lift=9.208333333333332), OrderedStatistic(items_base=frozenset({\"'AddPressureActivity.java'\"}), items_add=frozenset({\"'AddWeightActivity.java'\", \"'AddKetoneActivity.java'\"}), confidence=0.9047619047619048, lift=9.997619047619049), OrderedStatistic(items_base=frozenset({\"'AddWeightActivity.java'\"}), items_add=frozenset({\"'AddKetoneActivity.java'\", \"'AddPressureActivity.java'\"}), confidence=0.7307692307692307, lift=7.690476190476191), OrderedStatistic(items_base=frozenset({\"'AddPressureActivity.java'\", \"'AddKetoneActivity.java'\"}), items_add=frozenset({\"'AddWeightActivity.java'\"}), confidence=0.9047619047619048, lift=7.690476190476191), OrderedStatistic(items_base=frozenset({\"'AddWeightActivity.java'\", \"'AddKetoneActivity.java'\"}), items_add=frozenset({\"'AddPressureActivity.java'\"}), confidence=0.9500000000000001, lift=9.997619047619049), OrderedStatistic(items_base=frozenset({\"'AddWeightActivity.java'\", \"'AddPressureActivity.java'\"}), items_add=frozenset({\"'AddKetoneActivity.java'\"}), confidence=1.0, lift=9.208333333333334)])\n",
            "RelationRecord(items=frozenset({\"'AssistantPresenter.java'\", \"'AssistantFragment.java'\", \"'AssistantAdapter.java'\"}), support=0.05429864253393665, ordered_statistics=[OrderedStatistic(items_base=frozenset(), items_add=frozenset({\"'AssistantPresenter.java'\", \"'AssistantAdapter.java'\", \"'AssistantFragment.java'\"}), confidence=0.05429864253393665, lift=1.0), OrderedStatistic(items_base=frozenset({\"'AssistantAdapter.java'\"}), items_add=frozenset({\"'AssistantPresenter.java'\", \"'AssistantFragment.java'\"}), confidence=0.6666666666666666, lift=12.277777777777777), OrderedStatistic(items_base=frozenset({\"'AssistantFragment.java'\"}), items_add=frozenset({\"'AssistantPresenter.java'\", \"'AssistantAdapter.java'\"}), confidence=0.5, lift=8.5), OrderedStatistic(items_base=frozenset({\"'AssistantPresenter.java'\"}), items_add=frozenset({\"'AssistantAdapter.java'\", \"'AssistantFragment.java'\"}), confidence=0.75, lift=11.839285714285715), OrderedStatistic(items_base=frozenset({\"'AssistantFragment.java'\", \"'AssistantAdapter.java'\"}), items_add=frozenset({\"'AssistantPresenter.java'\"}), confidence=0.8571428571428572, lift=11.839285714285714), OrderedStatistic(items_base=frozenset({\"'AssistantPresenter.java'\", \"'AssistantAdapter.java'\"}), items_add=frozenset({\"'AssistantFragment.java'\"}), confidence=0.9230769230769231, lift=8.5), OrderedStatistic(items_base=frozenset({\"'AssistantPresenter.java'\", \"'AssistantFragment.java'\"}), items_add=frozenset({\"'AssistantAdapter.java'\"}), confidence=1.0, lift=12.277777777777777)])\n",
            "RelationRecord(items=frozenset({\"'MainActivity.java'\", \"'DatabaseHandler.java'\", \"'HistoryAdapter.java'\"}), support=0.05429864253393665, ordered_statistics=[OrderedStatistic(items_base=frozenset(), items_add=frozenset({\"'MainActivity.java'\", \"'DatabaseHandler.java'\", \"'HistoryAdapter.java'\"}), confidence=0.05429864253393665, lift=1.0), OrderedStatistic(items_base=frozenset({\"'DatabaseHandler.java'\"}), items_add=frozenset({\"'MainActivity.java'\", \"'HistoryAdapter.java'\"}), confidence=0.18461538461538463, lift=2.2666666666666666), OrderedStatistic(items_base=frozenset({\"'HistoryAdapter.java'\"}), items_add=frozenset({\"'MainActivity.java'\", \"'DatabaseHandler.java'\"}), confidence=0.34285714285714286, lift=3.6081632653061226), OrderedStatistic(items_base=frozenset({\"'MainActivity.java'\"}), items_add=frozenset({\"'DatabaseHandler.java'\", \"'HistoryAdapter.java'\"}), confidence=0.13636363636363638, lift=1.772727272727273), OrderedStatistic(items_base=frozenset({\"'DatabaseHandler.java'\", \"'HistoryAdapter.java'\"}), items_add=frozenset({\"'MainActivity.java'\"}), confidence=0.7058823529411764, lift=1.7727272727272727), OrderedStatistic(items_base=frozenset({\"'MainActivity.java'\", \"'DatabaseHandler.java'\"}), items_add=frozenset({\"'HistoryAdapter.java'\"}), confidence=0.5714285714285715, lift=3.608163265306123), OrderedStatistic(items_base=frozenset({\"'MainActivity.java'\", \"'HistoryAdapter.java'\"}), items_add=frozenset({\"'DatabaseHandler.java'\"}), confidence=0.6666666666666666, lift=2.2666666666666666)])\n",
            "RelationRecord(items=frozenset({\"'OverviewPresenter.java'\", \"'DatabaseHandler.java'\", \"'OverviewFragment.java'\"}), support=0.08144796380090498, ordered_statistics=[OrderedStatistic(items_base=frozenset(), items_add=frozenset({\"'OverviewPresenter.java'\", \"'DatabaseHandler.java'\", \"'OverviewFragment.java'\"}), confidence=0.08144796380090498, lift=1.0), OrderedStatistic(items_base=frozenset({\"'DatabaseHandler.java'\"}), items_add=frozenset({\"'OverviewPresenter.java'\", \"'OverviewFragment.java'\"}), confidence=0.27692307692307694, lift=1.974193548387097), OrderedStatistic(items_base=frozenset({\"'OverviewFragment.java'\"}), items_add=frozenset({\"'OverviewPresenter.java'\", \"'DatabaseHandler.java'\"}), confidence=0.3157894736842105, lift=3.172248803827751), OrderedStatistic(items_base=frozenset({\"'OverviewPresenter.java'\"}), items_add=frozenset({\"'DatabaseHandler.java'\", \"'OverviewFragment.java'\"}), confidence=0.5, lift=4.42), OrderedStatistic(items_base=frozenset({\"'DatabaseHandler.java'\", \"'OverviewFragment.java'\"}), items_add=frozenset({\"'OverviewPresenter.java'\"}), confidence=0.72, lift=4.42), OrderedStatistic(items_base=frozenset({\"'OverviewPresenter.java'\", \"'DatabaseHandler.java'\"}), items_add=frozenset({\"'OverviewFragment.java'\"}), confidence=0.8181818181818182, lift=3.172248803827751), OrderedStatistic(items_base=frozenset({\"'OverviewPresenter.java'\", \"'OverviewFragment.java'\"}), items_add=frozenset({\"'DatabaseHandler.java'\"}), confidence=0.5806451612903226, lift=1.974193548387097)])\n",
            "RelationRecord(items=frozenset({\"'HistoryAdapter.java'\", \"'HistoryPresenter.java'\", \"'OverviewFragment.java'\"}), support=0.05429864253393665, ordered_statistics=[OrderedStatistic(items_base=frozenset(), items_add=frozenset({\"'HistoryAdapter.java'\", \"'HistoryPresenter.java'\", \"'OverviewFragment.java'\"}), confidence=0.05429864253393665, lift=1.0), OrderedStatistic(items_base=frozenset({\"'HistoryAdapter.java'\"}), items_add=frozenset({\"'HistoryPresenter.java'\", \"'OverviewFragment.java'\"}), confidence=0.34285714285714286, lift=5.051428571428572), OrderedStatistic(items_base=frozenset({\"'HistoryPresenter.java'\"}), items_add=frozenset({\"'HistoryAdapter.java'\", \"'OverviewFragment.java'\"}), confidence=0.4444444444444445, lift=3.9288888888888893), OrderedStatistic(items_base=frozenset({\"'OverviewFragment.java'\"}), items_add=frozenset({\"'HistoryAdapter.java'\", \"'HistoryPresenter.java'\"}), confidence=0.21052631578947367, lift=2.7368421052631575), OrderedStatistic(items_base=frozenset({\"'HistoryAdapter.java'\", \"'HistoryPresenter.java'\"}), items_add=frozenset({\"'OverviewFragment.java'\"}), confidence=0.7058823529411764, lift=2.7368421052631575), OrderedStatistic(items_base=frozenset({\"'HistoryAdapter.java'\", \"'OverviewFragment.java'\"}), items_add=frozenset({\"'HistoryPresenter.java'\"}), confidence=0.48, lift=3.928888888888889), OrderedStatistic(items_base=frozenset({\"'HistoryPresenter.java'\", \"'OverviewFragment.java'\"}), items_add=frozenset({\"'HistoryAdapter.java'\"}), confidence=0.8, lift=5.051428571428572)])\n",
            "RelationRecord(items=frozenset({\"'OverviewPresenter.java'\", \"'HistoryAdapter.java'\", \"'HistoryPresenter.java'\"}), support=0.058823529411764705, ordered_statistics=[OrderedStatistic(items_base=frozenset(), items_add=frozenset({\"'OverviewPresenter.java'\", \"'HistoryAdapter.java'\", \"'HistoryPresenter.java'\"}), confidence=0.058823529411764705, lift=1.0), OrderedStatistic(items_base=frozenset({\"'HistoryAdapter.java'\"}), items_add=frozenset({\"'OverviewPresenter.java'\", \"'HistoryPresenter.java'\"}), confidence=0.37142857142857144, lift=5.130357142857142), OrderedStatistic(items_base=frozenset({\"'HistoryPresenter.java'\"}), items_add=frozenset({\"'OverviewPresenter.java'\", \"'HistoryAdapter.java'\"}), confidence=0.4814814814814815, lift=7.093827160493828), OrderedStatistic(items_base=frozenset({\"'OverviewPresenter.java'\"}), items_add=frozenset({\"'HistoryAdapter.java'\", \"'HistoryPresenter.java'\"}), confidence=0.3611111111111111, lift=4.694444444444444), OrderedStatistic(items_base=frozenset({\"'HistoryAdapter.java'\", \"'HistoryPresenter.java'\"}), items_add=frozenset({\"'OverviewPresenter.java'\"}), confidence=0.7647058823529411, lift=4.694444444444444), OrderedStatistic(items_base=frozenset({\"'OverviewPresenter.java'\", \"'HistoryAdapter.java'\"}), items_add=frozenset({\"'HistoryPresenter.java'\"}), confidence=0.8666666666666667, lift=7.093827160493827), OrderedStatistic(items_base=frozenset({\"'OverviewPresenter.java'\", \"'HistoryPresenter.java'\"}), items_add=frozenset({\"'HistoryAdapter.java'\"}), confidence=0.8124999999999999, lift=5.130357142857142)])\n",
            "RelationRecord(items=frozenset({\"'MainActivity.java'\", \"'HistoryAdapter.java'\", \"'OverviewFragment.java'\"}), support=0.058823529411764705, ordered_statistics=[OrderedStatistic(items_base=frozenset(), items_add=frozenset({\"'MainActivity.java'\", \"'HistoryAdapter.java'\", \"'OverviewFragment.java'\"}), confidence=0.058823529411764705, lift=1.0), OrderedStatistic(items_base=frozenset({\"'HistoryAdapter.java'\"}), items_add=frozenset({\"'MainActivity.java'\", \"'OverviewFragment.java'\"}), confidence=0.37142857142857144, lift=3.568944099378882), OrderedStatistic(items_base=frozenset({\"'MainActivity.java'\"}), items_add=frozenset({\"'HistoryAdapter.java'\", \"'OverviewFragment.java'\"}), confidence=0.14772727272727273, lift=1.305909090909091), OrderedStatistic(items_base=frozenset({\"'OverviewFragment.java'\"}), items_add=frozenset({\"'MainActivity.java'\", \"'HistoryAdapter.java'\"}), confidence=0.22807017543859645, lift=2.800194931773879), OrderedStatistic(items_base=frozenset({\"'MainActivity.java'\", \"'HistoryAdapter.java'\"}), items_add=frozenset({\"'OverviewFragment.java'\"}), confidence=0.7222222222222222, lift=2.800194931773879), OrderedStatistic(items_base=frozenset({\"'HistoryAdapter.java'\", \"'OverviewFragment.java'\"}), items_add=frozenset({\"'MainActivity.java'\"}), confidence=0.52, lift=1.3059090909090911), OrderedStatistic(items_base=frozenset({\"'MainActivity.java'\", \"'OverviewFragment.java'\"}), items_add=frozenset({\"'HistoryAdapter.java'\"}), confidence=0.5652173913043478, lift=3.5689440993788817)])\n",
            "RelationRecord(items=frozenset({\"'OverviewPresenter.java'\", \"'HistoryAdapter.java'\", \"'OverviewFragment.java'\"}), support=0.05429864253393665, ordered_statistics=[OrderedStatistic(items_base=frozenset(), items_add=frozenset({\"'OverviewPresenter.java'\", \"'HistoryAdapter.java'\", \"'OverviewFragment.java'\"}), confidence=0.05429864253393665, lift=1.0), OrderedStatistic(items_base=frozenset({\"'HistoryAdapter.java'\"}), items_add=frozenset({\"'OverviewPresenter.java'\", \"'OverviewFragment.java'\"}), confidence=0.34285714285714286, lift=2.4442396313364054), OrderedStatistic(items_base=frozenset({\"'OverviewFragment.java'\"}), items_add=frozenset({\"'OverviewPresenter.java'\", \"'HistoryAdapter.java'\"}), confidence=0.21052631578947367, lift=3.101754385964912), OrderedStatistic(items_base=frozenset({\"'OverviewPresenter.java'\"}), items_add=frozenset({\"'HistoryAdapter.java'\", \"'OverviewFragment.java'\"}), confidence=0.3333333333333333, lift=2.9466666666666663), OrderedStatistic(items_base=frozenset({\"'HistoryAdapter.java'\", \"'OverviewFragment.java'\"}), items_add=frozenset({\"'OverviewPresenter.java'\"}), confidence=0.48, lift=2.9466666666666663), OrderedStatistic(items_base=frozenset({\"'OverviewPresenter.java'\", \"'HistoryAdapter.java'\"}), items_add=frozenset({\"'OverviewFragment.java'\"}), confidence=0.8, lift=3.101754385964912), OrderedStatistic(items_base=frozenset({\"'OverviewPresenter.java'\", \"'OverviewFragment.java'\"}), items_add=frozenset({\"'HistoryAdapter.java'\"}), confidence=0.3870967741935484, lift=2.4442396313364054)])\n",
            "RelationRecord(items=frozenset({\"'MainActivity.java'\", \"'HistoryFragment.java'\", \"'OverviewFragment.java'\"}), support=0.06334841628959276, ordered_statistics=[OrderedStatistic(items_base=frozenset(), items_add=frozenset({\"'MainActivity.java'\", \"'HistoryFragment.java'\", \"'OverviewFragment.java'\"}), confidence=0.06334841628959276, lift=1.0), OrderedStatistic(items_base=frozenset({\"'HistoryFragment.java'\"}), items_add=frozenset({\"'MainActivity.java'\", \"'OverviewFragment.java'\"}), confidence=0.38888888888888884, lift=3.73671497584541), OrderedStatistic(items_base=frozenset({\"'MainActivity.java'\"}), items_add=frozenset({\"'HistoryFragment.java'\", \"'OverviewFragment.java'\"}), confidence=0.1590909090909091, lift=2.068181818181818), OrderedStatistic(items_base=frozenset({\"'OverviewFragment.java'\"}), items_add=frozenset({\"'MainActivity.java'\", \"'HistoryFragment.java'\"}), confidence=0.24561403508771926, lift=2.171228070175438), OrderedStatistic(items_base=frozenset({\"'MainActivity.java'\", \"'HistoryFragment.java'\"}), items_add=frozenset({\"'OverviewFragment.java'\"}), confidence=0.5599999999999999, lift=2.171228070175438), OrderedStatistic(items_base=frozenset({\"'HistoryFragment.java'\", \"'OverviewFragment.java'\"}), items_add=frozenset({\"'MainActivity.java'\"}), confidence=0.8235294117647058, lift=2.0681818181818183), OrderedStatistic(items_base=frozenset({\"'MainActivity.java'\", \"'OverviewFragment.java'\"}), items_add=frozenset({\"'HistoryFragment.java'\"}), confidence=0.608695652173913, lift=3.73671497584541)])\n",
            "RelationRecord(items=frozenset({\"'OverviewPresenter.java'\", \"'HistoryPresenter.java'\", \"'OverviewFragment.java'\"}), support=0.058823529411764705, ordered_statistics=[OrderedStatistic(items_base=frozenset(), items_add=frozenset({\"'OverviewPresenter.java'\", \"'HistoryPresenter.java'\", \"'OverviewFragment.java'\"}), confidence=0.058823529411764705, lift=1.0), OrderedStatistic(items_base=frozenset({\"'HistoryPresenter.java'\"}), items_add=frozenset({\"'OverviewPresenter.java'\", \"'OverviewFragment.java'\"}), confidence=0.4814814814814815, lift=3.4324970131421746), OrderedStatistic(items_base=frozenset({\"'OverviewFragment.java'\"}), items_add=frozenset({\"'OverviewPresenter.java'\", \"'HistoryPresenter.java'\"}), confidence=0.22807017543859645, lift=3.150219298245613), OrderedStatistic(items_base=frozenset({\"'OverviewPresenter.java'\"}), items_add=frozenset({\"'HistoryPresenter.java'\", \"'OverviewFragment.java'\"}), confidence=0.3611111111111111, lift=5.32037037037037), OrderedStatistic(items_base=frozenset({\"'HistoryPresenter.java'\", \"'OverviewFragment.java'\"}), items_add=frozenset({\"'OverviewPresenter.java'\"}), confidence=0.8666666666666667, lift=5.32037037037037), OrderedStatistic(items_base=frozenset({\"'OverviewPresenter.java'\", \"'HistoryPresenter.java'\"}), items_add=frozenset({\"'OverviewFragment.java'\"}), confidence=0.8124999999999999, lift=3.1502192982456134), OrderedStatistic(items_base=frozenset({\"'OverviewPresenter.java'\", \"'OverviewFragment.java'\"}), items_add=frozenset({\"'HistoryPresenter.java'\"}), confidence=0.41935483870967744, lift=3.4324970131421746)])\n",
            "RelationRecord(items=frozenset({\"'AddA1CActivity.java'\", \"'AddKetoneActivity.java'\", \"'AddGlucoseActivity.java'\", \"'AddCholesterolActivity.java'\"}), support=0.05429864253393665, ordered_statistics=[OrderedStatistic(items_base=frozenset(), items_add=frozenset({\"'AddA1CActivity.java'\", \"'AddKetoneActivity.java'\", \"'AddGlucoseActivity.java'\", \"'AddCholesterolActivity.java'\"}), confidence=0.05429864253393665, lift=1.0), OrderedStatistic(items_base=frozenset({\"'AddA1CActivity.java'\"}), items_add=frozenset({\"'AddCholesterolActivity.java'\", \"'AddGlucoseActivity.java'\", \"'AddKetoneActivity.java'\"}), confidence=0.75, lift=8.723684210526315), OrderedStatistic(items_base=frozenset({\"'AddCholesterolActivity.java'\"}), items_add=frozenset({\"'AddA1CActivity.java'\", \"'AddGlucoseActivity.java'\", \"'AddKetoneActivity.java'\"}), confidence=0.5454545454545455, lift=10.045454545454547), OrderedStatistic(items_base=frozenset({\"'AddGlucoseActivity.java'\"}), items_add=frozenset({\"'AddA1CActivity.java'\", \"'AddCholesterolActivity.java'\", \"'AddKetoneActivity.java'\"}), confidence=0.2926829268292683, lift=4.620209059233449), OrderedStatistic(items_base=frozenset({\"'AddKetoneActivity.java'\"}), items_add=frozenset({\"'AddA1CActivity.java'\", \"'AddCholesterolActivity.java'\", \"'AddGlucoseActivity.java'\"}), confidence=0.5, lift=9.208333333333334), OrderedStatistic(items_base=frozenset({\"'AddA1CActivity.java'\", \"'AddCholesterolActivity.java'\"}), items_add=frozenset({\"'AddGlucoseActivity.java'\", \"'AddKetoneActivity.java'\"}), confidence=0.8571428571428572, lift=9.969924812030076), OrderedStatistic(items_base=frozenset({\"'AddA1CActivity.java'\", \"'AddGlucoseActivity.java'\"}), items_add=frozenset({\"'AddCholesterolActivity.java'\", \"'AddKetoneActivity.java'\"}), confidence=0.9230769230769231, lift=9.272727272727273), OrderedStatistic(items_base=frozenset({\"'AddA1CActivity.java'\", \"'AddKetoneActivity.java'\"}), items_add=frozenset({\"'AddCholesterolActivity.java'\", \"'AddGlucoseActivity.java'\"}), confidence=0.8571428571428572, lift=9.969924812030076), OrderedStatistic(items_base=frozenset({\"'AddGlucoseActivity.java'\", \"'AddCholesterolActivity.java'\"}), items_add=frozenset({\"'AddA1CActivity.java'\", \"'AddKetoneActivity.java'\"}), confidence=0.631578947368421, lift=9.969924812030076), OrderedStatistic(items_base=frozenset({\"'AddKetoneActivity.java'\", \"'AddCholesterolActivity.java'\"}), items_add=frozenset({\"'AddA1CActivity.java'\", \"'AddGlucoseActivity.java'\"}), confidence=0.5454545454545455, lift=9.272727272727273), OrderedStatistic(items_base=frozenset({\"'AddKetoneActivity.java'\", \"'AddGlucoseActivity.java'\"}), items_add=frozenset({\"'AddA1CActivity.java'\", \"'AddCholesterolActivity.java'\"}), confidence=0.631578947368421, lift=9.969924812030076), OrderedStatistic(items_base=frozenset({\"'AddA1CActivity.java'\", \"'AddGlucoseActivity.java'\", \"'AddCholesterolActivity.java'\"}), items_add=frozenset({\"'AddKetoneActivity.java'\"}), confidence=1.0, lift=9.208333333333334), OrderedStatistic(items_base=frozenset({\"'AddA1CActivity.java'\", \"'AddKetoneActivity.java'\", \"'AddCholesterolActivity.java'\"}), items_add=frozenset({\"'AddGlucoseActivity.java'\"}), confidence=0.8571428571428572, lift=4.620209059233449), OrderedStatistic(items_base=frozenset({\"'AddA1CActivity.java'\", \"'AddKetoneActivity.java'\", \"'AddGlucoseActivity.java'\"}), items_add=frozenset({\"'AddCholesterolActivity.java'\"}), confidence=1.0, lift=10.045454545454547), OrderedStatistic(items_base=frozenset({\"'AddKetoneActivity.java'\", \"'AddGlucoseActivity.java'\", \"'AddCholesterolActivity.java'\"}), items_add=frozenset({\"'AddA1CActivity.java'\"}), confidence=0.631578947368421, lift=8.723684210526315)])\n",
            "RelationRecord(items=frozenset({\"'AddA1CActivity.java'\", \"'AddKetoneActivity.java'\", \"'AddPressureActivity.java'\", \"'AddCholesterolActivity.java'\"}), support=0.058823529411764705, ordered_statistics=[OrderedStatistic(items_base=frozenset(), items_add=frozenset({\"'AddA1CActivity.java'\", \"'AddKetoneActivity.java'\", \"'AddPressureActivity.java'\", \"'AddCholesterolActivity.java'\"}), confidence=0.058823529411764705, lift=1.0), OrderedStatistic(items_base=frozenset({\"'AddA1CActivity.java'\"}), items_add=frozenset({\"'AddCholesterolActivity.java'\", \"'AddPressureActivity.java'\", \"'AddKetoneActivity.java'\"}), confidence=0.8124999999999999, lift=8.550595238095237), OrderedStatistic(items_base=frozenset({\"'AddCholesterolActivity.java'\"}), items_add=frozenset({\"'AddA1CActivity.java'\", \"'AddPressureActivity.java'\", \"'AddKetoneActivity.java'\"}), confidence=0.5909090909090909, lift=10.045454545454547), OrderedStatistic(items_base=frozenset({\"'AddKetoneActivity.java'\"}), items_add=frozenset({\"'AddA1CActivity.java'\", \"'AddCholesterolActivity.java'\", \"'AddPressureActivity.java'\"}), confidence=0.5416666666666666, lift=9.208333333333332), OrderedStatistic(items_base=frozenset({\"'AddPressureActivity.java'\"}), items_add=frozenset({\"'AddA1CActivity.java'\", \"'AddCholesterolActivity.java'\", \"'AddKetoneActivity.java'\"}), confidence=0.6190476190476191, lift=9.772108843537415), OrderedStatistic(items_base=frozenset({\"'AddA1CActivity.java'\", \"'AddCholesterolActivity.java'\"}), items_add=frozenset({\"'AddPressureActivity.java'\", \"'AddKetoneActivity.java'\"}), confidence=0.9285714285714286, lift=9.772108843537415), OrderedStatistic(items_base=frozenset({\"'AddA1CActivity.java'\", \"'AddKetoneActivity.java'\"}), items_add=frozenset({\"'AddCholesterolActivity.java'\", \"'AddPressureActivity.java'\"}), confidence=0.9285714285714286, lift=9.772108843537415), OrderedStatistic(items_base=frozenset({\"'AddA1CActivity.java'\", \"'AddPressureActivity.java'\"}), items_add=frozenset({\"'AddCholesterolActivity.java'\", \"'AddKetoneActivity.java'\"}), confidence=1.0, lift=10.045454545454547), OrderedStatistic(items_base=frozenset({\"'AddKetoneActivity.java'\", \"'AddCholesterolActivity.java'\"}), items_add=frozenset({\"'AddA1CActivity.java'\", \"'AddPressureActivity.java'\"}), confidence=0.5909090909090909, lift=10.045454545454547), OrderedStatistic(items_base=frozenset({\"'AddPressureActivity.java'\", \"'AddCholesterolActivity.java'\"}), items_add=frozenset({\"'AddA1CActivity.java'\", \"'AddKetoneActivity.java'\"}), confidence=0.6190476190476191, lift=9.772108843537415), OrderedStatistic(items_base=frozenset({\"'AddPressureActivity.java'\", \"'AddKetoneActivity.java'\"}), items_add=frozenset({\"'AddA1CActivity.java'\", \"'AddCholesterolActivity.java'\"}), confidence=0.6190476190476191, lift=9.772108843537415), OrderedStatistic(items_base=frozenset({\"'AddA1CActivity.java'\", \"'AddKetoneActivity.java'\", \"'AddCholesterolActivity.java'\"}), items_add=frozenset({\"'AddPressureActivity.java'\"}), confidence=0.9285714285714286, lift=9.772108843537415), OrderedStatistic(items_base=frozenset({\"'AddA1CActivity.java'\", \"'AddPressureActivity.java'\", \"'AddCholesterolActivity.java'\"}), items_add=frozenset({\"'AddKetoneActivity.java'\"}), confidence=1.0, lift=9.208333333333334), OrderedStatistic(items_base=frozenset({\"'AddA1CActivity.java'\", \"'AddPressureActivity.java'\", \"'AddKetoneActivity.java'\"}), items_add=frozenset({\"'AddCholesterolActivity.java'\"}), confidence=1.0, lift=10.045454545454547), OrderedStatistic(items_base=frozenset({\"'AddKetoneActivity.java'\", \"'AddPressureActivity.java'\", \"'AddCholesterolActivity.java'\"}), items_add=frozenset({\"'AddA1CActivity.java'\"}), confidence=0.6190476190476191, lift=8.550595238095237)])\n",
            "RelationRecord(items=frozenset({\"'AddA1CActivity.java'\", \"'AddKetoneActivity.java'\", \"'AddWeightActivity.java'\", \"'AddCholesterolActivity.java'\"}), support=0.05429864253393665, ordered_statistics=[OrderedStatistic(items_base=frozenset(), items_add=frozenset({\"'AddA1CActivity.java'\", \"'AddKetoneActivity.java'\", \"'AddWeightActivity.java'\", \"'AddCholesterolActivity.java'\"}), confidence=0.05429864253393665, lift=1.0), OrderedStatistic(items_base=frozenset({\"'AddA1CActivity.java'\"}), items_add=frozenset({\"'AddCholesterolActivity.java'\", \"'AddWeightActivity.java'\", \"'AddKetoneActivity.java'\"}), confidence=0.75, lift=8.723684210526315), OrderedStatistic(items_base=frozenset({\"'AddCholesterolActivity.java'\"}), items_add=frozenset({\"'AddA1CActivity.java'\", \"'AddWeightActivity.java'\", \"'AddKetoneActivity.java'\"}), confidence=0.5454545454545455, lift=10.045454545454547), OrderedStatistic(items_base=frozenset({\"'AddKetoneActivity.java'\"}), items_add=frozenset({\"'AddA1CActivity.java'\", \"'AddWeightActivity.java'\", \"'AddCholesterolActivity.java'\"}), confidence=0.5, lift=9.208333333333334), OrderedStatistic(items_base=frozenset({\"'AddWeightActivity.java'\"}), items_add=frozenset({\"'AddA1CActivity.java'\", \"'AddCholesterolActivity.java'\", \"'AddKetoneActivity.java'\"}), confidence=0.46153846153846156, lift=7.2857142857142865), OrderedStatistic(items_base=frozenset({\"'AddA1CActivity.java'\", \"'AddCholesterolActivity.java'\"}), items_add=frozenset({\"'AddWeightActivity.java'\", \"'AddKetoneActivity.java'\"}), confidence=0.8571428571428572, lift=9.471428571428572), OrderedStatistic(items_base=frozenset({\"'AddA1CActivity.java'\", \"'AddKetoneActivity.java'\"}), items_add=frozenset({\"'AddWeightActivity.java'\", \"'AddCholesterolActivity.java'\"}), confidence=0.8571428571428572, lift=9.969924812030076), OrderedStatistic(items_base=frozenset({\"'AddA1CActivity.java'\", \"'AddWeightActivity.java'\"}), items_add=frozenset({\"'AddCholesterolActivity.java'\", \"'AddKetoneActivity.java'\"}), confidence=0.9230769230769231, lift=9.272727272727273), OrderedStatistic(items_base=frozenset({\"'AddKetoneActivity.java'\", \"'AddCholesterolActivity.java'\"}), items_add=frozenset({\"'AddA1CActivity.java'\", \"'AddWeightActivity.java'\"}), confidence=0.5454545454545455, lift=9.272727272727273), OrderedStatistic(items_base=frozenset({\"'AddWeightActivity.java'\", \"'AddCholesterolActivity.java'\"}), items_add=frozenset({\"'AddA1CActivity.java'\", \"'AddKetoneActivity.java'\"}), confidence=0.631578947368421, lift=9.969924812030076), OrderedStatistic(items_base=frozenset({\"'AddWeightActivity.java'\", \"'AddKetoneActivity.java'\"}), items_add=frozenset({\"'AddA1CActivity.java'\", \"'AddCholesterolActivity.java'\"}), confidence=0.6, lift=9.471428571428572), OrderedStatistic(items_base=frozenset({\"'AddA1CActivity.java'\", \"'AddKetoneActivity.java'\", \"'AddCholesterolActivity.java'\"}), items_add=frozenset({\"'AddWeightActivity.java'\"}), confidence=0.8571428571428572, lift=7.2857142857142865), OrderedStatistic(items_base=frozenset({\"'AddA1CActivity.java'\", \"'AddWeightActivity.java'\", \"'AddCholesterolActivity.java'\"}), items_add=frozenset({\"'AddKetoneActivity.java'\"}), confidence=1.0, lift=9.208333333333334), OrderedStatistic(items_base=frozenset({\"'AddA1CActivity.java'\", \"'AddWeightActivity.java'\", \"'AddKetoneActivity.java'\"}), items_add=frozenset({\"'AddCholesterolActivity.java'\"}), confidence=1.0, lift=10.045454545454547), OrderedStatistic(items_base=frozenset({\"'AddKetoneActivity.java'\", \"'AddWeightActivity.java'\", \"'AddCholesterolActivity.java'\"}), items_add=frozenset({\"'AddA1CActivity.java'\"}), confidence=0.631578947368421, lift=8.723684210526315)])\n",
            "RelationRecord(items=frozenset({\"'AddA1CActivity.java'\", \"'AddPressureActivity.java'\", \"'AddWeightActivity.java'\", \"'AddCholesterolActivity.java'\"}), support=0.05429864253393665, ordered_statistics=[OrderedStatistic(items_base=frozenset(), items_add=frozenset({\"'AddA1CActivity.java'\", \"'AddPressureActivity.java'\", \"'AddWeightActivity.java'\", \"'AddCholesterolActivity.java'\"}), confidence=0.05429864253393665, lift=1.0), OrderedStatistic(items_base=frozenset({\"'AddA1CActivity.java'\"}), items_add=frozenset({\"'AddCholesterolActivity.java'\", \"'AddWeightActivity.java'\", \"'AddPressureActivity.java'\"}), confidence=0.75, lift=8.723684210526315), OrderedStatistic(items_base=frozenset({\"'AddCholesterolActivity.java'\"}), items_add=frozenset({\"'AddA1CActivity.java'\", \"'AddWeightActivity.java'\", \"'AddPressureActivity.java'\"}), confidence=0.5454545454545455, lift=10.045454545454547), OrderedStatistic(items_base=frozenset({\"'AddPressureActivity.java'\"}), items_add=frozenset({\"'AddA1CActivity.java'\", \"'AddWeightActivity.java'\", \"'AddCholesterolActivity.java'\"}), confidence=0.5714285714285715, lift=10.523809523809526), OrderedStatistic(items_base=frozenset({\"'AddWeightActivity.java'\"}), items_add=frozenset({\"'AddA1CActivity.java'\", \"'AddCholesterolActivity.java'\", \"'AddPressureActivity.java'\"}), confidence=0.46153846153846156, lift=7.846153846153847), OrderedStatistic(items_base=frozenset({\"'AddA1CActivity.java'\", \"'AddCholesterolActivity.java'\"}), items_add=frozenset({\"'AddWeightActivity.java'\", \"'AddPressureActivity.java'\"}), confidence=0.8571428571428572, lift=9.969924812030076), OrderedStatistic(items_base=frozenset({\"'AddA1CActivity.java'\", \"'AddPressureActivity.java'\"}), items_add=frozenset({\"'AddWeightActivity.java'\", \"'AddCholesterolActivity.java'\"}), confidence=0.9230769230769231, lift=10.73684210526316), OrderedStatistic(items_base=frozenset({\"'AddA1CActivity.java'\", \"'AddWeightActivity.java'\"}), items_add=frozenset({\"'AddCholesterolActivity.java'\", \"'AddPressureActivity.java'\"}), confidence=0.9230769230769231, lift=9.714285714285715), OrderedStatistic(items_base=frozenset({\"'AddPressureActivity.java'\", \"'AddCholesterolActivity.java'\"}), items_add=frozenset({\"'AddA1CActivity.java'\", \"'AddWeightActivity.java'\"}), confidence=0.5714285714285715, lift=9.714285714285715), OrderedStatistic(items_base=frozenset({\"'AddWeightActivity.java'\", \"'AddCholesterolActivity.java'\"}), items_add=frozenset({\"'AddA1CActivity.java'\", \"'AddPressureActivity.java'\"}), confidence=0.631578947368421, lift=10.736842105263158), OrderedStatistic(items_base=frozenset({\"'AddWeightActivity.java'\", \"'AddPressureActivity.java'\"}), items_add=frozenset({\"'AddA1CActivity.java'\", \"'AddCholesterolActivity.java'\"}), confidence=0.631578947368421, lift=9.969924812030076), OrderedStatistic(items_base=frozenset({\"'AddA1CActivity.java'\", \"'AddPressureActivity.java'\", \"'AddCholesterolActivity.java'\"}), items_add=frozenset({\"'AddWeightActivity.java'\"}), confidence=0.9230769230769231, lift=7.846153846153847), OrderedStatistic(items_base=frozenset({\"'AddA1CActivity.java'\", \"'AddWeightActivity.java'\", \"'AddCholesterolActivity.java'\"}), items_add=frozenset({\"'AddPressureActivity.java'\"}), confidence=1.0, lift=10.523809523809524), OrderedStatistic(items_base=frozenset({\"'AddA1CActivity.java'\", \"'AddWeightActivity.java'\", \"'AddPressureActivity.java'\"}), items_add=frozenset({\"'AddCholesterolActivity.java'\"}), confidence=1.0, lift=10.045454545454547), OrderedStatistic(items_base=frozenset({\"'AddPressureActivity.java'\", \"'AddWeightActivity.java'\", \"'AddCholesterolActivity.java'\"}), items_add=frozenset({\"'AddA1CActivity.java'\"}), confidence=0.631578947368421, lift=8.723684210526315)])\n",
            "RelationRecord(items=frozenset({\"'AddA1CActivity.java'\", \"'AddPressureActivity.java'\", \"'AddWeightActivity.java'\", \"'AddKetoneActivity.java'\"}), support=0.05429864253393665, ordered_statistics=[OrderedStatistic(items_base=frozenset(), items_add=frozenset({\"'AddA1CActivity.java'\", \"'AddPressureActivity.java'\", \"'AddWeightActivity.java'\", \"'AddKetoneActivity.java'\"}), confidence=0.05429864253393665, lift=1.0), OrderedStatistic(items_base=frozenset({\"'AddA1CActivity.java'\"}), items_add=frozenset({\"'AddKetoneActivity.java'\", \"'AddWeightActivity.java'\", \"'AddPressureActivity.java'\"}), confidence=0.75, lift=8.723684210526315), OrderedStatistic(items_base=frozenset({\"'AddKetoneActivity.java'\"}), items_add=frozenset({\"'AddA1CActivity.java'\", \"'AddWeightActivity.java'\", \"'AddPressureActivity.java'\"}), confidence=0.5, lift=9.208333333333334), OrderedStatistic(items_base=frozenset({\"'AddPressureActivity.java'\"}), items_add=frozenset({\"'AddA1CActivity.java'\", \"'AddWeightActivity.java'\", \"'AddKetoneActivity.java'\"}), confidence=0.5714285714285715, lift=10.523809523809526), OrderedStatistic(items_base=frozenset({\"'AddWeightActivity.java'\"}), items_add=frozenset({\"'AddA1CActivity.java'\", \"'AddKetoneActivity.java'\", \"'AddPressureActivity.java'\"}), confidence=0.46153846153846156, lift=7.846153846153847), OrderedStatistic(items_base=frozenset({\"'AddA1CActivity.java'\", \"'AddKetoneActivity.java'\"}), items_add=frozenset({\"'AddWeightActivity.java'\", \"'AddPressureActivity.java'\"}), confidence=0.8571428571428572, lift=9.969924812030076), OrderedStatistic(items_base=frozenset({\"'AddA1CActivity.java'\", \"'AddPressureActivity.java'\"}), items_add=frozenset({\"'AddWeightActivity.java'\", \"'AddKetoneActivity.java'\"}), confidence=0.9230769230769231, lift=10.200000000000001), OrderedStatistic(items_base=frozenset({\"'AddA1CActivity.java'\", \"'AddWeightActivity.java'\"}), items_add=frozenset({\"'AddKetoneActivity.java'\", \"'AddPressureActivity.java'\"}), confidence=0.9230769230769231, lift=9.714285714285715), OrderedStatistic(items_base=frozenset({\"'AddPressureActivity.java'\", \"'AddKetoneActivity.java'\"}), items_add=frozenset({\"'AddA1CActivity.java'\", \"'AddWeightActivity.java'\"}), confidence=0.5714285714285715, lift=9.714285714285715), OrderedStatistic(items_base=frozenset({\"'AddWeightActivity.java'\", \"'AddKetoneActivity.java'\"}), items_add=frozenset({\"'AddA1CActivity.java'\", \"'AddPressureActivity.java'\"}), confidence=0.6, lift=10.2), OrderedStatistic(items_base=frozenset({\"'AddWeightActivity.java'\", \"'AddPressureActivity.java'\"}), items_add=frozenset({\"'AddA1CActivity.java'\", \"'AddKetoneActivity.java'\"}), confidence=0.631578947368421, lift=9.969924812030076), OrderedStatistic(items_base=frozenset({\"'AddA1CActivity.java'\", \"'AddPressureActivity.java'\", \"'AddKetoneActivity.java'\"}), items_add=frozenset({\"'AddWeightActivity.java'\"}), confidence=0.9230769230769231, lift=7.846153846153847), OrderedStatistic(items_base=frozenset({\"'AddA1CActivity.java'\", \"'AddWeightActivity.java'\", \"'AddKetoneActivity.java'\"}), items_add=frozenset({\"'AddPressureActivity.java'\"}), confidence=1.0, lift=10.523809523809524), OrderedStatistic(items_base=frozenset({\"'AddA1CActivity.java'\", \"'AddWeightActivity.java'\", \"'AddPressureActivity.java'\"}), items_add=frozenset({\"'AddKetoneActivity.java'\"}), confidence=1.0, lift=9.208333333333334), OrderedStatistic(items_base=frozenset({\"'AddPressureActivity.java'\", \"'AddWeightActivity.java'\", \"'AddKetoneActivity.java'\"}), items_add=frozenset({\"'AddA1CActivity.java'\"}), confidence=0.631578947368421, lift=8.723684210526315)])\n",
            "RelationRecord(items=frozenset({\"'AddPressureActivity.java'\", \"'AddKetoneActivity.java'\", \"'AddGlucoseActivity.java'\", \"'AddCholesterolActivity.java'\"}), support=0.08144796380090498, ordered_statistics=[OrderedStatistic(items_base=frozenset(), items_add=frozenset({\"'AddPressureActivity.java'\", \"'AddKetoneActivity.java'\", \"'AddGlucoseActivity.java'\", \"'AddCholesterolActivity.java'\"}), confidence=0.08144796380090498, lift=1.0), OrderedStatistic(items_base=frozenset({\"'AddCholesterolActivity.java'\"}), items_add=frozenset({\"'AddKetoneActivity.java'\", \"'AddGlucoseActivity.java'\", \"'AddPressureActivity.java'\"}), confidence=0.8181818181818182, lift=10.045454545454545), OrderedStatistic(items_base=frozenset({\"'AddGlucoseActivity.java'\"}), items_add=frozenset({\"'AddCholesterolActivity.java'\", \"'AddKetoneActivity.java'\", \"'AddPressureActivity.java'\"}), confidence=0.43902439024390244, lift=4.62020905923345), OrderedStatistic(items_base=frozenset({\"'AddKetoneActivity.java'\"}), items_add=frozenset({\"'AddCholesterolActivity.java'\", \"'AddGlucoseActivity.java'\", \"'AddPressureActivity.java'\"}), confidence=0.75, lift=9.208333333333334), OrderedStatistic(items_base=frozenset({\"'AddPressureActivity.java'\"}), items_add=frozenset({\"'AddCholesterolActivity.java'\", \"'AddGlucoseActivity.java'\", \"'AddKetoneActivity.java'\"}), confidence=0.8571428571428572, lift=9.969924812030076), OrderedStatistic(items_base=frozenset({\"'AddGlucoseActivity.java'\", \"'AddCholesterolActivity.java'\"}), items_add=frozenset({\"'AddKetoneActivity.java'\", \"'AddPressureActivity.java'\"}), confidence=0.9473684210526316, lift=9.969924812030076), OrderedStatistic(items_base=frozenset({\"'AddKetoneActivity.java'\", \"'AddCholesterolActivity.java'\"}), items_add=frozenset({\"'AddGlucoseActivity.java'\", \"'AddPressureActivity.java'\"}), confidence=0.8181818181818182, lift=10.045454545454545), OrderedStatistic(items_base=frozenset({\"'AddPressureActivity.java'\", \"'AddCholesterolActivity.java'\"}), items_add=frozenset({\"'AddGlucoseActivity.java'\", \"'AddKetoneActivity.java'\"}), confidence=0.8571428571428572, lift=9.969924812030076), OrderedStatistic(items_base=frozenset({\"'AddKetoneActivity.java'\", \"'AddGlucoseActivity.java'\"}), items_add=frozenset({\"'AddCholesterolActivity.java'\", \"'AddPressureActivity.java'\"}), confidence=0.9473684210526316, lift=9.969924812030076), OrderedStatistic(items_base=frozenset({\"'AddPressureActivity.java'\", \"'AddGlucoseActivity.java'\"}), items_add=frozenset({\"'AddCholesterolActivity.java'\", \"'AddKetoneActivity.java'\"}), confidence=1.0, lift=10.045454545454547), OrderedStatistic(items_base=frozenset({\"'AddPressureActivity.java'\", \"'AddKetoneActivity.java'\"}), items_add=frozenset({\"'AddCholesterolActivity.java'\", \"'AddGlucoseActivity.java'\"}), confidence=0.8571428571428572, lift=9.969924812030076), OrderedStatistic(items_base=frozenset({\"'AddKetoneActivity.java'\", \"'AddGlucoseActivity.java'\", \"'AddCholesterolActivity.java'\"}), items_add=frozenset({\"'AddPressureActivity.java'\"}), confidence=0.9473684210526316, lift=9.969924812030076), OrderedStatistic(items_base=frozenset({\"'AddPressureActivity.java'\", \"'AddGlucoseActivity.java'\", \"'AddCholesterolActivity.java'\"}), items_add=frozenset({\"'AddKetoneActivity.java'\"}), confidence=1.0, lift=9.208333333333334), OrderedStatistic(items_base=frozenset({\"'AddKetoneActivity.java'\", \"'AddPressureActivity.java'\", \"'AddCholesterolActivity.java'\"}), items_add=frozenset({\"'AddGlucoseActivity.java'\"}), confidence=0.8571428571428572, lift=4.620209059233449), OrderedStatistic(items_base=frozenset({\"'AddKetoneActivity.java'\", \"'AddPressureActivity.java'\", \"'AddGlucoseActivity.java'\"}), items_add=frozenset({\"'AddCholesterolActivity.java'\"}), confidence=1.0, lift=10.045454545454547)])\n",
            "RelationRecord(items=frozenset({\"'AddKetoneActivity.java'\", \"'AddGlucoseActivity.java'\", \"'AddWeightActivity.java'\", \"'AddCholesterolActivity.java'\"}), support=0.07692307692307693, ordered_statistics=[OrderedStatistic(items_base=frozenset(), items_add=frozenset({\"'AddKetoneActivity.java'\", \"'AddGlucoseActivity.java'\", \"'AddWeightActivity.java'\", \"'AddCholesterolActivity.java'\"}), confidence=0.07692307692307693, lift=1.0), OrderedStatistic(items_base=frozenset({\"'AddCholesterolActivity.java'\"}), items_add=frozenset({\"'AddGlucoseActivity.java'\", \"'AddWeightActivity.java'\", \"'AddKetoneActivity.java'\"}), confidence=0.7727272727272728, lift=10.045454545454547), OrderedStatistic(items_base=frozenset({\"'AddGlucoseActivity.java'\"}), items_add=frozenset({\"'AddCholesterolActivity.java'\", \"'AddWeightActivity.java'\", \"'AddKetoneActivity.java'\"}), confidence=0.4146341463414634, lift=4.822849807445443), OrderedStatistic(items_base=frozenset({\"'AddKetoneActivity.java'\"}), items_add=frozenset({\"'AddCholesterolActivity.java'\", \"'AddWeightActivity.java'\", \"'AddGlucoseActivity.java'\"}), confidence=0.7083333333333334, lift=9.208333333333334), OrderedStatistic(items_base=frozenset({\"'AddWeightActivity.java'\"}), items_add=frozenset({\"'AddCholesterolActivity.java'\", \"'AddGlucoseActivity.java'\", \"'AddKetoneActivity.java'\"}), confidence=0.6538461538461539, lift=7.605263157894737), OrderedStatistic(items_base=frozenset({\"'AddGlucoseActivity.java'\", \"'AddCholesterolActivity.java'\"}), items_add=frozenset({\"'AddWeightActivity.java'\", \"'AddKetoneActivity.java'\"}), confidence=0.8947368421052632, lift=9.886842105263158), OrderedStatistic(items_base=frozenset({\"'AddKetoneActivity.java'\", \"'AddCholesterolActivity.java'\"}), items_add=frozenset({\"'AddWeightActivity.java'\", \"'AddGlucoseActivity.java'\"}), confidence=0.7727272727272728, lift=8.988038277511963), OrderedStatistic(items_base=frozenset({\"'AddWeightActivity.java'\", \"'AddCholesterolActivity.java'\"}), items_add=frozenset({\"'AddGlucoseActivity.java'\", \"'AddKetoneActivity.java'\"}), confidence=0.8947368421052632, lift=10.407202216066482), OrderedStatistic(items_base=frozenset({\"'AddKetoneActivity.java'\", \"'AddGlucoseActivity.java'\"}), items_add=frozenset({\"'AddWeightActivity.java'\", \"'AddCholesterolActivity.java'\"}), confidence=0.8947368421052632, lift=10.407202216066482), OrderedStatistic(items_base=frozenset({\"'AddWeightActivity.java'\", \"'AddGlucoseActivity.java'\"}), items_add=frozenset({\"'AddCholesterolActivity.java'\", \"'AddKetoneActivity.java'\"}), confidence=0.8947368421052632, lift=8.988038277511963), OrderedStatistic(items_base=frozenset({\"'AddWeightActivity.java'\", \"'AddKetoneActivity.java'\"}), items_add=frozenset({\"'AddCholesterolActivity.java'\", \"'AddGlucoseActivity.java'\"}), confidence=0.8500000000000001, lift=9.88684210526316), OrderedStatistic(items_base=frozenset({\"'AddKetoneActivity.java'\", \"'AddGlucoseActivity.java'\", \"'AddCholesterolActivity.java'\"}), items_add=frozenset({\"'AddWeightActivity.java'\"}), confidence=0.8947368421052632, lift=7.605263157894737), OrderedStatistic(items_base=frozenset({\"'AddGlucoseActivity.java'\", \"'AddWeightActivity.java'\", \"'AddCholesterolActivity.java'\"}), items_add=frozenset({\"'AddKetoneActivity.java'\"}), confidence=1.0, lift=9.208333333333334), OrderedStatistic(items_base=frozenset({\"'AddKetoneActivity.java'\", \"'AddWeightActivity.java'\", \"'AddCholesterolActivity.java'\"}), items_add=frozenset({\"'AddGlucoseActivity.java'\"}), confidence=0.8947368421052632, lift=4.822849807445443), OrderedStatistic(items_base=frozenset({\"'AddKetoneActivity.java'\", \"'AddWeightActivity.java'\", \"'AddGlucoseActivity.java'\"}), items_add=frozenset({\"'AddCholesterolActivity.java'\"}), confidence=1.0, lift=10.045454545454547)])\n",
            "RelationRecord(items=frozenset({\"'AddPressureActivity.java'\", \"'AddGlucoseActivity.java'\", \"'AddWeightActivity.java'\", \"'AddCholesterolActivity.java'\"}), support=0.07692307692307693, ordered_statistics=[OrderedStatistic(items_base=frozenset(), items_add=frozenset({\"'AddPressureActivity.java'\", \"'AddGlucoseActivity.java'\", \"'AddWeightActivity.java'\", \"'AddCholesterolActivity.java'\"}), confidence=0.07692307692307693, lift=1.0), OrderedStatistic(items_base=frozenset({\"'AddCholesterolActivity.java'\"}), items_add=frozenset({\"'AddGlucoseActivity.java'\", \"'AddWeightActivity.java'\", \"'AddPressureActivity.java'\"}), confidence=0.7727272727272728, lift=10.045454545454547), OrderedStatistic(items_base=frozenset({\"'AddGlucoseActivity.java'\"}), items_add=frozenset({\"'AddCholesterolActivity.java'\", \"'AddWeightActivity.java'\", \"'AddPressureActivity.java'\"}), confidence=0.4146341463414634, lift=4.822849807445443), OrderedStatistic(items_base=frozenset({\"'AddPressureActivity.java'\"}), items_add=frozenset({\"'AddCholesterolActivity.java'\", \"'AddWeightActivity.java'\", \"'AddGlucoseActivity.java'\"}), confidence=0.8095238095238096, lift=10.523809523809526), OrderedStatistic(items_base=frozenset({\"'AddWeightActivity.java'\"}), items_add=frozenset({\"'AddCholesterolActivity.java'\", \"'AddGlucoseActivity.java'\", \"'AddPressureActivity.java'\"}), confidence=0.6538461538461539, lift=8.027777777777777), OrderedStatistic(items_base=frozenset({\"'AddGlucoseActivity.java'\", \"'AddCholesterolActivity.java'\"}), items_add=frozenset({\"'AddWeightActivity.java'\", \"'AddPressureActivity.java'\"}), confidence=0.8947368421052632, lift=10.407202216066482), OrderedStatistic(items_base=frozenset({\"'AddPressureActivity.java'\", \"'AddCholesterolActivity.java'\"}), items_add=frozenset({\"'AddWeightActivity.java'\", \"'AddGlucoseActivity.java'\"}), confidence=0.8095238095238096, lift=9.416040100250628), OrderedStatistic(items_base=frozenset({\"'AddWeightActivity.java'\", \"'AddCholesterolActivity.java'\"}), items_add=frozenset({\"'AddGlucoseActivity.java'\", \"'AddPressureActivity.java'\"}), confidence=0.8947368421052632, lift=10.985380116959064), OrderedStatistic(items_base=frozenset({\"'AddPressureActivity.java'\", \"'AddGlucoseActivity.java'\"}), items_add=frozenset({\"'AddWeightActivity.java'\", \"'AddCholesterolActivity.java'\"}), confidence=0.9444444444444444, lift=10.985380116959064), OrderedStatistic(items_base=frozenset({\"'AddWeightActivity.java'\", \"'AddGlucoseActivity.java'\"}), items_add=frozenset({\"'AddCholesterolActivity.java'\", \"'AddPressureActivity.java'\"}), confidence=0.8947368421052632, lift=9.416040100250626), OrderedStatistic(items_base=frozenset({\"'AddWeightActivity.java'\", \"'AddPressureActivity.java'\"}), items_add=frozenset({\"'AddCholesterolActivity.java'\", \"'AddGlucoseActivity.java'\"}), confidence=0.8947368421052632, lift=10.407202216066482), OrderedStatistic(items_base=frozenset({\"'AddPressureActivity.java'\", \"'AddGlucoseActivity.java'\", \"'AddCholesterolActivity.java'\"}), items_add=frozenset({\"'AddWeightActivity.java'\"}), confidence=0.9444444444444444, lift=8.027777777777779), OrderedStatistic(items_base=frozenset({\"'AddGlucoseActivity.java'\", \"'AddWeightActivity.java'\", \"'AddCholesterolActivity.java'\"}), items_add=frozenset({\"'AddPressureActivity.java'\"}), confidence=1.0, lift=10.523809523809524), OrderedStatistic(items_base=frozenset({\"'AddPressureActivity.java'\", \"'AddWeightActivity.java'\", \"'AddCholesterolActivity.java'\"}), items_add=frozenset({\"'AddGlucoseActivity.java'\"}), confidence=0.8947368421052632, lift=4.822849807445443), OrderedStatistic(items_base=frozenset({\"'AddPressureActivity.java'\", \"'AddWeightActivity.java'\", \"'AddGlucoseActivity.java'\"}), items_add=frozenset({\"'AddCholesterolActivity.java'\"}), confidence=1.0, lift=10.045454545454547)])\n",
            "RelationRecord(items=frozenset({\"'AddKetoneActivity.java'\", \"'AddPressureActivity.java'\", \"'AddWeightActivity.java'\", \"'AddCholesterolActivity.java'\"}), support=0.08597285067873303, ordered_statistics=[OrderedStatistic(items_base=frozenset(), items_add=frozenset({\"'AddKetoneActivity.java'\", \"'AddPressureActivity.java'\", \"'AddWeightActivity.java'\", \"'AddCholesterolActivity.java'\"}), confidence=0.08597285067873303, lift=1.0), OrderedStatistic(items_base=frozenset({\"'AddCholesterolActivity.java'\"}), items_add=frozenset({\"'AddPressureActivity.java'\", \"'AddWeightActivity.java'\", \"'AddKetoneActivity.java'\"}), confidence=0.8636363636363636, lift=10.045454545454545), OrderedStatistic(items_base=frozenset({\"'AddKetoneActivity.java'\"}), items_add=frozenset({\"'AddCholesterolActivity.java'\", \"'AddWeightActivity.java'\", \"'AddPressureActivity.java'\"}), confidence=0.7916666666666666, lift=9.208333333333332), OrderedStatistic(items_base=frozenset({\"'AddPressureActivity.java'\"}), items_add=frozenset({\"'AddCholesterolActivity.java'\", \"'AddWeightActivity.java'\", \"'AddKetoneActivity.java'\"}), confidence=0.9047619047619048, lift=10.523809523809524), OrderedStatistic(items_base=frozenset({\"'AddWeightActivity.java'\"}), items_add=frozenset({\"'AddCholesterolActivity.java'\", \"'AddPressureActivity.java'\", \"'AddKetoneActivity.java'\"}), confidence=0.7307692307692307, lift=7.690476190476191), OrderedStatistic(items_base=frozenset({\"'AddKetoneActivity.java'\", \"'AddCholesterolActivity.java'\"}), items_add=frozenset({\"'AddWeightActivity.java'\", \"'AddPressureActivity.java'\"}), confidence=0.8636363636363636, lift=10.045454545454545), OrderedStatistic(items_base=frozenset({\"'AddPressureActivity.java'\", \"'AddCholesterolActivity.java'\"}), items_add=frozenset({\"'AddWeightActivity.java'\", \"'AddKetoneActivity.java'\"}), confidence=0.9047619047619048, lift=9.997619047619049), OrderedStatistic(items_base=frozenset({\"'AddWeightActivity.java'\", \"'AddCholesterolActivity.java'\"}), items_add=frozenset({\"'AddPressureActivity.java'\", \"'AddKetoneActivity.java'\"}), confidence=1.0, lift=10.523809523809524), OrderedStatistic(items_base=frozenset({\"'AddPressureActivity.java'\", \"'AddKetoneActivity.java'\"}), items_add=frozenset({\"'AddWeightActivity.java'\", \"'AddCholesterolActivity.java'\"}), confidence=0.9047619047619048, lift=10.523809523809524), OrderedStatistic(items_base=frozenset({\"'AddWeightActivity.java'\", \"'AddKetoneActivity.java'\"}), items_add=frozenset({\"'AddCholesterolActivity.java'\", \"'AddPressureActivity.java'\"}), confidence=0.9500000000000001, lift=9.997619047619049), OrderedStatistic(items_base=frozenset({\"'AddWeightActivity.java'\", \"'AddPressureActivity.java'\"}), items_add=frozenset({\"'AddCholesterolActivity.java'\", \"'AddKetoneActivity.java'\"}), confidence=1.0, lift=10.045454545454547), OrderedStatistic(items_base=frozenset({\"'AddKetoneActivity.java'\", \"'AddPressureActivity.java'\", \"'AddCholesterolActivity.java'\"}), items_add=frozenset({\"'AddWeightActivity.java'\"}), confidence=0.9047619047619048, lift=7.690476190476191), OrderedStatistic(items_base=frozenset({\"'AddKetoneActivity.java'\", \"'AddWeightActivity.java'\", \"'AddCholesterolActivity.java'\"}), items_add=frozenset({\"'AddPressureActivity.java'\"}), confidence=1.0, lift=10.523809523809524), OrderedStatistic(items_base=frozenset({\"'AddPressureActivity.java'\", \"'AddWeightActivity.java'\", \"'AddCholesterolActivity.java'\"}), items_add=frozenset({\"'AddKetoneActivity.java'\"}), confidence=1.0, lift=9.208333333333334), OrderedStatistic(items_base=frozenset({\"'AddPressureActivity.java'\", \"'AddWeightActivity.java'\", \"'AddKetoneActivity.java'\"}), items_add=frozenset({\"'AddCholesterolActivity.java'\"}), confidence=1.0, lift=10.045454545454547)])\n",
            "RelationRecord(items=frozenset({\"'AddKetoneActivity.java'\", \"'AddPressureActivity.java'\", \"'AddWeightActivity.java'\", \"'AddGlucoseActivity.java'\"}), support=0.07692307692307693, ordered_statistics=[OrderedStatistic(items_base=frozenset(), items_add=frozenset({\"'AddKetoneActivity.java'\", \"'AddPressureActivity.java'\", \"'AddWeightActivity.java'\", \"'AddGlucoseActivity.java'\"}), confidence=0.07692307692307693, lift=1.0), OrderedStatistic(items_base=frozenset({\"'AddGlucoseActivity.java'\"}), items_add=frozenset({\"'AddPressureActivity.java'\", \"'AddWeightActivity.java'\", \"'AddKetoneActivity.java'\"}), confidence=0.4146341463414634, lift=4.822849807445443), OrderedStatistic(items_base=frozenset({\"'AddKetoneActivity.java'\"}), items_add=frozenset({\"'AddGlucoseActivity.java'\", \"'AddWeightActivity.java'\", \"'AddPressureActivity.java'\"}), confidence=0.7083333333333334, lift=9.208333333333334), OrderedStatistic(items_base=frozenset({\"'AddPressureActivity.java'\"}), items_add=frozenset({\"'AddGlucoseActivity.java'\", \"'AddWeightActivity.java'\", \"'AddKetoneActivity.java'\"}), confidence=0.8095238095238096, lift=10.523809523809526), OrderedStatistic(items_base=frozenset({\"'AddWeightActivity.java'\"}), items_add=frozenset({\"'AddGlucoseActivity.java'\", \"'AddPressureActivity.java'\", \"'AddKetoneActivity.java'\"}), confidence=0.6538461538461539, lift=8.027777777777777), OrderedStatistic(items_base=frozenset({\"'AddKetoneActivity.java'\", \"'AddGlucoseActivity.java'\"}), items_add=frozenset({\"'AddWeightActivity.java'\", \"'AddPressureActivity.java'\"}), confidence=0.8947368421052632, lift=10.407202216066482), OrderedStatistic(items_base=frozenset({\"'AddPressureActivity.java'\", \"'AddGlucoseActivity.java'\"}), items_add=frozenset({\"'AddWeightActivity.java'\", \"'AddKetoneActivity.java'\"}), confidence=0.9444444444444444, lift=10.436111111111112), OrderedStatistic(items_base=frozenset({\"'AddWeightActivity.java'\", \"'AddGlucoseActivity.java'\"}), items_add=frozenset({\"'AddPressureActivity.java'\", \"'AddKetoneActivity.java'\"}), confidence=0.8947368421052632, lift=9.416040100250626), OrderedStatistic(items_base=frozenset({\"'AddPressureActivity.java'\", \"'AddKetoneActivity.java'\"}), items_add=frozenset({\"'AddWeightActivity.java'\", \"'AddGlucoseActivity.java'\"}), confidence=0.8095238095238096, lift=9.416040100250628), OrderedStatistic(items_base=frozenset({\"'AddWeightActivity.java'\", \"'AddKetoneActivity.java'\"}), items_add=frozenset({\"'AddGlucoseActivity.java'\", \"'AddPressureActivity.java'\"}), confidence=0.8500000000000001, lift=10.436111111111112), OrderedStatistic(items_base=frozenset({\"'AddWeightActivity.java'\", \"'AddPressureActivity.java'\"}), items_add=frozenset({\"'AddGlucoseActivity.java'\", \"'AddKetoneActivity.java'\"}), confidence=0.8947368421052632, lift=10.407202216066482), OrderedStatistic(items_base=frozenset({\"'AddKetoneActivity.java'\", \"'AddPressureActivity.java'\", \"'AddGlucoseActivity.java'\"}), items_add=frozenset({\"'AddWeightActivity.java'\"}), confidence=0.9444444444444444, lift=8.027777777777779), OrderedStatistic(items_base=frozenset({\"'AddKetoneActivity.java'\", \"'AddWeightActivity.java'\", \"'AddGlucoseActivity.java'\"}), items_add=frozenset({\"'AddPressureActivity.java'\"}), confidence=1.0, lift=10.523809523809524), OrderedStatistic(items_base=frozenset({\"'AddPressureActivity.java'\", \"'AddWeightActivity.java'\", \"'AddGlucoseActivity.java'\"}), items_add=frozenset({\"'AddKetoneActivity.java'\"}), confidence=1.0, lift=9.208333333333334), OrderedStatistic(items_base=frozenset({\"'AddPressureActivity.java'\", \"'AddWeightActivity.java'\", \"'AddKetoneActivity.java'\"}), items_add=frozenset({\"'AddGlucoseActivity.java'\"}), confidence=0.8947368421052632, lift=4.822849807445443)])\n",
            "RelationRecord(items=frozenset({\"'AddPressureActivity.java'\", \"'AddCholesterolActivity.java'\", \"'AddWeightActivity.java'\", \"'AddKetoneActivity.java'\", \"'AddA1CActivity.java'\"}), support=0.05429864253393665, ordered_statistics=[OrderedStatistic(items_base=frozenset(), items_add=frozenset({\"'AddCholesterolActivity.java'\", \"'AddKetoneActivity.java'\", \"'AddPressureActivity.java'\", \"'AddA1CActivity.java'\", \"'AddWeightActivity.java'\"}), confidence=0.05429864253393665, lift=1.0), OrderedStatistic(items_base=frozenset({\"'AddA1CActivity.java'\"}), items_add=frozenset({\"'AddCholesterolActivity.java'\", \"'AddKetoneActivity.java'\", \"'AddWeightActivity.java'\", \"'AddPressureActivity.java'\"}), confidence=0.75, lift=8.723684210526315), OrderedStatistic(items_base=frozenset({\"'AddCholesterolActivity.java'\"}), items_add=frozenset({\"'AddA1CActivity.java'\", \"'AddKetoneActivity.java'\", \"'AddWeightActivity.java'\", \"'AddPressureActivity.java'\"}), confidence=0.5454545454545455, lift=10.045454545454547), OrderedStatistic(items_base=frozenset({\"'AddKetoneActivity.java'\"}), items_add=frozenset({\"'AddA1CActivity.java'\", \"'AddCholesterolActivity.java'\", \"'AddWeightActivity.java'\", \"'AddPressureActivity.java'\"}), confidence=0.5, lift=9.208333333333334), OrderedStatistic(items_base=frozenset({\"'AddPressureActivity.java'\"}), items_add=frozenset({\"'AddA1CActivity.java'\", \"'AddKetoneActivity.java'\", \"'AddWeightActivity.java'\", \"'AddCholesterolActivity.java'\"}), confidence=0.5714285714285715, lift=10.523809523809526), OrderedStatistic(items_base=frozenset({\"'AddWeightActivity.java'\"}), items_add=frozenset({\"'AddCholesterolActivity.java'\", \"'AddKetoneActivity.java'\", \"'AddA1CActivity.java'\", \"'AddPressureActivity.java'\"}), confidence=0.46153846153846156, lift=7.846153846153847), OrderedStatistic(items_base=frozenset({\"'AddA1CActivity.java'\", \"'AddCholesterolActivity.java'\"}), items_add=frozenset({\"'AddKetoneActivity.java'\", \"'AddWeightActivity.java'\", \"'AddPressureActivity.java'\"}), confidence=0.8571428571428572, lift=9.969924812030076), OrderedStatistic(items_base=frozenset({\"'AddA1CActivity.java'\", \"'AddKetoneActivity.java'\"}), items_add=frozenset({\"'AddCholesterolActivity.java'\", \"'AddWeightActivity.java'\", \"'AddPressureActivity.java'\"}), confidence=0.8571428571428572, lift=9.969924812030076), OrderedStatistic(items_base=frozenset({\"'AddA1CActivity.java'\", \"'AddPressureActivity.java'\"}), items_add=frozenset({\"'AddKetoneActivity.java'\", \"'AddWeightActivity.java'\", \"'AddCholesterolActivity.java'\"}), confidence=0.9230769230769231, lift=10.73684210526316), OrderedStatistic(items_base=frozenset({\"'AddA1CActivity.java'\", \"'AddWeightActivity.java'\"}), items_add=frozenset({\"'AddCholesterolActivity.java'\", \"'AddKetoneActivity.java'\", \"'AddPressureActivity.java'\"}), confidence=0.9230769230769231, lift=9.714285714285715), OrderedStatistic(items_base=frozenset({\"'AddKetoneActivity.java'\", \"'AddCholesterolActivity.java'\"}), items_add=frozenset({\"'AddA1CActivity.java'\", \"'AddWeightActivity.java'\", \"'AddPressureActivity.java'\"}), confidence=0.5454545454545455, lift=10.045454545454547), OrderedStatistic(items_base=frozenset({\"'AddPressureActivity.java'\", \"'AddCholesterolActivity.java'\"}), items_add=frozenset({\"'AddA1CActivity.java'\", \"'AddWeightActivity.java'\", \"'AddKetoneActivity.java'\"}), confidence=0.5714285714285715, lift=10.523809523809526), OrderedStatistic(items_base=frozenset({\"'AddWeightActivity.java'\", \"'AddCholesterolActivity.java'\"}), items_add=frozenset({\"'AddA1CActivity.java'\", \"'AddKetoneActivity.java'\", \"'AddPressureActivity.java'\"}), confidence=0.631578947368421, lift=10.736842105263158), OrderedStatistic(items_base=frozenset({\"'AddPressureActivity.java'\", \"'AddKetoneActivity.java'\"}), items_add=frozenset({\"'AddA1CActivity.java'\", \"'AddWeightActivity.java'\", \"'AddCholesterolActivity.java'\"}), confidence=0.5714285714285715, lift=10.523809523809526), OrderedStatistic(items_base=frozenset({\"'AddWeightActivity.java'\", \"'AddKetoneActivity.java'\"}), items_add=frozenset({\"'AddCholesterolActivity.java'\", \"'AddA1CActivity.java'\", \"'AddPressureActivity.java'\"}), confidence=0.6, lift=10.2), OrderedStatistic(items_base=frozenset({\"'AddWeightActivity.java'\", \"'AddPressureActivity.java'\"}), items_add=frozenset({\"'AddA1CActivity.java'\", \"'AddKetoneActivity.java'\", \"'AddCholesterolActivity.java'\"}), confidence=0.631578947368421, lift=9.969924812030076), OrderedStatistic(items_base=frozenset({\"'AddA1CActivity.java'\", \"'AddKetoneActivity.java'\", \"'AddCholesterolActivity.java'\"}), items_add=frozenset({\"'AddWeightActivity.java'\", \"'AddPressureActivity.java'\"}), confidence=0.8571428571428572, lift=9.969924812030076), OrderedStatistic(items_base=frozenset({\"'AddA1CActivity.java'\", \"'AddPressureActivity.java'\", \"'AddCholesterolActivity.java'\"}), items_add=frozenset({\"'AddWeightActivity.java'\", \"'AddKetoneActivity.java'\"}), confidence=0.9230769230769231, lift=10.200000000000001), OrderedStatistic(items_base=frozenset({\"'AddA1CActivity.java'\", \"'AddWeightActivity.java'\", \"'AddCholesterolActivity.java'\"}), items_add=frozenset({\"'AddKetoneActivity.java'\", \"'AddPressureActivity.java'\"}), confidence=1.0, lift=10.523809523809524), OrderedStatistic(items_base=frozenset({\"'AddA1CActivity.java'\", \"'AddPressureActivity.java'\", \"'AddKetoneActivity.java'\"}), items_add=frozenset({\"'AddWeightActivity.java'\", \"'AddCholesterolActivity.java'\"}), confidence=0.9230769230769231, lift=10.73684210526316), OrderedStatistic(items_base=frozenset({\"'AddA1CActivity.java'\", \"'AddWeightActivity.java'\", \"'AddKetoneActivity.java'\"}), items_add=frozenset({\"'AddCholesterolActivity.java'\", \"'AddPressureActivity.java'\"}), confidence=1.0, lift=10.523809523809524), OrderedStatistic(items_base=frozenset({\"'AddA1CActivity.java'\", \"'AddWeightActivity.java'\", \"'AddPressureActivity.java'\"}), items_add=frozenset({\"'AddKetoneActivity.java'\", \"'AddCholesterolActivity.java'\"}), confidence=1.0, lift=10.045454545454547), OrderedStatistic(items_base=frozenset({\"'AddKetoneActivity.java'\", \"'AddPressureActivity.java'\", \"'AddCholesterolActivity.java'\"}), items_add=frozenset({\"'AddA1CActivity.java'\", \"'AddWeightActivity.java'\"}), confidence=0.5714285714285715, lift=9.714285714285715), OrderedStatistic(items_base=frozenset({\"'AddKetoneActivity.java'\", \"'AddWeightActivity.java'\", \"'AddCholesterolActivity.java'\"}), items_add=frozenset({\"'AddA1CActivity.java'\", \"'AddPressureActivity.java'\"}), confidence=0.631578947368421, lift=10.736842105263158), OrderedStatistic(items_base=frozenset({\"'AddPressureActivity.java'\", \"'AddWeightActivity.java'\", \"'AddCholesterolActivity.java'\"}), items_add=frozenset({\"'AddA1CActivity.java'\", \"'AddKetoneActivity.java'\"}), confidence=0.631578947368421, lift=9.969924812030076), OrderedStatistic(items_base=frozenset({\"'AddPressureActivity.java'\", \"'AddWeightActivity.java'\", \"'AddKetoneActivity.java'\"}), items_add=frozenset({\"'AddA1CActivity.java'\", \"'AddCholesterolActivity.java'\"}), confidence=0.631578947368421, lift=9.969924812030076), OrderedStatistic(items_base=frozenset({\"'AddA1CActivity.java'\", \"'AddKetoneActivity.java'\", \"'AddPressureActivity.java'\", \"'AddCholesterolActivity.java'\"}), items_add=frozenset({\"'AddWeightActivity.java'\"}), confidence=0.9230769230769231, lift=7.846153846153847), OrderedStatistic(items_base=frozenset({\"'AddA1CActivity.java'\", \"'AddKetoneActivity.java'\", \"'AddWeightActivity.java'\", \"'AddCholesterolActivity.java'\"}), items_add=frozenset({\"'AddPressureActivity.java'\"}), confidence=1.0, lift=10.523809523809524), OrderedStatistic(items_base=frozenset({\"'AddA1CActivity.java'\", \"'AddPressureActivity.java'\", \"'AddWeightActivity.java'\", \"'AddCholesterolActivity.java'\"}), items_add=frozenset({\"'AddKetoneActivity.java'\"}), confidence=1.0, lift=9.208333333333334), OrderedStatistic(items_base=frozenset({\"'AddA1CActivity.java'\", \"'AddPressureActivity.java'\", \"'AddWeightActivity.java'\", \"'AddKetoneActivity.java'\"}), items_add=frozenset({\"'AddCholesterolActivity.java'\"}), confidence=1.0, lift=10.045454545454547), OrderedStatistic(items_base=frozenset({\"'AddKetoneActivity.java'\", \"'AddPressureActivity.java'\", \"'AddWeightActivity.java'\", \"'AddCholesterolActivity.java'\"}), items_add=frozenset({\"'AddA1CActivity.java'\"}), confidence=0.631578947368421, lift=8.723684210526315)])\n",
            "RelationRecord(items=frozenset({\"'AddGlucoseActivity.java'\", \"'AddCholesterolActivity.java'\", \"'AddWeightActivity.java'\", \"'AddKetoneActivity.java'\", \"'AddPressureActivity.java'\"}), support=0.07692307692307693, ordered_statistics=[OrderedStatistic(items_base=frozenset(), items_add=frozenset({\"'AddCholesterolActivity.java'\", \"'AddKetoneActivity.java'\", \"'AddPressureActivity.java'\", \"'AddGlucoseActivity.java'\", \"'AddWeightActivity.java'\"}), confidence=0.07692307692307693, lift=1.0), OrderedStatistic(items_base=frozenset({\"'AddCholesterolActivity.java'\"}), items_add=frozenset({\"'AddPressureActivity.java'\", \"'AddKetoneActivity.java'\", \"'AddWeightActivity.java'\", \"'AddGlucoseActivity.java'\"}), confidence=0.7727272727272728, lift=10.045454545454547), OrderedStatistic(items_base=frozenset({\"'AddGlucoseActivity.java'\"}), items_add=frozenset({\"'AddPressureActivity.java'\", \"'AddKetoneActivity.java'\", \"'AddWeightActivity.java'\", \"'AddCholesterolActivity.java'\"}), confidence=0.4146341463414634, lift=4.822849807445443), OrderedStatistic(items_base=frozenset({\"'AddKetoneActivity.java'\"}), items_add=frozenset({\"'AddCholesterolActivity.java'\", \"'AddPressureActivity.java'\", \"'AddWeightActivity.java'\", \"'AddGlucoseActivity.java'\"}), confidence=0.7083333333333334, lift=9.208333333333334), OrderedStatistic(items_base=frozenset({\"'AddPressureActivity.java'\"}), items_add=frozenset({\"'AddCholesterolActivity.java'\", \"'AddKetoneActivity.java'\", \"'AddWeightActivity.java'\", \"'AddGlucoseActivity.java'\"}), confidence=0.8095238095238096, lift=10.523809523809526), OrderedStatistic(items_base=frozenset({\"'AddWeightActivity.java'\"}), items_add=frozenset({\"'AddCholesterolActivity.java'\", \"'AddKetoneActivity.java'\", \"'AddPressureActivity.java'\", \"'AddGlucoseActivity.java'\"}), confidence=0.6538461538461539, lift=8.027777777777777), OrderedStatistic(items_base=frozenset({\"'AddGlucoseActivity.java'\", \"'AddCholesterolActivity.java'\"}), items_add=frozenset({\"'AddPressureActivity.java'\", \"'AddWeightActivity.java'\", \"'AddKetoneActivity.java'\"}), confidence=0.8947368421052632, lift=10.407202216066482), OrderedStatistic(items_base=frozenset({\"'AddKetoneActivity.java'\", \"'AddCholesterolActivity.java'\"}), items_add=frozenset({\"'AddPressureActivity.java'\", \"'AddWeightActivity.java'\", \"'AddGlucoseActivity.java'\"}), confidence=0.7727272727272728, lift=10.045454545454547), OrderedStatistic(items_base=frozenset({\"'AddPressureActivity.java'\", \"'AddCholesterolActivity.java'\"}), items_add=frozenset({\"'AddKetoneActivity.java'\", \"'AddWeightActivity.java'\", \"'AddGlucoseActivity.java'\"}), confidence=0.8095238095238096, lift=10.523809523809526), OrderedStatistic(items_base=frozenset({\"'AddWeightActivity.java'\", \"'AddCholesterolActivity.java'\"}), items_add=frozenset({\"'AddKetoneActivity.java'\", \"'AddPressureActivity.java'\", \"'AddGlucoseActivity.java'\"}), confidence=0.8947368421052632, lift=10.985380116959064), OrderedStatistic(items_base=frozenset({\"'AddKetoneActivity.java'\", \"'AddGlucoseActivity.java'\"}), items_add=frozenset({\"'AddPressureActivity.java'\", \"'AddWeightActivity.java'\", \"'AddCholesterolActivity.java'\"}), confidence=0.8947368421052632, lift=10.407202216066482), OrderedStatistic(items_base=frozenset({\"'AddPressureActivity.java'\", \"'AddGlucoseActivity.java'\"}), items_add=frozenset({\"'AddKetoneActivity.java'\", \"'AddWeightActivity.java'\", \"'AddCholesterolActivity.java'\"}), confidence=0.9444444444444444, lift=10.985380116959064), OrderedStatistic(items_base=frozenset({\"'AddWeightActivity.java'\", \"'AddGlucoseActivity.java'\"}), items_add=frozenset({\"'AddKetoneActivity.java'\", \"'AddPressureActivity.java'\", \"'AddCholesterolActivity.java'\"}), confidence=0.8947368421052632, lift=9.416040100250626), OrderedStatistic(items_base=frozenset({\"'AddPressureActivity.java'\", \"'AddKetoneActivity.java'\"}), items_add=frozenset({\"'AddCholesterolActivity.java'\", \"'AddWeightActivity.java'\", \"'AddGlucoseActivity.java'\"}), confidence=0.8095238095238096, lift=10.523809523809526), OrderedStatistic(items_base=frozenset({\"'AddWeightActivity.java'\", \"'AddKetoneActivity.java'\"}), items_add=frozenset({\"'AddCholesterolActivity.java'\", \"'AddPressureActivity.java'\", \"'AddGlucoseActivity.java'\"}), confidence=0.8500000000000001, lift=10.436111111111112), OrderedStatistic(items_base=frozenset({\"'AddWeightActivity.java'\", \"'AddPressureActivity.java'\"}), items_add=frozenset({\"'AddCholesterolActivity.java'\", \"'AddKetoneActivity.java'\", \"'AddGlucoseActivity.java'\"}), confidence=0.8947368421052632, lift=10.407202216066482), OrderedStatistic(items_base=frozenset({\"'AddKetoneActivity.java'\", \"'AddGlucoseActivity.java'\", \"'AddCholesterolActivity.java'\"}), items_add=frozenset({\"'AddWeightActivity.java'\", \"'AddPressureActivity.java'\"}), confidence=0.8947368421052632, lift=10.407202216066482), OrderedStatistic(items_base=frozenset({\"'AddPressureActivity.java'\", \"'AddGlucoseActivity.java'\", \"'AddCholesterolActivity.java'\"}), items_add=frozenset({\"'AddWeightActivity.java'\", \"'AddKetoneActivity.java'\"}), confidence=0.9444444444444444, lift=10.436111111111112), OrderedStatistic(items_base=frozenset({\"'AddGlucoseActivity.java'\", \"'AddWeightActivity.java'\", \"'AddCholesterolActivity.java'\"}), items_add=frozenset({\"'AddPressureActivity.java'\", \"'AddKetoneActivity.java'\"}), confidence=1.0, lift=10.523809523809524), OrderedStatistic(items_base=frozenset({\"'AddKetoneActivity.java'\", \"'AddPressureActivity.java'\", \"'AddCholesterolActivity.java'\"}), items_add=frozenset({\"'AddWeightActivity.java'\", \"'AddGlucoseActivity.java'\"}), confidence=0.8095238095238096, lift=9.416040100250628), OrderedStatistic(items_base=frozenset({\"'AddKetoneActivity.java'\", \"'AddWeightActivity.java'\", \"'AddCholesterolActivity.java'\"}), items_add=frozenset({\"'AddPressureActivity.java'\", \"'AddGlucoseActivity.java'\"}), confidence=0.8947368421052632, lift=10.985380116959064), OrderedStatistic(items_base=frozenset({\"'AddPressureActivity.java'\", \"'AddWeightActivity.java'\", \"'AddCholesterolActivity.java'\"}), items_add=frozenset({\"'AddKetoneActivity.java'\", \"'AddGlucoseActivity.java'\"}), confidence=0.8947368421052632, lift=10.407202216066482), OrderedStatistic(items_base=frozenset({\"'AddKetoneActivity.java'\", \"'AddPressureActivity.java'\", \"'AddGlucoseActivity.java'\"}), items_add=frozenset({\"'AddWeightActivity.java'\", \"'AddCholesterolActivity.java'\"}), confidence=0.9444444444444444, lift=10.985380116959064), OrderedStatistic(items_base=frozenset({\"'AddKetoneActivity.java'\", \"'AddWeightActivity.java'\", \"'AddGlucoseActivity.java'\"}), items_add=frozenset({\"'AddPressureActivity.java'\", \"'AddCholesterolActivity.java'\"}), confidence=1.0, lift=10.523809523809524), OrderedStatistic(items_base=frozenset({\"'AddPressureActivity.java'\", \"'AddWeightActivity.java'\", \"'AddGlucoseActivity.java'\"}), items_add=frozenset({\"'AddKetoneActivity.java'\", \"'AddCholesterolActivity.java'\"}), confidence=1.0, lift=10.045454545454547), OrderedStatistic(items_base=frozenset({\"'AddPressureActivity.java'\", \"'AddWeightActivity.java'\", \"'AddKetoneActivity.java'\"}), items_add=frozenset({\"'AddCholesterolActivity.java'\", \"'AddGlucoseActivity.java'\"}), confidence=0.8947368421052632, lift=10.407202216066482), OrderedStatistic(items_base=frozenset({\"'AddPressureActivity.java'\", \"'AddKetoneActivity.java'\", \"'AddGlucoseActivity.java'\", \"'AddCholesterolActivity.java'\"}), items_add=frozenset({\"'AddWeightActivity.java'\"}), confidence=0.9444444444444444, lift=8.027777777777779), OrderedStatistic(items_base=frozenset({\"'AddKetoneActivity.java'\", \"'AddGlucoseActivity.java'\", \"'AddWeightActivity.java'\", \"'AddCholesterolActivity.java'\"}), items_add=frozenset({\"'AddPressureActivity.java'\"}), confidence=1.0, lift=10.523809523809524), OrderedStatistic(items_base=frozenset({\"'AddPressureActivity.java'\", \"'AddGlucoseActivity.java'\", \"'AddWeightActivity.java'\", \"'AddCholesterolActivity.java'\"}), items_add=frozenset({\"'AddKetoneActivity.java'\"}), confidence=1.0, lift=9.208333333333334), OrderedStatistic(items_base=frozenset({\"'AddKetoneActivity.java'\", \"'AddPressureActivity.java'\", \"'AddWeightActivity.java'\", \"'AddCholesterolActivity.java'\"}), items_add=frozenset({\"'AddGlucoseActivity.java'\"}), confidence=0.8947368421052632, lift=4.822849807445443), OrderedStatistic(items_base=frozenset({\"'AddKetoneActivity.java'\", \"'AddPressureActivity.java'\", \"'AddWeightActivity.java'\", \"'AddGlucoseActivity.java'\"}), items_add=frozenset({\"'AddCholesterolActivity.java'\"}), confidence=1.0, lift=10.045454545454547)])\n"
          ]
        }
      ]
    },
    {
      "cell_type": "markdown",
      "source": [
        "# TODO parse RelationRecord"
      ],
      "metadata": {
        "id": "NItDG4uTsFfN"
      }
    },
    {
      "cell_type": "code",
      "source": [
        "# See the items that were bought together with their support\n",
        "parsed_rules = []\n",
        "for i in range(0, len(rules_list)):\n",
        "    parsed_rules.append('RULE:\\t' + str(rules_list[i][0]) + '\\nSUPPORT:\\t' + str(rules_list[i][1]))"
      ],
      "metadata": {
        "id": "byl5cazCu7IQ"
      },
      "execution_count": null,
      "outputs": []
    },
    {
      "cell_type": "code",
      "source": [
        ""
      ],
      "metadata": {
        "id": "ejec4Exhupud"
      },
      "execution_count": null,
      "outputs": []
    },
    {
      "cell_type": "markdown",
      "source": [
        "### find transactions where this rules happened"
      ],
      "metadata": {
        "id": "XZmkmeTzu7sx"
      }
    },
    {
      "cell_type": "code",
      "source": [
        "print(df.loc[df['files_in_hash'] == \"'PreferencesActivity.java','LocaleHelper.java'\"])\n"
      ],
      "metadata": {
        "id": "V2aknyDxc-mu",
        "colab": {
          "base_uri": "https://localhost:8080/"
        },
        "outputId": "c0c152fd-18b0-4f9d-8d77-db850f3a1960"
      },
      "execution_count": 29,
      "outputs": [
        {
          "output_type": "stream",
          "name": "stdout",
          "text": [
            "                                      files_in_hash\n",
            "266  'PreferencesActivity.java','LocaleHelper.java'\n",
            "276  'PreferencesActivity.java','LocaleHelper.java'\n",
            "305  'PreferencesActivity.java','LocaleHelper.java'\n"
          ]
        }
      ]
    },
    {
      "cell_type": "code",
      "source": [
        "l_elem = ['OverviewFragment.java', 'DatabaseHandler.java']\n",
        "show_transactions_containing_items(df, 'files_in_hash',l_elem, print_elems=False)"
      ],
      "metadata": {
        "colab": {
          "base_uri": "https://localhost:8080/"
        },
        "id": "_SYEhXySE-kr",
        "outputId": "8c6b3303-fa38-4ddc-d709-dba41d693068"
      },
      "execution_count": 30,
      "outputs": [
        {
          "output_type": "stream",
          "name": "stdout",
          "text": [
            "Element count. Df len 584. 1ind: 93, 2dep: 25, 2ind: 92\n"
          ]
        }
      ]
    },
    {
      "cell_type": "code",
      "source": [
        "l_elem = ['AddCholesterolActivity.java', 'AddA1CActivity.java']\n",
        "show_transactions_containing_items(df,'files_in_hash', l_elem, print_elems=False)"
      ],
      "metadata": {
        "colab": {
          "base_uri": "https://localhost:8080/"
        },
        "id": "u-zAZTMuyMkq",
        "outputId": "78632248-bf22-4bc2-949c-f6f27f0bb7d7"
      },
      "execution_count": 31,
      "outputs": [
        {
          "output_type": "stream",
          "name": "stdout",
          "text": [
            "Element count. Df len 584. 1ind: 22, 2dep: 14, 2ind: 16\n"
          ]
        }
      ]
    },
    {
      "cell_type": "code",
      "source": [
        "l_elems = [\"'AddKetoneActivity.java'\", \"'AddWeightActivity.java'\", \"'AddGlucoseActivity.java'\", \"'AddPressureActivity.java'\"]\n",
        "show_transactions_containing_items(df, 'files_in_hash', l_elems, print_elems=False)"
      ],
      "metadata": {
        "colab": {
          "base_uri": "https://localhost:8080/"
        },
        "id": "Q2CfyyexydaI",
        "outputId": "556f261a-386b-4a5b-8735-0de3809e52c3"
      },
      "execution_count": 33,
      "outputs": [
        {
          "output_type": "stream",
          "name": "stdout",
          "text": [
            "Element count. Df len 584. 1ind: 25, 2dep: 20, 3dep: 17, 4dep: 17,\n",
            "    2ind: 26, 3ind: 47, 4ind: 21\n"
          ]
        }
      ]
    },
    {
      "cell_type": "code",
      "source": [
        "for e in l_elems:\n",
        "    print(e)"
      ],
      "metadata": {
        "id": "QSche_OQyqJW",
        "colab": {
          "base_uri": "https://localhost:8080/"
        },
        "outputId": "a5467059-0880-4489-c077-4ad5b601474a"
      },
      "execution_count": 34,
      "outputs": [
        {
          "output_type": "stream",
          "name": "stdout",
          "text": [
            "'AddKetoneActivity.java'\n",
            "'AddWeightActivity.java'\n",
            "'AddGlucoseActivity.java'\n",
            "'AddPressureActivity.java'\n"
          ]
        }
      ]
    },
    {
      "cell_type": "markdown",
      "source": [
        "## On week"
      ],
      "metadata": {
        "id": "tUx6juLTFK_Q"
      }
    },
    {
      "cell_type": "code",
      "source": [
        "# apyori.apriori needs apostrophes around each of the values of the transaction\n",
        "sql_statement = \"\"\"select\n",
        "strftime('%Y', date(commit_commiter_datetime)) as iso_yr,\n",
        "(strftime('%j', date(commit_commiter_datetime, '-3 days', 'weekday 4')) - 1) / 7 + 1 as iso_week,\n",
        "GROUP_CONCAT(\"'\" || file_name|| \"'\") as files_in_week\n",
        "--GROUP_CONCAT(distinct(\"'\" || file_name|| \"'\") ) as files_in_week\n",
        "from file_commit\n",
        "group by strftime('%Y', date(commit_commiter_datetime)),\n",
        "(strftime('%j', date(commit_commiter_datetime, '-3 days', 'weekday 4')) - 1) / 7 + 1;\"\"\"\n",
        "\n",
        "\n",
        "records, pruned_records, df = get_records(con_analytics_db, 'files_in_week', sql_statement, 2)"
      ],
      "metadata": {
        "colab": {
          "base_uri": "https://localhost:8080/"
        },
        "id": "NL3NZwGQXRgn",
        "outputId": "0a1d7ddc-dc1d-40bf-ebeb-4184fc4affb5"
      },
      "execution_count": 36,
      "outputs": [
        {
          "output_type": "stream",
          "name": "stdout",
          "text": [
            "df len:  87\n",
            "records len:  87\n",
            "pruned_records len:  78\n"
          ]
        }
      ]
    },
    {
      "cell_type": "code",
      "source": [
        "rules = apyori.apriori(records, min_confidence=0.1, min_support=0.1) # min_lift=0.2, \n",
        "rules_list = list(rules) # from generator save to list for further analysis\n",
        "print(len(rules_list))"
      ],
      "metadata": {
        "colab": {
          "base_uri": "https://localhost:8080/"
        },
        "id": "hu_tWni_XRnG",
        "outputId": "e4172f94-d79f-41d2-8d1c-06fb56a1dbcb"
      },
      "execution_count": 38,
      "outputs": [
        {
          "output_type": "stream",
          "name": "stdout",
          "text": [
            "379\n"
          ]
        }
      ]
    },
    {
      "cell_type": "code",
      "source": [
        "for r in rules_list[100:104]:\n",
        "    print(r)"
      ],
      "metadata": {
        "colab": {
          "base_uri": "https://localhost:8080/"
        },
        "id": "yusMjnYXE2rJ",
        "outputId": "7086c841-7033-4120-8d62-66e68d9f6a54"
      },
      "execution_count": 39,
      "outputs": [
        {
          "output_type": "stream",
          "name": "stdout",
          "text": [
            "RelationRecord(items=frozenset({\"'MainActivity.java'\", \"'ExportPresenter.java'\"}), support=0.1839080459770115, ordered_statistics=[OrderedStatistic(items_base=frozenset(), items_add=frozenset({\"'MainActivity.java'\", \"'ExportPresenter.java'\"}), confidence=0.1839080459770115, lift=1.0), OrderedStatistic(items_base=frozenset({\"'ExportPresenter.java'\"}), items_add=frozenset({\"'MainActivity.java'\"}), confidence=0.8888888888888888, lift=1.380952380952381), OrderedStatistic(items_base=frozenset({\"'MainActivity.java'\"}), items_add=frozenset({\"'ExportPresenter.java'\"}), confidence=0.2857142857142857, lift=1.380952380952381)])\n",
            "RelationRecord(items=frozenset({\"'ExportPresenter.java'\", \"'PreferencesActivity.java'\"}), support=0.11494252873563218, ordered_statistics=[OrderedStatistic(items_base=frozenset(), items_add=frozenset({\"'ExportPresenter.java'\", \"'PreferencesActivity.java'\"}), confidence=0.11494252873563218, lift=1.0), OrderedStatistic(items_base=frozenset({\"'ExportPresenter.java'\"}), items_add=frozenset({\"'PreferencesActivity.java'\"}), confidence=0.5555555555555556, lift=1.4646464646464648), OrderedStatistic(items_base=frozenset({\"'PreferencesActivity.java'\"}), items_add=frozenset({\"'ExportPresenter.java'\"}), confidence=0.30303030303030304, lift=1.4646464646464648)])\n",
            "RelationRecord(items=frozenset({\"'ExportPresenter.java'\", \"'ReadingToCSV.java'\"}), support=0.14942528735632185, ordered_statistics=[OrderedStatistic(items_base=frozenset(), items_add=frozenset({\"'ExportPresenter.java'\", \"'ReadingToCSV.java'\"}), confidence=0.14942528735632185, lift=1.0), OrderedStatistic(items_base=frozenset({\"'ExportPresenter.java'\"}), items_add=frozenset({\"'ReadingToCSV.java'\"}), confidence=0.7222222222222223, lift=3.141666666666667), OrderedStatistic(items_base=frozenset({\"'ReadingToCSV.java'\"}), items_add=frozenset({\"'ExportPresenter.java'\"}), confidence=0.65, lift=3.1416666666666666)])\n",
            "RelationRecord(items=frozenset({\"'MainActivity.java'\", \"'FormatDateTime.java'\"}), support=0.10344827586206896, ordered_statistics=[OrderedStatistic(items_base=frozenset(), items_add=frozenset({\"'MainActivity.java'\", \"'FormatDateTime.java'\"}), confidence=0.10344827586206896, lift=1.0), OrderedStatistic(items_base=frozenset({\"'FormatDateTime.java'\"}), items_add=frozenset({\"'MainActivity.java'\"}), confidence=0.75, lift=1.1651785714285714), OrderedStatistic(items_base=frozenset({\"'MainActivity.java'\"}), items_add=frozenset({\"'FormatDateTime.java'\"}), confidence=0.16071428571428573, lift=1.1651785714285716)])\n"
          ]
        }
      ]
    },
    {
      "cell_type": "code",
      "source": [
        "for r in rules_list[100:101]:\n",
        "  print(r.items)\n",
        "  print(r.support)\n",
        "  for os in r.ordered_statistics:\n",
        "      print(os)"
      ],
      "metadata": {
        "colab": {
          "base_uri": "https://localhost:8080/"
        },
        "id": "BkBaqOM_DeiL",
        "outputId": "c08d5709-17db-46a9-9d7d-b0c3710eaf77"
      },
      "execution_count": 40,
      "outputs": [
        {
          "output_type": "stream",
          "name": "stdout",
          "text": [
            "frozenset({\"'MainActivity.java'\", \"'ExportPresenter.java'\"})\n",
            "0.1839080459770115\n",
            "OrderedStatistic(items_base=frozenset(), items_add=frozenset({\"'MainActivity.java'\", \"'ExportPresenter.java'\"}), confidence=0.1839080459770115, lift=1.0)\n",
            "OrderedStatistic(items_base=frozenset({\"'ExportPresenter.java'\"}), items_add=frozenset({\"'MainActivity.java'\"}), confidence=0.8888888888888888, lift=1.380952380952381)\n",
            "OrderedStatistic(items_base=frozenset({\"'MainActivity.java'\"}), items_add=frozenset({\"'ExportPresenter.java'\"}), confidence=0.2857142857142857, lift=1.380952380952381)\n"
          ]
        }
      ]
    },
    {
      "cell_type": "code",
      "source": [
        "#l_elem = ['ExportPresenter,java', 'ReadingToCSV.java']\n",
        "#l_elem = ['AddKetoneActivity,java', 'AddWeightActivity.java']\n",
        "l_elem = ['AddCholesterolActivity.java', 'AddA1CActivity.java']\n",
        "show_transactions_containing_items(df, 'files_in_week', l_elem, print_elems=False)"
      ],
      "metadata": {
        "colab": {
          "base_uri": "https://localhost:8080/"
        },
        "id": "xWOOeUjqFTE9",
        "outputId": "427b762d-2acf-42ce-e713-6362845b69f5"
      },
      "execution_count": 41,
      "outputs": [
        {
          "output_type": "stream",
          "name": "stdout",
          "text": [
            "Element count. Df len 87. 1ind: 14, 2dep: 8, 2ind: 10\n"
          ]
        }
      ]
    },
    {
      "cell_type": "code",
      "source": [
        "l_elem = ['ExportPresenter.java', 'ReadingToCSV.java']\n",
        "#l_elem = ['AddKetoneActivity,java', 'AddWeightActivity.java']\n",
        "#l_elem = ['AddCholesterolActivity.java', 'AddA1CActivity.java']\n",
        "show_transactions_containing_items(df, 'files_in_week', l_elem, print_elems=False)"
      ],
      "metadata": {
        "colab": {
          "base_uri": "https://localhost:8080/"
        },
        "id": "qneoaViENs_3",
        "outputId": "f053055e-0cd6-48e9-a0cf-31d97d958bc6"
      },
      "execution_count": 42,
      "outputs": [
        {
          "output_type": "stream",
          "name": "stdout",
          "text": [
            "Element count. Df len 87. 1ind: 18, 2dep: 13, 2ind: 20\n"
          ]
        }
      ]
    },
    {
      "cell_type": "code",
      "source": [
        "rules = apyori.apriori(records, min_confidence=0.08, min_support=0.08) # min_lift=0.2, \n",
        "rules_list = list(rules) # from generator save to list for further analysis\n",
        "print(len(rules_list))"
      ],
      "metadata": {
        "colab": {
          "base_uri": "https://localhost:8080/"
        },
        "id": "ddemCZs6XRpe",
        "outputId": "26ee2f1b-03f5-481a-a3d1-c95a74612642"
      },
      "execution_count": 45,
      "outputs": [
        {
          "output_type": "stream",
          "name": "stdout",
          "text": [
            "1382\n"
          ]
        }
      ]
    },
    {
      "cell_type": "markdown",
      "source": [
        "# Structural coupling"
      ],
      "metadata": {
        "id": "-8BuaDrUOTpw"
      }
    },
    {
      "cell_type": "code",
      "source": [
        "l_elem = ['ExportPresenter.java', 'ReadingToCSV.java']"
      ],
      "metadata": {
        "id": "t6z0sjCwOTIN"
      },
      "execution_count": 46,
      "outputs": []
    },
    {
      "cell_type": "code",
      "source": [
        "exist_import_dependency(con_analytics_db, l_elem)"
      ],
      "metadata": {
        "colab": {
          "base_uri": "https://localhost:8080/"
        },
        "id": "e99coNT2dMfF",
        "outputId": "ffe84526-3e2a-462a-c92d-686667f355b3"
      },
      "execution_count": 49,
      "outputs": [
        {
          "output_type": "execute_result",
          "data": {
            "text/plain": [
              "[[1, ['ExportPresenter.java', 'ReadingToCSV.java']]]"
            ]
          },
          "metadata": {},
          "execution_count": 49
        }
      ]
    },
    {
      "cell_type": "code",
      "source": [
        "l_elem = ['ExportPresenter.java', 'bla.java']\n",
        "exist_import_dependency(con_analytics_db, l_elem)"
      ],
      "metadata": {
        "colab": {
          "base_uri": "https://localhost:8080/"
        },
        "id": "yFO70-ajherT",
        "outputId": "fbe740f3-f7b9-4026-d417-cca1e091d08f"
      },
      "execution_count": 51,
      "outputs": [
        {
          "output_type": "execute_result",
          "data": {
            "text/plain": [
              "[[0, ['ExportPresenter.java', 'bla.java']]]"
            ]
          },
          "metadata": {},
          "execution_count": 51
        }
      ]
    },
    {
      "cell_type": "code",
      "source": [
        "sql_statement = \"\"\"SELECT * FROM file_pkg where file_name in ('{0}','{1}')\"\"\".format('ExportPresenter.java', 'ReadingToCSV.java')\n",
        "df = pd.read_sql_query(sql_statement, con_analytics_db)"
      ],
      "metadata": {
        "id": "9zlsxTQkOpUo"
      },
      "execution_count": 52,
      "outputs": []
    },
    {
      "cell_type": "code",
      "source": [
        "print(df.head())"
      ],
      "metadata": {
        "colab": {
          "base_uri": "https://localhost:8080/"
        },
        "id": "79YbJMQcQ3fv",
        "outputId": "013d0e42-a610-4e6f-99c9-48e49fa7fa1d"
      },
      "execution_count": 53,
      "outputs": [
        {
          "output_type": "stream",
          "name": "stdout",
          "text": [
            "              file_name  ...                                       class_pkg\n",
            "0  ExportPresenter.java  ...  org.glucosio.android.presenter.ExportPresenter\n",
            "1     ReadingToCSV.java  ...         org.glucosio.android.tools.ReadingToCSV\n",
            "\n",
            "[2 rows x 5 columns]\n"
          ]
        }
      ]
    }
  ]
}